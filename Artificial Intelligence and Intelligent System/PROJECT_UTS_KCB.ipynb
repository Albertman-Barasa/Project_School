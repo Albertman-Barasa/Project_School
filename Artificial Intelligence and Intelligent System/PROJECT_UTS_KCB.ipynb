{
 "cells": [
  {
   "cell_type": "markdown",
   "metadata": {
    "id": "iXYynTg4HIdP",
    "tags": []
   },
   "source": [
    "# UTS - Laboratorium KCB 2\n",
    "Disini, kalian akan diuji dalam pemahaman kalian akan algoritma KNN, dan kemampuan kalian dalam membuat model KNN dan Regresi Linear."
   ]
  },
  {
   "cell_type": "markdown",
   "metadata": {
    "id": "1nh3pawwHSN2",
    "tags": []
   },
   "source": [
    "## Import Dependecies"
   ]
  },
  {
   "cell_type": "markdown",
   "metadata": {},
   "source": [
    "Panggil Library yang kalian butuhkan disini."
   ]
  },
  {
   "cell_type": "code",
   "execution_count": 59,
   "metadata": {
    "id": "zWbg4dC5HYAd"
   },
   "outputs": [],
   "source": [
    "# Panggil Library\n",
    "import pandas as pd               # Untuk tabel data\n",
    "from scipy import stats           # Untuk statistik\n",
    "import numpy as np                # Untuk perhitungan matriks dan data\n",
    "import seaborn as sns             # Untuk visualisasi data\n",
    "import matplotlib.pyplot as plt   # Untuk menampilkan data\n",
    "%matplotlib inline \n",
    "\n",
    "import statsmodels as sm\n",
    "from sklearn.model_selection import train_test_split \n",
    "from sklearn.metrics import mean_squared_error\n",
    "from sklearn import metrics\n",
    "from sklearn.linear_model import SGDRegressor # Regresi Linear dengan Gradient Descent\n",
    "\n",
    "\n",
    "from sklearn.metrics import classification_report, confusion_matrix, accuracy_score\n",
    "\n",
    "import warnings\n",
    "warnings.filterwarnings('ignore')"
   ]
  },
  {
   "cell_type": "markdown",
   "metadata": {
    "id": "Xlf5xU_3Har1",
    "tags": []
   },
   "source": [
    "## Load Dataset\n",
    "Disini panggil kedua dataset kalian, yang pertama untuk klasifikasi dan yang kedua untuk regresi.\n",
    "\n",
    "Untuk dataset regresi, kalian bebas menggunakan dataset apapun. Pastikan tidak sama dengan teman kalian. \n",
    "\n",
    "Jika sama, maka bagian regresi akan dianggap 0."
   ]
  },
  {
   "cell_type": "code",
   "execution_count": 2,
   "metadata": {
    "id": "oD7NzUOTHpqr"
   },
   "outputs": [],
   "source": [
    "# DataFrame pertama untuk klasifikasi\n",
    "gl = pd.read_csv('Galaxy_2.csv')\n",
    "\n",
    "# DataFrame kedua untuk regresi linear\n",
    "ds = pd.read_csv('ds_salaries.csv')"
   ]
  },
  {
   "cell_type": "markdown",
   "metadata": {
    "id": "DGCIjOGlJXXR"
   },
   "source": [
    "Coba panggil kedua data kalian."
   ]
  },
  {
   "cell_type": "markdown",
   "metadata": {},
   "source": [
    "### Dataset 1 untuk klasifikasi"
   ]
  },
  {
   "cell_type": "code",
   "execution_count": 3,
   "metadata": {
    "id": "zJ9cNTiXJZXf"
   },
   "outputs": [
    {
     "data": {
      "text/html": [
       "<div>\n",
       "<style scoped>\n",
       "    .dataframe tbody tr th:only-of-type {\n",
       "        vertical-align: middle;\n",
       "    }\n",
       "\n",
       "    .dataframe tbody tr th {\n",
       "        vertical-align: top;\n",
       "    }\n",
       "\n",
       "    .dataframe thead th {\n",
       "        text-align: right;\n",
       "    }\n",
       "</style>\n",
       "<table border=\"1\" class=\"dataframe\">\n",
       "  <thead>\n",
       "    <tr style=\"text-align: right;\">\n",
       "      <th></th>\n",
       "      <th>alpha</th>\n",
       "      <th>u</th>\n",
       "      <th>class</th>\n",
       "    </tr>\n",
       "  </thead>\n",
       "  <tbody>\n",
       "    <tr>\n",
       "      <th>0</th>\n",
       "      <td>135.689107</td>\n",
       "      <td>23.87882</td>\n",
       "      <td>GALAXY</td>\n",
       "    </tr>\n",
       "    <tr>\n",
       "      <th>1</th>\n",
       "      <td>144.826101</td>\n",
       "      <td>24.77759</td>\n",
       "      <td>GALAXY</td>\n",
       "    </tr>\n",
       "    <tr>\n",
       "      <th>2</th>\n",
       "      <td>142.188790</td>\n",
       "      <td>25.26307</td>\n",
       "      <td>GALAXY</td>\n",
       "    </tr>\n",
       "    <tr>\n",
       "      <th>3</th>\n",
       "      <td>338.741038</td>\n",
       "      <td>22.13682</td>\n",
       "      <td>GALAXY</td>\n",
       "    </tr>\n",
       "    <tr>\n",
       "      <th>4</th>\n",
       "      <td>345.282593</td>\n",
       "      <td>19.43718</td>\n",
       "      <td>GALAXY</td>\n",
       "    </tr>\n",
       "    <tr>\n",
       "      <th>...</th>\n",
       "      <td>...</td>\n",
       "      <td>...</td>\n",
       "      <td>...</td>\n",
       "    </tr>\n",
       "    <tr>\n",
       "      <th>99995</th>\n",
       "      <td>39.620709</td>\n",
       "      <td>22.16759</td>\n",
       "      <td>GALAXY</td>\n",
       "    </tr>\n",
       "    <tr>\n",
       "      <th>99996</th>\n",
       "      <td>29.493819</td>\n",
       "      <td>22.69118</td>\n",
       "      <td>GALAXY</td>\n",
       "    </tr>\n",
       "    <tr>\n",
       "      <th>99997</th>\n",
       "      <td>224.587407</td>\n",
       "      <td>21.16916</td>\n",
       "      <td>GALAXY</td>\n",
       "    </tr>\n",
       "    <tr>\n",
       "      <th>99998</th>\n",
       "      <td>212.268621</td>\n",
       "      <td>25.35039</td>\n",
       "      <td>GALAXY</td>\n",
       "    </tr>\n",
       "    <tr>\n",
       "      <th>99999</th>\n",
       "      <td>196.896053</td>\n",
       "      <td>22.62171</td>\n",
       "      <td>GALAXY</td>\n",
       "    </tr>\n",
       "  </tbody>\n",
       "</table>\n",
       "<p>100000 rows × 3 columns</p>\n",
       "</div>"
      ],
      "text/plain": [
       "            alpha         u   class\n",
       "0      135.689107  23.87882  GALAXY\n",
       "1      144.826101  24.77759  GALAXY\n",
       "2      142.188790  25.26307  GALAXY\n",
       "3      338.741038  22.13682  GALAXY\n",
       "4      345.282593  19.43718  GALAXY\n",
       "...           ...       ...     ...\n",
       "99995   39.620709  22.16759  GALAXY\n",
       "99996   29.493819  22.69118  GALAXY\n",
       "99997  224.587407  21.16916  GALAXY\n",
       "99998  212.268621  25.35039  GALAXY\n",
       "99999  196.896053  22.62171  GALAXY\n",
       "\n",
       "[100000 rows x 3 columns]"
      ]
     },
     "execution_count": 3,
     "metadata": {},
     "output_type": "execute_result"
    }
   ],
   "source": [
    "# Panggil data 1\n",
    "gl"
   ]
  },
  {
   "cell_type": "markdown",
   "metadata": {
    "tags": []
   },
   "source": [
    "#### Data Cleaning"
   ]
  },
  {
   "cell_type": "markdown",
   "metadata": {},
   "source": [
    "Kita lihat apakah ada data yang kosong ditiap kolom."
   ]
  },
  {
   "cell_type": "code",
   "execution_count": 4,
   "metadata": {},
   "outputs": [
    {
     "data": {
      "text/plain": [
       "alpha    0\n",
       "u        0\n",
       "class    0\n",
       "dtype: int64"
      ]
     },
     "execution_count": 4,
     "metadata": {},
     "output_type": "execute_result"
    }
   ],
   "source": [
    "gl.isnull().sum()"
   ]
  },
  {
   "cell_type": "markdown",
   "metadata": {
    "tags": []
   },
   "source": [
    "#### Data Wrangling"
   ]
  },
  {
   "cell_type": "code",
   "execution_count": 5,
   "metadata": {},
   "outputs": [
    {
     "data": {
      "text/plain": [
       "(100000, 3)"
      ]
     },
     "execution_count": 5,
     "metadata": {},
     "output_type": "execute_result"
    }
   ],
   "source": [
    "# Disini kita lihat bentuk data\n",
    "gl.shape"
   ]
  },
  {
   "cell_type": "code",
   "execution_count": 6,
   "metadata": {
    "tags": []
   },
   "outputs": [
    {
     "data": {
      "text/html": [
       "<div>\n",
       "<style scoped>\n",
       "    .dataframe tbody tr th:only-of-type {\n",
       "        vertical-align: middle;\n",
       "    }\n",
       "\n",
       "    .dataframe tbody tr th {\n",
       "        vertical-align: top;\n",
       "    }\n",
       "\n",
       "    .dataframe thead th {\n",
       "        text-align: right;\n",
       "    }\n",
       "</style>\n",
       "<table border=\"1\" class=\"dataframe\">\n",
       "  <thead>\n",
       "    <tr style=\"text-align: right;\">\n",
       "      <th></th>\n",
       "      <th>alpha</th>\n",
       "      <th>u</th>\n",
       "    </tr>\n",
       "  </thead>\n",
       "  <tbody>\n",
       "    <tr>\n",
       "      <th>count</th>\n",
       "      <td>100000.000000</td>\n",
       "      <td>100000.000000</td>\n",
       "    </tr>\n",
       "    <tr>\n",
       "      <th>mean</th>\n",
       "      <td>177.629117</td>\n",
       "      <td>21.980468</td>\n",
       "    </tr>\n",
       "    <tr>\n",
       "      <th>std</th>\n",
       "      <td>96.502241</td>\n",
       "      <td>31.769291</td>\n",
       "    </tr>\n",
       "    <tr>\n",
       "      <th>min</th>\n",
       "      <td>0.005528</td>\n",
       "      <td>-9999.000000</td>\n",
       "    </tr>\n",
       "    <tr>\n",
       "      <th>25%</th>\n",
       "      <td>127.518222</td>\n",
       "      <td>20.352353</td>\n",
       "    </tr>\n",
       "    <tr>\n",
       "      <th>50%</th>\n",
       "      <td>180.900700</td>\n",
       "      <td>22.179135</td>\n",
       "    </tr>\n",
       "    <tr>\n",
       "      <th>75%</th>\n",
       "      <td>233.895005</td>\n",
       "      <td>23.687440</td>\n",
       "    </tr>\n",
       "    <tr>\n",
       "      <th>max</th>\n",
       "      <td>359.999810</td>\n",
       "      <td>32.781390</td>\n",
       "    </tr>\n",
       "  </tbody>\n",
       "</table>\n",
       "</div>"
      ],
      "text/plain": [
       "               alpha              u\n",
       "count  100000.000000  100000.000000\n",
       "mean      177.629117      21.980468\n",
       "std        96.502241      31.769291\n",
       "min         0.005528   -9999.000000\n",
       "25%       127.518222      20.352353\n",
       "50%       180.900700      22.179135\n",
       "75%       233.895005      23.687440\n",
       "max       359.999810      32.781390"
      ]
     },
     "execution_count": 6,
     "metadata": {},
     "output_type": "execute_result"
    }
   ],
   "source": [
    "gl.describe()"
   ]
  },
  {
   "cell_type": "code",
   "execution_count": 7,
   "metadata": {},
   "outputs": [
    {
     "name": "stdout",
     "output_type": "stream",
     "text": [
      "<class 'pandas.core.frame.DataFrame'>\n",
      "RangeIndex: 100000 entries, 0 to 99999\n",
      "Data columns (total 3 columns):\n",
      " #   Column  Non-Null Count   Dtype  \n",
      "---  ------  --------------   -----  \n",
      " 0   alpha   100000 non-null  float64\n",
      " 1   u       100000 non-null  float64\n",
      " 2   class   100000 non-null  object \n",
      "dtypes: float64(2), object(1)\n",
      "memory usage: 2.3+ MB\n"
     ]
    }
   ],
   "source": [
    "gl.info()"
   ]
  },
  {
   "cell_type": "markdown",
   "metadata": {},
   "source": [
    "karena kolom class masih bertipe object, mari kita ganti ke tipe category"
   ]
  },
  {
   "cell_type": "code",
   "execution_count": 8,
   "metadata": {},
   "outputs": [
    {
     "data": {
      "text/plain": [
       "alpha     float64\n",
       "u         float64\n",
       "class    category\n",
       "dtype: object"
      ]
     },
     "execution_count": 8,
     "metadata": {},
     "output_type": "execute_result"
    }
   ],
   "source": [
    "# ubah tipe data\n",
    "gl[\"class\"] = gl[\"class\"].astype(\"category\")\n",
    "\n",
    "gl.dtypes"
   ]
  },
  {
   "cell_type": "markdown",
   "metadata": {
    "tags": []
   },
   "source": [
    "#### Exploratory Data Analysis"
   ]
  },
  {
   "cell_type": "markdown",
   "metadata": {},
   "source": [
    "Disini, kita akan lihat kondisi data untuk beberapa variabel. Disini juga kita lihat hubungan antar variabel, terutama bagaimana beberapa kolom berhubungan dengan kolom yang ingin kita prediksi, kolom class."
   ]
  },
  {
   "cell_type": "markdown",
   "metadata": {},
   "source": [
    "Pertama, coba kita lihat class, bagaimana komposisinya?"
   ]
  },
  {
   "cell_type": "code",
   "execution_count": 9,
   "metadata": {},
   "outputs": [
    {
     "data": {
      "text/plain": [
       "GALAXY    59445\n",
       "STAR      21594\n",
       "QSO       18961\n",
       "Name: class, dtype: int64"
      ]
     },
     "execution_count": 9,
     "metadata": {},
     "output_type": "execute_result"
    }
   ],
   "source": [
    "gl['class'].value_counts()"
   ]
  },
  {
   "cell_type": "code",
   "execution_count": 10,
   "metadata": {},
   "outputs": [
    {
     "data": {
      "text/plain": [
       "<AxesSubplot:xlabel='class', ylabel='count'>"
      ]
     },
     "execution_count": 10,
     "metadata": {},
     "output_type": "execute_result"
    },
    {
     "data": {
      "image/png": "[encoded data removed]",
      "text/plain": [
       "<Figure size 432x288 with 1 Axes>"
      ]
     },
     "metadata": {
      "needs_background": "light"
     },
     "output_type": "display_data"
    }
   ],
   "source": [
    "# Kita gunakan barchart\n",
    "sns.countplot(x='class',data=gl)"
   ]
  },
  {
   "cell_type": "markdown",
   "metadata": {},
   "source": [
    "Selanjutnya, coba kita lihat data-data yang numerik."
   ]
  },
  {
   "cell_type": "markdown",
   "metadata": {
    "id": "Z9SY5DFa0gRk"
   },
   "source": [
    "Sebelumnya, kita pecah data menjadi dua. Yaitu **variabel independen dan variabel dependen.** Kita buat terlebih dahulu variabel independen."
   ]
  },
  {
   "cell_type": "code",
   "execution_count": 11,
   "metadata": {},
   "outputs": [
    {
     "data": {
      "text/html": [
       "<div>\n",
       "<style scoped>\n",
       "    .dataframe tbody tr th:only-of-type {\n",
       "        vertical-align: middle;\n",
       "    }\n",
       "\n",
       "    .dataframe tbody tr th {\n",
       "        vertical-align: top;\n",
       "    }\n",
       "\n",
       "    .dataframe thead th {\n",
       "        text-align: right;\n",
       "    }\n",
       "</style>\n",
       "<table border=\"1\" class=\"dataframe\">\n",
       "  <thead>\n",
       "    <tr style=\"text-align: right;\">\n",
       "      <th></th>\n",
       "      <th>alpha</th>\n",
       "      <th>u</th>\n",
       "    </tr>\n",
       "  </thead>\n",
       "  <tbody>\n",
       "    <tr>\n",
       "      <th>0</th>\n",
       "      <td>135.689107</td>\n",
       "      <td>23.87882</td>\n",
       "    </tr>\n",
       "    <tr>\n",
       "      <th>1</th>\n",
       "      <td>144.826101</td>\n",
       "      <td>24.77759</td>\n",
       "    </tr>\n",
       "    <tr>\n",
       "      <th>2</th>\n",
       "      <td>142.188790</td>\n",
       "      <td>25.26307</td>\n",
       "    </tr>\n",
       "  </tbody>\n",
       "</table>\n",
       "</div>"
      ],
      "text/plain": [
       "        alpha         u\n",
       "0  135.689107  23.87882\n",
       "1  144.826101  24.77759\n",
       "2  142.188790  25.26307"
      ]
     },
     "execution_count": 11,
     "metadata": {},
     "output_type": "execute_result"
    }
   ],
   "source": [
    "# Variabel independen kita adalah seluruh baris dengan kolom alpha dan u\n",
    "x=gl.iloc[:,0:2]\n",
    "x.head(3)"
   ]
  },
  {
   "cell_type": "markdown",
   "metadata": {
    "id": "OjD88CFiuCcA"
   },
   "source": [
    "Kemudian, kita buat variabel dependen."
   ]
  },
  {
   "cell_type": "code",
   "execution_count": 12,
   "metadata": {},
   "outputs": [
    {
     "data": {
      "text/plain": [
       "['GALAXY', 'QSO', 'STAR']\n",
       "Categories (3, object): ['GALAXY', 'QSO', 'STAR']"
      ]
     },
     "execution_count": 12,
     "metadata": {},
     "output_type": "execute_result"
    }
   ],
   "source": [
    "# variabel dependen kita adalah seluruh baris dengan kolom class\n",
    "gl['class'].unique()"
   ]
  },
  {
   "cell_type": "code",
   "execution_count": 13,
   "metadata": {},
   "outputs": [],
   "source": [
    "y=gl.iloc[0:,2]"
   ]
  },
  {
   "cell_type": "code",
   "execution_count": 14,
   "metadata": {},
   "outputs": [
    {
     "data": {
      "text/html": [
       "<div>\n",
       "<style scoped>\n",
       "    .dataframe tbody tr th:only-of-type {\n",
       "        vertical-align: middle;\n",
       "    }\n",
       "\n",
       "    .dataframe tbody tr th {\n",
       "        vertical-align: top;\n",
       "    }\n",
       "\n",
       "    .dataframe thead th {\n",
       "        text-align: right;\n",
       "    }\n",
       "</style>\n",
       "<table border=\"1\" class=\"dataframe\">\n",
       "  <thead>\n",
       "    <tr style=\"text-align: right;\">\n",
       "      <th></th>\n",
       "      <th>alpha</th>\n",
       "      <th>u</th>\n",
       "    </tr>\n",
       "  </thead>\n",
       "  <tbody>\n",
       "    <tr>\n",
       "      <th>count</th>\n",
       "      <td>100000.000000</td>\n",
       "      <td>100000.000000</td>\n",
       "    </tr>\n",
       "    <tr>\n",
       "      <th>mean</th>\n",
       "      <td>177.629117</td>\n",
       "      <td>21.980468</td>\n",
       "    </tr>\n",
       "    <tr>\n",
       "      <th>std</th>\n",
       "      <td>96.502241</td>\n",
       "      <td>31.769291</td>\n",
       "    </tr>\n",
       "    <tr>\n",
       "      <th>min</th>\n",
       "      <td>0.005528</td>\n",
       "      <td>-9999.000000</td>\n",
       "    </tr>\n",
       "    <tr>\n",
       "      <th>25%</th>\n",
       "      <td>127.518222</td>\n",
       "      <td>20.352353</td>\n",
       "    </tr>\n",
       "    <tr>\n",
       "      <th>50%</th>\n",
       "      <td>180.900700</td>\n",
       "      <td>22.179135</td>\n",
       "    </tr>\n",
       "    <tr>\n",
       "      <th>75%</th>\n",
       "      <td>233.895005</td>\n",
       "      <td>23.687440</td>\n",
       "    </tr>\n",
       "    <tr>\n",
       "      <th>max</th>\n",
       "      <td>359.999810</td>\n",
       "      <td>32.781390</td>\n",
       "    </tr>\n",
       "  </tbody>\n",
       "</table>\n",
       "</div>"
      ],
      "text/plain": [
       "               alpha              u\n",
       "count  100000.000000  100000.000000\n",
       "mean      177.629117      21.980468\n",
       "std        96.502241      31.769291\n",
       "min         0.005528   -9999.000000\n",
       "25%       127.518222      20.352353\n",
       "50%       180.900700      22.179135\n",
       "75%       233.895005      23.687440\n",
       "max       359.999810      32.781390"
      ]
     },
     "execution_count": 14,
     "metadata": {},
     "output_type": "execute_result"
    }
   ],
   "source": [
    "# Kita lihat saja secara sekilas dengan describe\n",
    "x.describe()"
   ]
  },
  {
   "cell_type": "code",
   "execution_count": 15,
   "metadata": {},
   "outputs": [
    {
     "data": {
      "text/plain": [
       "106"
      ]
     },
     "execution_count": 15,
     "metadata": {},
     "output_type": "execute_result"
    }
   ],
   "source": [
    "233 - 127"
   ]
  },
  {
   "cell_type": "code",
   "execution_count": 16,
   "metadata": {},
   "outputs": [
    {
     "data": {
      "text/plain": [
       "<seaborn.axisgrid.FacetGrid at 0x2481853b670>"
      ]
     },
     "execution_count": 16,
     "metadata": {},
     "output_type": "execute_result"
    },
    {
     "data": {
      "image/png": "[encoded data removed]",
      "text/plain": [
       "<Figure size 436.125x360 with 1 Axes>"
      ]
     },
     "metadata": {
      "needs_background": "light"
     },
     "output_type": "display_data"
    }
   ],
   "source": [
    "sns.displot(gl, x='alpha',hue='class', bins=20)"
   ]
  },
  {
   "cell_type": "code",
   "execution_count": 17,
   "metadata": {},
   "outputs": [
    {
     "data": {
      "text/plain": [
       "<seaborn.axisgrid.FacetGrid at 0x2481a15df70>"
      ]
     },
     "execution_count": 17,
     "metadata": {},
     "output_type": "execute_result"
    },
    {
     "data": {
      "image/png": "[encoded data removed]",
      "text/plain": [
       "<Figure size 436.125x360 with 1 Axes>"
      ]
     },
     "metadata": {
      "needs_background": "light"
     },
     "output_type": "display_data"
    }
   ],
   "source": [
    "sns.displot(gl, x='u',hue='class', bins=20)"
   ]
  },
  {
   "cell_type": "markdown",
   "metadata": {
    "tags": []
   },
   "source": [
    "#### **EDA Conclusion**\n",
    "\n",
    "- Terdapat 3 bagian dari kolom class, yaitu GALAXY(59445), QSO(21594), dan STAR(18961). \n",
    "- Seluruh data numerik berdistribusi normal."
   ]
  },
  {
   "cell_type": "markdown",
   "metadata": {},
   "source": [
    "> Data pada dataset 1 sudah bersih dah siap untuk dilakukan pemodelan"
   ]
  },
  {
   "cell_type": "markdown",
   "metadata": {
    "tags": []
   },
   "source": [
    "### Dataset 2 untuk regresi"
   ]
  },
  {
   "cell_type": "code",
   "execution_count": 18,
   "metadata": {
    "id": "N7rcVQodKKR3"
   },
   "outputs": [
    {
     "data": {
      "text/html": [
       "<div>\n",
       "<style scoped>\n",
       "    .dataframe tbody tr th:only-of-type {\n",
       "        vertical-align: middle;\n",
       "    }\n",
       "\n",
       "    .dataframe tbody tr th {\n",
       "        vertical-align: top;\n",
       "    }\n",
       "\n",
       "    .dataframe thead th {\n",
       "        text-align: right;\n",
       "    }\n",
       "</style>\n",
       "<table border=\"1\" class=\"dataframe\">\n",
       "  <thead>\n",
       "    <tr style=\"text-align: right;\">\n",
       "      <th></th>\n",
       "      <th>Unnamed: 0</th>\n",
       "      <th>work_year</th>\n",
       "      <th>experience_level</th>\n",
       "      <th>employment_type</th>\n",
       "      <th>job_title</th>\n",
       "      <th>salary</th>\n",
       "      <th>salary_currency</th>\n",
       "      <th>salary_in_usd</th>\n",
       "      <th>employee_residence</th>\n",
       "      <th>remote_ratio</th>\n",
       "      <th>company_location</th>\n",
       "      <th>company_size</th>\n",
       "    </tr>\n",
       "  </thead>\n",
       "  <tbody>\n",
       "    <tr>\n",
       "      <th>0</th>\n",
       "      <td>0</td>\n",
       "      <td>2020</td>\n",
       "      <td>MI</td>\n",
       "      <td>FT</td>\n",
       "      <td>Data Scientist</td>\n",
       "      <td>70000</td>\n",
       "      <td>EUR</td>\n",
       "      <td>79833</td>\n",
       "      <td>DE</td>\n",
       "      <td>0</td>\n",
       "      <td>DE</td>\n",
       "      <td>L</td>\n",
       "    </tr>\n",
       "    <tr>\n",
       "      <th>1</th>\n",
       "      <td>1</td>\n",
       "      <td>2020</td>\n",
       "      <td>SE</td>\n",
       "      <td>FT</td>\n",
       "      <td>Machine Learning Scientist</td>\n",
       "      <td>260000</td>\n",
       "      <td>USD</td>\n",
       "      <td>260000</td>\n",
       "      <td>JP</td>\n",
       "      <td>0</td>\n",
       "      <td>JP</td>\n",
       "      <td>S</td>\n",
       "    </tr>\n",
       "    <tr>\n",
       "      <th>2</th>\n",
       "      <td>2</td>\n",
       "      <td>2020</td>\n",
       "      <td>SE</td>\n",
       "      <td>FT</td>\n",
       "      <td>Big Data Engineer</td>\n",
       "      <td>85000</td>\n",
       "      <td>GBP</td>\n",
       "      <td>109024</td>\n",
       "      <td>GB</td>\n",
       "      <td>50</td>\n",
       "      <td>GB</td>\n",
       "      <td>M</td>\n",
       "    </tr>\n",
       "    <tr>\n",
       "      <th>3</th>\n",
       "      <td>3</td>\n",
       "      <td>2020</td>\n",
       "      <td>MI</td>\n",
       "      <td>FT</td>\n",
       "      <td>Product Data Analyst</td>\n",
       "      <td>20000</td>\n",
       "      <td>USD</td>\n",
       "      <td>20000</td>\n",
       "      <td>HN</td>\n",
       "      <td>0</td>\n",
       "      <td>HN</td>\n",
       "      <td>S</td>\n",
       "    </tr>\n",
       "    <tr>\n",
       "      <th>4</th>\n",
       "      <td>4</td>\n",
       "      <td>2020</td>\n",
       "      <td>SE</td>\n",
       "      <td>FT</td>\n",
       "      <td>Machine Learning Engineer</td>\n",
       "      <td>150000</td>\n",
       "      <td>USD</td>\n",
       "      <td>150000</td>\n",
       "      <td>US</td>\n",
       "      <td>50</td>\n",
       "      <td>US</td>\n",
       "      <td>L</td>\n",
       "    </tr>\n",
       "    <tr>\n",
       "      <th>...</th>\n",
       "      <td>...</td>\n",
       "      <td>...</td>\n",
       "      <td>...</td>\n",
       "      <td>...</td>\n",
       "      <td>...</td>\n",
       "      <td>...</td>\n",
       "      <td>...</td>\n",
       "      <td>...</td>\n",
       "      <td>...</td>\n",
       "      <td>...</td>\n",
       "      <td>...</td>\n",
       "      <td>...</td>\n",
       "    </tr>\n",
       "    <tr>\n",
       "      <th>602</th>\n",
       "      <td>602</td>\n",
       "      <td>2022</td>\n",
       "      <td>SE</td>\n",
       "      <td>FT</td>\n",
       "      <td>Data Engineer</td>\n",
       "      <td>154000</td>\n",
       "      <td>USD</td>\n",
       "      <td>154000</td>\n",
       "      <td>US</td>\n",
       "      <td>100</td>\n",
       "      <td>US</td>\n",
       "      <td>M</td>\n",
       "    </tr>\n",
       "    <tr>\n",
       "      <th>603</th>\n",
       "      <td>603</td>\n",
       "      <td>2022</td>\n",
       "      <td>SE</td>\n",
       "      <td>FT</td>\n",
       "      <td>Data Engineer</td>\n",
       "      <td>126000</td>\n",
       "      <td>USD</td>\n",
       "      <td>126000</td>\n",
       "      <td>US</td>\n",
       "      <td>100</td>\n",
       "      <td>US</td>\n",
       "      <td>M</td>\n",
       "    </tr>\n",
       "    <tr>\n",
       "      <th>604</th>\n",
       "      <td>604</td>\n",
       "      <td>2022</td>\n",
       "      <td>SE</td>\n",
       "      <td>FT</td>\n",
       "      <td>Data Analyst</td>\n",
       "      <td>129000</td>\n",
       "      <td>USD</td>\n",
       "      <td>129000</td>\n",
       "      <td>US</td>\n",
       "      <td>0</td>\n",
       "      <td>US</td>\n",
       "      <td>M</td>\n",
       "    </tr>\n",
       "    <tr>\n",
       "      <th>605</th>\n",
       "      <td>605</td>\n",
       "      <td>2022</td>\n",
       "      <td>SE</td>\n",
       "      <td>FT</td>\n",
       "      <td>Data Analyst</td>\n",
       "      <td>150000</td>\n",
       "      <td>USD</td>\n",
       "      <td>150000</td>\n",
       "      <td>US</td>\n",
       "      <td>100</td>\n",
       "      <td>US</td>\n",
       "      <td>M</td>\n",
       "    </tr>\n",
       "    <tr>\n",
       "      <th>606</th>\n",
       "      <td>606</td>\n",
       "      <td>2022</td>\n",
       "      <td>MI</td>\n",
       "      <td>FT</td>\n",
       "      <td>AI Scientist</td>\n",
       "      <td>200000</td>\n",
       "      <td>USD</td>\n",
       "      <td>200000</td>\n",
       "      <td>IN</td>\n",
       "      <td>100</td>\n",
       "      <td>US</td>\n",
       "      <td>L</td>\n",
       "    </tr>\n",
       "  </tbody>\n",
       "</table>\n",
       "<p>607 rows × 12 columns</p>\n",
       "</div>"
      ],
      "text/plain": [
       "     Unnamed: 0  work_year experience_level employment_type  \\\n",
       "0             0       2020               MI              FT   \n",
       "1             1       2020               SE              FT   \n",
       "2             2       2020               SE              FT   \n",
       "3             3       2020               MI              FT   \n",
       "4             4       2020               SE              FT   \n",
       "..          ...        ...              ...             ...   \n",
       "602         602       2022               SE              FT   \n",
       "603         603       2022               SE              FT   \n",
       "604         604       2022               SE              FT   \n",
       "605         605       2022               SE              FT   \n",
       "606         606       2022               MI              FT   \n",
       "\n",
       "                      job_title  salary salary_currency  salary_in_usd  \\\n",
       "0                Data Scientist   70000             EUR          79833   \n",
       "1    Machine Learning Scientist  260000             USD         260000   \n",
       "2             Big Data Engineer   85000             GBP         109024   \n",
       "3          Product Data Analyst   20000             USD          20000   \n",
       "4     Machine Learning Engineer  150000             USD         150000   \n",
       "..                          ...     ...             ...            ...   \n",
       "602               Data Engineer  154000             USD         154000   \n",
       "603               Data Engineer  126000             USD         126000   \n",
       "604                Data Analyst  129000             USD         129000   \n",
       "605                Data Analyst  150000             USD         150000   \n",
       "606                AI Scientist  200000             USD         200000   \n",
       "\n",
       "    employee_residence  remote_ratio company_location company_size  \n",
       "0                   DE             0               DE            L  \n",
       "1                   JP             0               JP            S  \n",
       "2                   GB            50               GB            M  \n",
       "3                   HN             0               HN            S  \n",
       "4                   US            50               US            L  \n",
       "..                 ...           ...              ...          ...  \n",
       "602                 US           100               US            M  \n",
       "603                 US           100               US            M  \n",
       "604                 US             0               US            M  \n",
       "605                 US           100               US            M  \n",
       "606                 IN           100               US            L  \n",
       "\n",
       "[607 rows x 12 columns]"
      ]
     },
     "execution_count": 18,
     "metadata": {},
     "output_type": "execute_result"
    }
   ],
   "source": [
    "# Panggil data 2\n",
    "ds"
   ]
  },
  {
   "cell_type": "markdown",
   "metadata": {
    "id": "XO_m89VDX-N8"
   },
   "source": [
    "Cantumkan Link Menuju Sumber Download Dataset 2 (Regresi) Kalian : Untuk datasetnya, saya akan menggunakan dataset Data Science Job Salaries yang mana tersedia di Kaggle. Kalian juga dapat mengunduhnya [disini](https://www.kaggle.com/datasets/ruchi798/data-science-job-salaries)"
   ]
  },
  {
   "cell_type": "markdown",
   "metadata": {},
   "source": [
    "#### Understanding Data"
   ]
  },
  {
   "cell_type": "code",
   "execution_count": 19,
   "metadata": {},
   "outputs": [
    {
     "data": {
      "text/plain": [
       "'\\nwork_year : Tahun gaji dibayarkan.\\nexperience_level : Tingkatan pengalaman berdarkan tahun terakhir, diantaranya: EN Entry-level / Junior MI Mid-level / Intermediate SE Senior-level / Expert EX Executive-level / Director\\nemployment_type  : Tipe karyawan, diantaranya: PT Part-time, FT Full-time, CT Contract, dan FL Freelance\\njob_title : Jenis pekerjaan tahun ini.\\nsalary : Gaji kotor yang dibayarkan\\nsalary_currency : Mata uang gaji yang dibayarkan berdasarkan currency\\nsalary_in_usd : Gaji kotor yang dibayarkan berdasarkan kurs dollar\\nemployee_residence : Tempat tinggal karyawan\\nremote_ratio : Tipe cara bekerja, diantaranya: 0: Tidak remote (<= 20%), 50: sebagian remote, dan 100: Fully remote (>=80%)\\ncompany_location : Lokasi Perusahaan bekerja\\ncompany_size : Jumlah pegawai perusahaan, diantaranya S(small): <= 50 karyawan, M(medium): 50 <= M <= 250 karyawan, dan L(Large): >= 250 karyawan\\n'"
      ]
     },
     "execution_count": 19,
     "metadata": {},
     "output_type": "execute_result"
    }
   ],
   "source": [
    "'''\n",
    "work_year : Tahun gaji dibayarkan.\n",
    "experience_level : Tingkatan pengalaman berdarkan tahun terakhir, diantaranya: EN Entry-level / Junior MI Mid-level / Intermediate SE Senior-level / Expert EX Executive-level / Director\n",
    "employment_type  : Tipe karyawan, diantaranya: PT Part-time, FT Full-time, CT Contract, dan FL Freelance\n",
    "job_title : Jenis pekerjaan tahun ini.\n",
    "salary : Gaji kotor yang dibayarkan\n",
    "salary_currency : Mata uang gaji yang dibayarkan berdasarkan currency\n",
    "salary_in_usd : Gaji kotor yang dibayarkan berdasarkan kurs dollar\n",
    "employee_residence : Tempat tinggal karyawan\n",
    "remote_ratio : Tipe cara bekerja, diantaranya: 0: Tidak remote (<= 20%), 50: sebagian remote, dan 100: Fully remote (>=80%)\n",
    "company_location : Lokasi Perusahaan bekerja\n",
    "company_size : Jumlah pegawai perusahaan, diantaranya S(small): <= 50 karyawan, M(medium): 50 <= M <= 250 karyawan, dan L(Large): >= 250 karyawan\n",
    "'''"
   ]
  },
  {
   "cell_type": "markdown",
   "metadata": {},
   "source": [
    "#### Data Cleaning"
   ]
  },
  {
   "cell_type": "markdown",
   "metadata": {},
   "source": [
    "Kita lihat apakah ada data yang kosong ditiap kolom."
   ]
  },
  {
   "cell_type": "code",
   "execution_count": 20,
   "metadata": {},
   "outputs": [
    {
     "data": {
      "text/plain": [
       "Unnamed: 0            0\n",
       "work_year             0\n",
       "experience_level      0\n",
       "employment_type       0\n",
       "job_title             0\n",
       "salary                0\n",
       "salary_currency       0\n",
       "salary_in_usd         0\n",
       "employee_residence    0\n",
       "remote_ratio          0\n",
       "company_location      0\n",
       "company_size          0\n",
       "dtype: int64"
      ]
     },
     "execution_count": 20,
     "metadata": {},
     "output_type": "execute_result"
    }
   ],
   "source": [
    "ds.isnull().sum()"
   ]
  },
  {
   "cell_type": "markdown",
   "metadata": {},
   "source": [
    "#### Data Wrangling"
   ]
  },
  {
   "cell_type": "code",
   "execution_count": 21,
   "metadata": {},
   "outputs": [
    {
     "data": {
      "text/plain": [
       "(607, 12)"
      ]
     },
     "execution_count": 21,
     "metadata": {},
     "output_type": "execute_result"
    }
   ],
   "source": [
    "# Disini kita lihat bentuk data\n",
    "ds.shape"
   ]
  },
  {
   "cell_type": "code",
   "execution_count": 22,
   "metadata": {},
   "outputs": [
    {
     "data": {
      "text/html": [
       "<div>\n",
       "<style scoped>\n",
       "    .dataframe tbody tr th:only-of-type {\n",
       "        vertical-align: middle;\n",
       "    }\n",
       "\n",
       "    .dataframe tbody tr th {\n",
       "        vertical-align: top;\n",
       "    }\n",
       "\n",
       "    .dataframe thead th {\n",
       "        text-align: right;\n",
       "    }\n",
       "</style>\n",
       "<table border=\"1\" class=\"dataframe\">\n",
       "  <thead>\n",
       "    <tr style=\"text-align: right;\">\n",
       "      <th></th>\n",
       "      <th>Unnamed: 0</th>\n",
       "      <th>work_year</th>\n",
       "      <th>salary</th>\n",
       "      <th>salary_in_usd</th>\n",
       "      <th>remote_ratio</th>\n",
       "    </tr>\n",
       "  </thead>\n",
       "  <tbody>\n",
       "    <tr>\n",
       "      <th>count</th>\n",
       "      <td>607.000000</td>\n",
       "      <td>607.000000</td>\n",
       "      <td>6.070000e+02</td>\n",
       "      <td>607.000000</td>\n",
       "      <td>607.00000</td>\n",
       "    </tr>\n",
       "    <tr>\n",
       "      <th>mean</th>\n",
       "      <td>303.000000</td>\n",
       "      <td>2021.405272</td>\n",
       "      <td>3.240001e+05</td>\n",
       "      <td>112297.869852</td>\n",
       "      <td>70.92257</td>\n",
       "    </tr>\n",
       "    <tr>\n",
       "      <th>std</th>\n",
       "      <td>175.370085</td>\n",
       "      <td>0.692133</td>\n",
       "      <td>1.544357e+06</td>\n",
       "      <td>70957.259411</td>\n",
       "      <td>40.70913</td>\n",
       "    </tr>\n",
       "    <tr>\n",
       "      <th>min</th>\n",
       "      <td>0.000000</td>\n",
       "      <td>2020.000000</td>\n",
       "      <td>4.000000e+03</td>\n",
       "      <td>2859.000000</td>\n",
       "      <td>0.00000</td>\n",
       "    </tr>\n",
       "    <tr>\n",
       "      <th>25%</th>\n",
       "      <td>151.500000</td>\n",
       "      <td>2021.000000</td>\n",
       "      <td>7.000000e+04</td>\n",
       "      <td>62726.000000</td>\n",
       "      <td>50.00000</td>\n",
       "    </tr>\n",
       "    <tr>\n",
       "      <th>50%</th>\n",
       "      <td>303.000000</td>\n",
       "      <td>2022.000000</td>\n",
       "      <td>1.150000e+05</td>\n",
       "      <td>101570.000000</td>\n",
       "      <td>100.00000</td>\n",
       "    </tr>\n",
       "    <tr>\n",
       "      <th>75%</th>\n",
       "      <td>454.500000</td>\n",
       "      <td>2022.000000</td>\n",
       "      <td>1.650000e+05</td>\n",
       "      <td>150000.000000</td>\n",
       "      <td>100.00000</td>\n",
       "    </tr>\n",
       "    <tr>\n",
       "      <th>max</th>\n",
       "      <td>606.000000</td>\n",
       "      <td>2022.000000</td>\n",
       "      <td>3.040000e+07</td>\n",
       "      <td>600000.000000</td>\n",
       "      <td>100.00000</td>\n",
       "    </tr>\n",
       "  </tbody>\n",
       "</table>\n",
       "</div>"
      ],
      "text/plain": [
       "       Unnamed: 0    work_year        salary  salary_in_usd  remote_ratio\n",
       "count  607.000000   607.000000  6.070000e+02     607.000000     607.00000\n",
       "mean   303.000000  2021.405272  3.240001e+05  112297.869852      70.92257\n",
       "std    175.370085     0.692133  1.544357e+06   70957.259411      40.70913\n",
       "min      0.000000  2020.000000  4.000000e+03    2859.000000       0.00000\n",
       "25%    151.500000  2021.000000  7.000000e+04   62726.000000      50.00000\n",
       "50%    303.000000  2022.000000  1.150000e+05  101570.000000     100.00000\n",
       "75%    454.500000  2022.000000  1.650000e+05  150000.000000     100.00000\n",
       "max    606.000000  2022.000000  3.040000e+07  600000.000000     100.00000"
      ]
     },
     "execution_count": 22,
     "metadata": {},
     "output_type": "execute_result"
    }
   ],
   "source": [
    "ds.describe()"
   ]
  },
  {
   "cell_type": "code",
   "execution_count": 23,
   "metadata": {},
   "outputs": [
    {
     "name": "stdout",
     "output_type": "stream",
     "text": [
      "<class 'pandas.core.frame.DataFrame'>\n",
      "RangeIndex: 607 entries, 0 to 606\n",
      "Data columns (total 12 columns):\n",
      " #   Column              Non-Null Count  Dtype \n",
      "---  ------              --------------  ----- \n",
      " 0   Unnamed: 0          607 non-null    int64 \n",
      " 1   work_year           607 non-null    int64 \n",
      " 2   experience_level    607 non-null    object\n",
      " 3   employment_type     607 non-null    object\n",
      " 4   job_title           607 non-null    object\n",
      " 5   salary              607 non-null    int64 \n",
      " 6   salary_currency     607 non-null    object\n",
      " 7   salary_in_usd       607 non-null    int64 \n",
      " 8   employee_residence  607 non-null    object\n",
      " 9   remote_ratio        607 non-null    int64 \n",
      " 10  company_location    607 non-null    object\n",
      " 11  company_size        607 non-null    object\n",
      "dtypes: int64(5), object(7)\n",
      "memory usage: 57.0+ KB\n"
     ]
    }
   ],
   "source": [
    "ds.info()"
   ]
  },
  {
   "cell_type": "markdown",
   "metadata": {},
   "source": [
    "karena masih terdapat kolom yang masih bertipe object, mari kita ganti ke tipe category"
   ]
  },
  {
   "cell_type": "code",
   "execution_count": 24,
   "metadata": {},
   "outputs": [
    {
     "data": {
      "text/plain": [
       "Unnamed: 0               int64\n",
       "work_year                int64\n",
       "experience_level      category\n",
       "employment_type       category\n",
       "job_title             category\n",
       "salary                   int64\n",
       "salary_currency       category\n",
       "salary_in_usd            int64\n",
       "employee_residence    category\n",
       "remote_ratio             int64\n",
       "company_location      category\n",
       "company_size          category\n",
       "dtype: object"
      ]
     },
     "execution_count": 24,
     "metadata": {},
     "output_type": "execute_result"
    }
   ],
   "source": [
    "# ubah tipe data\n",
    "\n",
    "# category\n",
    "ds[\"experience_level\"] = ds[\"experience_level\"].astype(\"category\")\n",
    "ds[\"employment_type\"] = ds[\"employment_type\"].astype(\"category\")\n",
    "ds[\"job_title\"] = ds[\"job_title\"].astype(\"category\")\n",
    "ds[\"salary_currency\"] = ds[\"salary_currency\"].astype(\"category\")\n",
    "ds[\"employee_residence\"] = ds[\"employee_residence\"].astype(\"category\")\n",
    "ds[\"company_location\"] = ds[\"company_location\"].astype(\"category\")\n",
    "ds[\"company_size\"] = ds[\"company_size\"].astype(\"category\")\n",
    "\n",
    "ds.dtypes"
   ]
  },
  {
   "cell_type": "markdown",
   "metadata": {
    "tags": []
   },
   "source": [
    "#### Exploratory Data Analysis"
   ]
  },
  {
   "cell_type": "code",
   "execution_count": 25,
   "metadata": {},
   "outputs": [
    {
     "data": {
      "text/html": [
       "<div>\n",
       "<style scoped>\n",
       "    .dataframe tbody tr th:only-of-type {\n",
       "        vertical-align: middle;\n",
       "    }\n",
       "\n",
       "    .dataframe tbody tr th {\n",
       "        vertical-align: top;\n",
       "    }\n",
       "\n",
       "    .dataframe thead th {\n",
       "        text-align: right;\n",
       "    }\n",
       "</style>\n",
       "<table border=\"1\" class=\"dataframe\">\n",
       "  <thead>\n",
       "    <tr style=\"text-align: right;\">\n",
       "      <th></th>\n",
       "      <th>Unnamed: 0</th>\n",
       "      <th>work_year</th>\n",
       "      <th>experience_level</th>\n",
       "      <th>employment_type</th>\n",
       "      <th>job_title</th>\n",
       "      <th>salary</th>\n",
       "      <th>salary_currency</th>\n",
       "      <th>salary_in_usd</th>\n",
       "      <th>employee_residence</th>\n",
       "      <th>remote_ratio</th>\n",
       "      <th>company_location</th>\n",
       "      <th>company_size</th>\n",
       "    </tr>\n",
       "  </thead>\n",
       "  <tbody>\n",
       "    <tr>\n",
       "      <th>0</th>\n",
       "      <td>0</td>\n",
       "      <td>2020</td>\n",
       "      <td>MI</td>\n",
       "      <td>FT</td>\n",
       "      <td>Data Scientist</td>\n",
       "      <td>70000</td>\n",
       "      <td>EUR</td>\n",
       "      <td>79833</td>\n",
       "      <td>DE</td>\n",
       "      <td>0</td>\n",
       "      <td>DE</td>\n",
       "      <td>L</td>\n",
       "    </tr>\n",
       "    <tr>\n",
       "      <th>1</th>\n",
       "      <td>1</td>\n",
       "      <td>2020</td>\n",
       "      <td>SE</td>\n",
       "      <td>FT</td>\n",
       "      <td>Machine Learning Scientist</td>\n",
       "      <td>260000</td>\n",
       "      <td>USD</td>\n",
       "      <td>260000</td>\n",
       "      <td>JP</td>\n",
       "      <td>0</td>\n",
       "      <td>JP</td>\n",
       "      <td>S</td>\n",
       "    </tr>\n",
       "    <tr>\n",
       "      <th>2</th>\n",
       "      <td>2</td>\n",
       "      <td>2020</td>\n",
       "      <td>SE</td>\n",
       "      <td>FT</td>\n",
       "      <td>Big Data Engineer</td>\n",
       "      <td>85000</td>\n",
       "      <td>GBP</td>\n",
       "      <td>109024</td>\n",
       "      <td>GB</td>\n",
       "      <td>50</td>\n",
       "      <td>GB</td>\n",
       "      <td>M</td>\n",
       "    </tr>\n",
       "    <tr>\n",
       "      <th>3</th>\n",
       "      <td>3</td>\n",
       "      <td>2020</td>\n",
       "      <td>MI</td>\n",
       "      <td>FT</td>\n",
       "      <td>Product Data Analyst</td>\n",
       "      <td>20000</td>\n",
       "      <td>USD</td>\n",
       "      <td>20000</td>\n",
       "      <td>HN</td>\n",
       "      <td>0</td>\n",
       "      <td>HN</td>\n",
       "      <td>S</td>\n",
       "    </tr>\n",
       "    <tr>\n",
       "      <th>4</th>\n",
       "      <td>4</td>\n",
       "      <td>2020</td>\n",
       "      <td>SE</td>\n",
       "      <td>FT</td>\n",
       "      <td>Machine Learning Engineer</td>\n",
       "      <td>150000</td>\n",
       "      <td>USD</td>\n",
       "      <td>150000</td>\n",
       "      <td>US</td>\n",
       "      <td>50</td>\n",
       "      <td>US</td>\n",
       "      <td>L</td>\n",
       "    </tr>\n",
       "    <tr>\n",
       "      <th>...</th>\n",
       "      <td>...</td>\n",
       "      <td>...</td>\n",
       "      <td>...</td>\n",
       "      <td>...</td>\n",
       "      <td>...</td>\n",
       "      <td>...</td>\n",
       "      <td>...</td>\n",
       "      <td>...</td>\n",
       "      <td>...</td>\n",
       "      <td>...</td>\n",
       "      <td>...</td>\n",
       "      <td>...</td>\n",
       "    </tr>\n",
       "    <tr>\n",
       "      <th>602</th>\n",
       "      <td>602</td>\n",
       "      <td>2022</td>\n",
       "      <td>SE</td>\n",
       "      <td>FT</td>\n",
       "      <td>Data Engineer</td>\n",
       "      <td>154000</td>\n",
       "      <td>USD</td>\n",
       "      <td>154000</td>\n",
       "      <td>US</td>\n",
       "      <td>100</td>\n",
       "      <td>US</td>\n",
       "      <td>M</td>\n",
       "    </tr>\n",
       "    <tr>\n",
       "      <th>603</th>\n",
       "      <td>603</td>\n",
       "      <td>2022</td>\n",
       "      <td>SE</td>\n",
       "      <td>FT</td>\n",
       "      <td>Data Engineer</td>\n",
       "      <td>126000</td>\n",
       "      <td>USD</td>\n",
       "      <td>126000</td>\n",
       "      <td>US</td>\n",
       "      <td>100</td>\n",
       "      <td>US</td>\n",
       "      <td>M</td>\n",
       "    </tr>\n",
       "    <tr>\n",
       "      <th>604</th>\n",
       "      <td>604</td>\n",
       "      <td>2022</td>\n",
       "      <td>SE</td>\n",
       "      <td>FT</td>\n",
       "      <td>Data Analyst</td>\n",
       "      <td>129000</td>\n",
       "      <td>USD</td>\n",
       "      <td>129000</td>\n",
       "      <td>US</td>\n",
       "      <td>0</td>\n",
       "      <td>US</td>\n",
       "      <td>M</td>\n",
       "    </tr>\n",
       "    <tr>\n",
       "      <th>605</th>\n",
       "      <td>605</td>\n",
       "      <td>2022</td>\n",
       "      <td>SE</td>\n",
       "      <td>FT</td>\n",
       "      <td>Data Analyst</td>\n",
       "      <td>150000</td>\n",
       "      <td>USD</td>\n",
       "      <td>150000</td>\n",
       "      <td>US</td>\n",
       "      <td>100</td>\n",
       "      <td>US</td>\n",
       "      <td>M</td>\n",
       "    </tr>\n",
       "    <tr>\n",
       "      <th>606</th>\n",
       "      <td>606</td>\n",
       "      <td>2022</td>\n",
       "      <td>MI</td>\n",
       "      <td>FT</td>\n",
       "      <td>AI Scientist</td>\n",
       "      <td>200000</td>\n",
       "      <td>USD</td>\n",
       "      <td>200000</td>\n",
       "      <td>IN</td>\n",
       "      <td>100</td>\n",
       "      <td>US</td>\n",
       "      <td>L</td>\n",
       "    </tr>\n",
       "  </tbody>\n",
       "</table>\n",
       "<p>607 rows × 12 columns</p>\n",
       "</div>"
      ],
      "text/plain": [
       "     Unnamed: 0  work_year experience_level employment_type  \\\n",
       "0             0       2020               MI              FT   \n",
       "1             1       2020               SE              FT   \n",
       "2             2       2020               SE              FT   \n",
       "3             3       2020               MI              FT   \n",
       "4             4       2020               SE              FT   \n",
       "..          ...        ...              ...             ...   \n",
       "602         602       2022               SE              FT   \n",
       "603         603       2022               SE              FT   \n",
       "604         604       2022               SE              FT   \n",
       "605         605       2022               SE              FT   \n",
       "606         606       2022               MI              FT   \n",
       "\n",
       "                      job_title  salary salary_currency  salary_in_usd  \\\n",
       "0                Data Scientist   70000             EUR          79833   \n",
       "1    Machine Learning Scientist  260000             USD         260000   \n",
       "2             Big Data Engineer   85000             GBP         109024   \n",
       "3          Product Data Analyst   20000             USD          20000   \n",
       "4     Machine Learning Engineer  150000             USD         150000   \n",
       "..                          ...     ...             ...            ...   \n",
       "602               Data Engineer  154000             USD         154000   \n",
       "603               Data Engineer  126000             USD         126000   \n",
       "604                Data Analyst  129000             USD         129000   \n",
       "605                Data Analyst  150000             USD         150000   \n",
       "606                AI Scientist  200000             USD         200000   \n",
       "\n",
       "    employee_residence  remote_ratio company_location company_size  \n",
       "0                   DE             0               DE            L  \n",
       "1                   JP             0               JP            S  \n",
       "2                   GB            50               GB            M  \n",
       "3                   HN             0               HN            S  \n",
       "4                   US            50               US            L  \n",
       "..                 ...           ...              ...          ...  \n",
       "602                 US           100               US            M  \n",
       "603                 US           100               US            M  \n",
       "604                 US             0               US            M  \n",
       "605                 US           100               US            M  \n",
       "606                 IN           100               US            L  \n",
       "\n",
       "[607 rows x 12 columns]"
      ]
     },
     "execution_count": 25,
     "metadata": {},
     "output_type": "execute_result"
    }
   ],
   "source": [
    "ds"
   ]
  },
  {
   "cell_type": "code",
   "execution_count": 26,
   "metadata": {},
   "outputs": [
    {
     "data": {
      "text/plain": [
       "<AxesSubplot:ylabel='Density'>"
      ]
     },
     "execution_count": 26,
     "metadata": {},
     "output_type": "execute_result"
    },
    {
     "data": {
      "image/png": "[encoded data removed]",
      "text/plain": [
       "<Figure size 432x288 with 1 Axes>"
      ]
     },
     "metadata": {
      "needs_background": "light"
     },
     "output_type": "display_data"
    }
   ],
   "source": [
    "ds['salary'].plot.kde()"
   ]
  },
  {
   "cell_type": "markdown",
   "metadata": {},
   "source": [
    "Selanjutnya, kita cek hubungan antar tiap variabel terhadap salary"
   ]
  },
  {
   "cell_type": "markdown",
   "metadata": {},
   "source": [
    "`work_year with salary`"
   ]
  },
  {
   "cell_type": "code",
   "execution_count": 27,
   "metadata": {},
   "outputs": [
    {
     "data": {
      "text/html": [
       "<div>\n",
       "<style scoped>\n",
       "    .dataframe tbody tr th:only-of-type {\n",
       "        vertical-align: middle;\n",
       "    }\n",
       "\n",
       "    .dataframe tbody tr th {\n",
       "        vertical-align: top;\n",
       "    }\n",
       "\n",
       "    .dataframe thead th {\n",
       "        text-align: right;\n",
       "    }\n",
       "</style>\n",
       "<table border=\"1\" class=\"dataframe\">\n",
       "  <thead>\n",
       "    <tr style=\"text-align: right;\">\n",
       "      <th></th>\n",
       "      <th>count</th>\n",
       "      <th>min</th>\n",
       "      <th>max</th>\n",
       "    </tr>\n",
       "    <tr>\n",
       "      <th>work_year</th>\n",
       "      <th></th>\n",
       "      <th></th>\n",
       "      <th></th>\n",
       "    </tr>\n",
       "  </thead>\n",
       "  <tbody>\n",
       "    <tr>\n",
       "      <th>2020</th>\n",
       "      <td>72</td>\n",
       "      <td>8000</td>\n",
       "      <td>11000000</td>\n",
       "    </tr>\n",
       "    <tr>\n",
       "      <th>2021</th>\n",
       "      <td>217</td>\n",
       "      <td>4000</td>\n",
       "      <td>30400000</td>\n",
       "    </tr>\n",
       "    <tr>\n",
       "      <th>2022</th>\n",
       "      <td>318</td>\n",
       "      <td>10000</td>\n",
       "      <td>6000000</td>\n",
       "    </tr>\n",
       "  </tbody>\n",
       "</table>\n",
       "</div>"
      ],
      "text/plain": [
       "           count    min       max\n",
       "work_year                        \n",
       "2020          72   8000  11000000\n",
       "2021         217   4000  30400000\n",
       "2022         318  10000   6000000"
      ]
     },
     "execution_count": 27,
     "metadata": {},
     "output_type": "execute_result"
    }
   ],
   "source": [
    "ds.groupby('work_year').salary.aggregate(['count', 'min', 'max'])"
   ]
  },
  {
   "cell_type": "code",
   "execution_count": 28,
   "metadata": {},
   "outputs": [
    {
     "data": {
      "text/plain": [
       "<seaborn.axisgrid.FacetGrid at 0x2481a438520>"
      ]
     },
     "execution_count": 28,
     "metadata": {},
     "output_type": "execute_result"
    },
    {
     "data": {
      "image/png": "[encoded data removed]",
      "text/plain": [
       "<Figure size 360x360 with 1 Axes>"
      ]
     },
     "metadata": {},
     "output_type": "display_data"
    }
   ],
   "source": [
    "sns.set_theme(style=\"darkgrid\") #setting the grid for all next plots\n",
    "\n",
    "sns.relplot(data=ds, x='work_year', y='salary', ci=None, kind='line')"
   ]
  },
  {
   "cell_type": "markdown",
   "metadata": {},
   "source": [
    "`remote_ratio with salary`"
   ]
  },
  {
   "cell_type": "code",
   "execution_count": 29,
   "metadata": {},
   "outputs": [
    {
     "data": {
      "text/html": [
       "<div>\n",
       "<style scoped>\n",
       "    .dataframe tbody tr th:only-of-type {\n",
       "        vertical-align: middle;\n",
       "    }\n",
       "\n",
       "    .dataframe tbody tr th {\n",
       "        vertical-align: top;\n",
       "    }\n",
       "\n",
       "    .dataframe thead th {\n",
       "        text-align: right;\n",
       "    }\n",
       "</style>\n",
       "<table border=\"1\" class=\"dataframe\">\n",
       "  <thead>\n",
       "    <tr style=\"text-align: right;\">\n",
       "      <th></th>\n",
       "      <th>count</th>\n",
       "      <th>min</th>\n",
       "      <th>max</th>\n",
       "    </tr>\n",
       "    <tr>\n",
       "      <th>remote_ratio</th>\n",
       "      <th></th>\n",
       "      <th></th>\n",
       "      <th></th>\n",
       "    </tr>\n",
       "  </thead>\n",
       "  <tbody>\n",
       "    <tr>\n",
       "      <th>0</th>\n",
       "      <td>127</td>\n",
       "      <td>4000</td>\n",
       "      <td>4900000</td>\n",
       "    </tr>\n",
       "    <tr>\n",
       "      <th>50</th>\n",
       "      <td>99</td>\n",
       "      <td>8000</td>\n",
       "      <td>11000000</td>\n",
       "    </tr>\n",
       "    <tr>\n",
       "      <th>100</th>\n",
       "      <td>381</td>\n",
       "      <td>4000</td>\n",
       "      <td>30400000</td>\n",
       "    </tr>\n",
       "  </tbody>\n",
       "</table>\n",
       "</div>"
      ],
      "text/plain": [
       "              count   min       max\n",
       "remote_ratio                       \n",
       "0               127  4000   4900000\n",
       "50               99  8000  11000000\n",
       "100             381  4000  30400000"
      ]
     },
     "execution_count": 29,
     "metadata": {},
     "output_type": "execute_result"
    }
   ],
   "source": [
    "ds.groupby('remote_ratio').salary.aggregate(['count', 'min', 'max'])"
   ]
  },
  {
   "cell_type": "code",
   "execution_count": 30,
   "metadata": {},
   "outputs": [
    {
     "data": {
      "text/plain": [
       "<seaborn.axisgrid.FacetGrid at 0x2481a3974f0>"
      ]
     },
     "execution_count": 30,
     "metadata": {},
     "output_type": "execute_result"
    },
    {
     "data": {
      "image/png": "[encoded data removed]",
      "text/plain": [
       "<Figure size 360x360 with 1 Axes>"
      ]
     },
     "metadata": {},
     "output_type": "display_data"
    }
   ],
   "source": [
    "sns.catplot(data=ds, x='remote_ratio', y='salary', kind='bar')"
   ]
  },
  {
   "cell_type": "markdown",
   "metadata": {},
   "source": [
    "`experience_level with salary`"
   ]
  },
  {
   "cell_type": "code",
   "execution_count": 31,
   "metadata": {},
   "outputs": [
    {
     "data": {
      "text/html": [
       "<div>\n",
       "<style scoped>\n",
       "    .dataframe tbody tr th:only-of-type {\n",
       "        vertical-align: middle;\n",
       "    }\n",
       "\n",
       "    .dataframe tbody tr th {\n",
       "        vertical-align: top;\n",
       "    }\n",
       "\n",
       "    .dataframe thead th {\n",
       "        text-align: right;\n",
       "    }\n",
       "</style>\n",
       "<table border=\"1\" class=\"dataframe\">\n",
       "  <thead>\n",
       "    <tr style=\"text-align: right;\">\n",
       "      <th></th>\n",
       "      <th>count</th>\n",
       "      <th>min</th>\n",
       "      <th>max</th>\n",
       "    </tr>\n",
       "    <tr>\n",
       "      <th>experience_level</th>\n",
       "      <th></th>\n",
       "      <th></th>\n",
       "      <th></th>\n",
       "    </tr>\n",
       "  </thead>\n",
       "  <tbody>\n",
       "    <tr>\n",
       "      <th>EN</th>\n",
       "      <td>88</td>\n",
       "      <td>4000</td>\n",
       "      <td>4450000</td>\n",
       "    </tr>\n",
       "    <tr>\n",
       "      <th>EX</th>\n",
       "      <td>26</td>\n",
       "      <td>59000</td>\n",
       "      <td>6000000</td>\n",
       "    </tr>\n",
       "    <tr>\n",
       "      <th>MI</th>\n",
       "      <td>213</td>\n",
       "      <td>4000</td>\n",
       "      <td>30400000</td>\n",
       "    </tr>\n",
       "    <tr>\n",
       "      <th>SE</th>\n",
       "      <td>280</td>\n",
       "      <td>24000</td>\n",
       "      <td>7000000</td>\n",
       "    </tr>\n",
       "  </tbody>\n",
       "</table>\n",
       "</div>"
      ],
      "text/plain": [
       "                  count    min       max\n",
       "experience_level                        \n",
       "EN                   88   4000   4450000\n",
       "EX                   26  59000   6000000\n",
       "MI                  213   4000  30400000\n",
       "SE                  280  24000   7000000"
      ]
     },
     "execution_count": 31,
     "metadata": {},
     "output_type": "execute_result"
    }
   ],
   "source": [
    "ds.groupby('experience_level').salary.aggregate(['count', 'min', 'max'])"
   ]
  },
  {
   "cell_type": "code",
   "execution_count": 32,
   "metadata": {},
   "outputs": [
    {
     "data": {
      "text/plain": [
       "<seaborn.axisgrid.FacetGrid at 0x2481a747cd0>"
      ]
     },
     "execution_count": 32,
     "metadata": {},
     "output_type": "execute_result"
    },
    {
     "data": {
      "image/png": "[encoded data removed]",
      "text/plain": [
       "<Figure size 360x360 with 1 Axes>"
      ]
     },
     "metadata": {},
     "output_type": "display_data"
    }
   ],
   "source": [
    "sns.catplot(data=ds, x='experience_level', y='salary', kind='bar')"
   ]
  },
  {
   "cell_type": "markdown",
   "metadata": {},
   "source": [
    "`employment_type with salary`"
   ]
  },
  {
   "cell_type": "code",
   "execution_count": 33,
   "metadata": {},
   "outputs": [
    {
     "data": {
      "text/html": [
       "<div>\n",
       "<style scoped>\n",
       "    .dataframe tbody tr th:only-of-type {\n",
       "        vertical-align: middle;\n",
       "    }\n",
       "\n",
       "    .dataframe tbody tr th {\n",
       "        vertical-align: top;\n",
       "    }\n",
       "\n",
       "    .dataframe thead th {\n",
       "        text-align: right;\n",
       "    }\n",
       "</style>\n",
       "<table border=\"1\" class=\"dataframe\">\n",
       "  <thead>\n",
       "    <tr style=\"text-align: right;\">\n",
       "      <th></th>\n",
       "      <th>count</th>\n",
       "      <th>min</th>\n",
       "      <th>max</th>\n",
       "    </tr>\n",
       "    <tr>\n",
       "      <th>employment_type</th>\n",
       "      <th></th>\n",
       "      <th></th>\n",
       "      <th></th>\n",
       "    </tr>\n",
       "  </thead>\n",
       "  <tbody>\n",
       "    <tr>\n",
       "      <th>CT</th>\n",
       "      <td>5</td>\n",
       "      <td>29000</td>\n",
       "      <td>416000</td>\n",
       "    </tr>\n",
       "    <tr>\n",
       "      <th>FL</th>\n",
       "      <td>4</td>\n",
       "      <td>12000</td>\n",
       "      <td>100000</td>\n",
       "    </tr>\n",
       "    <tr>\n",
       "      <th>FT</th>\n",
       "      <td>588</td>\n",
       "      <td>4000</td>\n",
       "      <td>30400000</td>\n",
       "    </tr>\n",
       "    <tr>\n",
       "      <th>PT</th>\n",
       "      <td>10</td>\n",
       "      <td>8760</td>\n",
       "      <td>400000</td>\n",
       "    </tr>\n",
       "  </tbody>\n",
       "</table>\n",
       "</div>"
      ],
      "text/plain": [
       "                 count    min       max\n",
       "employment_type                        \n",
       "CT                   5  29000    416000\n",
       "FL                   4  12000    100000\n",
       "FT                 588   4000  30400000\n",
       "PT                  10   8760    400000"
      ]
     },
     "execution_count": 33,
     "metadata": {},
     "output_type": "execute_result"
    }
   ],
   "source": [
    "ds.groupby('employment_type').salary.aggregate(['count', 'min', 'max'])"
   ]
  },
  {
   "cell_type": "code",
   "execution_count": 34,
   "metadata": {},
   "outputs": [
    {
     "data": {
      "text/plain": [
       "<seaborn.axisgrid.FacetGrid at 0x2481a747be0>"
      ]
     },
     "execution_count": 34,
     "metadata": {},
     "output_type": "execute_result"
    },
    {
     "data": {
      "image/png": "[encoded data removed]",
      "text/plain": [
       "<Figure size 360x360 with 1 Axes>"
      ]
     },
     "metadata": {},
     "output_type": "display_data"
    }
   ],
   "source": [
    "sns.catplot(data=ds, x='employment_type', y='salary', kind='bar')"
   ]
  },
  {
   "cell_type": "markdown",
   "metadata": {},
   "source": [
    "`company_size with salary`"
   ]
  },
  {
   "cell_type": "code",
   "execution_count": 35,
   "metadata": {},
   "outputs": [
    {
     "data": {
      "text/html": [
       "<div>\n",
       "<style scoped>\n",
       "    .dataframe tbody tr th:only-of-type {\n",
       "        vertical-align: middle;\n",
       "    }\n",
       "\n",
       "    .dataframe tbody tr th {\n",
       "        vertical-align: top;\n",
       "    }\n",
       "\n",
       "    .dataframe thead th {\n",
       "        text-align: right;\n",
       "    }\n",
       "</style>\n",
       "<table border=\"1\" class=\"dataframe\">\n",
       "  <thead>\n",
       "    <tr style=\"text-align: right;\">\n",
       "      <th></th>\n",
       "      <th>count</th>\n",
       "      <th>min</th>\n",
       "      <th>max</th>\n",
       "    </tr>\n",
       "    <tr>\n",
       "      <th>company_size</th>\n",
       "      <th></th>\n",
       "      <th></th>\n",
       "      <th></th>\n",
       "    </tr>\n",
       "  </thead>\n",
       "  <tbody>\n",
       "    <tr>\n",
       "      <th>L</th>\n",
       "      <td>198</td>\n",
       "      <td>8000</td>\n",
       "      <td>30400000</td>\n",
       "    </tr>\n",
       "    <tr>\n",
       "      <th>M</th>\n",
       "      <td>326</td>\n",
       "      <td>4000</td>\n",
       "      <td>2500000</td>\n",
       "    </tr>\n",
       "    <tr>\n",
       "      <th>S</th>\n",
       "      <td>83</td>\n",
       "      <td>9272</td>\n",
       "      <td>8500000</td>\n",
       "    </tr>\n",
       "  </tbody>\n",
       "</table>\n",
       "</div>"
      ],
      "text/plain": [
       "              count   min       max\n",
       "company_size                       \n",
       "L               198  8000  30400000\n",
       "M               326  4000   2500000\n",
       "S                83  9272   8500000"
      ]
     },
     "execution_count": 35,
     "metadata": {},
     "output_type": "execute_result"
    }
   ],
   "source": [
    "ds.groupby('company_size').salary.aggregate(['count', 'min', 'max'])"
   ]
  },
  {
   "cell_type": "code",
   "execution_count": 36,
   "metadata": {},
   "outputs": [
    {
     "data": {
      "text/plain": [
       "<seaborn.axisgrid.FacetGrid at 0x2481a6f89d0>"
      ]
     },
     "execution_count": 36,
     "metadata": {},
     "output_type": "execute_result"
    },
    {
     "data": {
      "image/png": "[encoded data removed]",
      "text/plain": [
       "<Figure size 360x360 with 1 Axes>"
      ]
     },
     "metadata": {},
     "output_type": "display_data"
    }
   ],
   "source": [
    "sns.catplot(data=ds, x='company_size', y='salary', kind='bar')"
   ]
  },
  {
   "cell_type": "markdown",
   "metadata": {},
   "source": [
    "Selanjutnya, kita coba lihat korelasi untuk setiap feature sebelum lakukan prediksi."
   ]
  },
  {
   "cell_type": "code",
   "execution_count": 37,
   "metadata": {},
   "outputs": [
    {
     "data": {
      "text/html": [
       "<div>\n",
       "<style scoped>\n",
       "    .dataframe tbody tr th:only-of-type {\n",
       "        vertical-align: middle;\n",
       "    }\n",
       "\n",
       "    .dataframe tbody tr th {\n",
       "        vertical-align: top;\n",
       "    }\n",
       "\n",
       "    .dataframe thead th {\n",
       "        text-align: right;\n",
       "    }\n",
       "</style>\n",
       "<table border=\"1\" class=\"dataframe\">\n",
       "  <thead>\n",
       "    <tr style=\"text-align: right;\">\n",
       "      <th></th>\n",
       "      <th>Unnamed: 0</th>\n",
       "      <th>work_year</th>\n",
       "      <th>salary</th>\n",
       "      <th>salary_in_usd</th>\n",
       "      <th>remote_ratio</th>\n",
       "    </tr>\n",
       "  </thead>\n",
       "  <tbody>\n",
       "    <tr>\n",
       "      <th>Unnamed: 0</th>\n",
       "      <td>1.000000</td>\n",
       "      <td>0.886550</td>\n",
       "      <td>-0.096250</td>\n",
       "      <td>0.167025</td>\n",
       "      <td>0.095000</td>\n",
       "    </tr>\n",
       "    <tr>\n",
       "      <th>work_year</th>\n",
       "      <td>0.886550</td>\n",
       "      <td>1.000000</td>\n",
       "      <td>-0.087577</td>\n",
       "      <td>0.170493</td>\n",
       "      <td>0.076314</td>\n",
       "    </tr>\n",
       "    <tr>\n",
       "      <th>salary</th>\n",
       "      <td>-0.096250</td>\n",
       "      <td>-0.087577</td>\n",
       "      <td>1.000000</td>\n",
       "      <td>-0.083906</td>\n",
       "      <td>-0.014608</td>\n",
       "    </tr>\n",
       "    <tr>\n",
       "      <th>salary_in_usd</th>\n",
       "      <td>0.167025</td>\n",
       "      <td>0.170493</td>\n",
       "      <td>-0.083906</td>\n",
       "      <td>1.000000</td>\n",
       "      <td>0.132122</td>\n",
       "    </tr>\n",
       "    <tr>\n",
       "      <th>remote_ratio</th>\n",
       "      <td>0.095000</td>\n",
       "      <td>0.076314</td>\n",
       "      <td>-0.014608</td>\n",
       "      <td>0.132122</td>\n",
       "      <td>1.000000</td>\n",
       "    </tr>\n",
       "  </tbody>\n",
       "</table>\n",
       "</div>"
      ],
      "text/plain": [
       "               Unnamed: 0  work_year    salary  salary_in_usd  remote_ratio\n",
       "Unnamed: 0       1.000000   0.886550 -0.096250       0.167025      0.095000\n",
       "work_year        0.886550   1.000000 -0.087577       0.170493      0.076314\n",
       "salary          -0.096250  -0.087577  1.000000      -0.083906     -0.014608\n",
       "salary_in_usd    0.167025   0.170493 -0.083906       1.000000      0.132122\n",
       "remote_ratio     0.095000   0.076314 -0.014608       0.132122      1.000000"
      ]
     },
     "execution_count": 37,
     "metadata": {},
     "output_type": "execute_result"
    }
   ],
   "source": [
    "correlation = ds.corr()\n",
    "correlation"
   ]
  },
  {
   "cell_type": "code",
   "execution_count": 38,
   "metadata": {},
   "outputs": [
    {
     "data": {
      "text/plain": [
       "<AxesSubplot:>"
      ]
     },
     "execution_count": 38,
     "metadata": {},
     "output_type": "execute_result"
    },
    {
     "data": {
      "image/png": "[encoded data removed]",
      "text/plain": [
       "<Figure size 864x504 with 2 Axes>"
      ]
     },
     "metadata": {},
     "output_type": "display_data"
    }
   ],
   "source": [
    "# Visualizing correlation\n",
    "\n",
    "plt.figure(figsize=(12,7))\n",
    "\n",
    "sns.heatmap(correlation,annot=True,cmap='crest')"
   ]
  },
  {
   "cell_type": "markdown",
   "metadata": {},
   "source": [
    "> Berdasarkan korelasi diatas, dengan regresi kita akan memprediksi **salary** pada dataframe."
   ]
  },
  {
   "cell_type": "code",
   "execution_count": 39,
   "metadata": {},
   "outputs": [
    {
     "data": {
      "image/png": "[encoded data removed]",
      "text/plain": [
       "<Figure size 900x900 with 30 Axes>"
      ]
     },
     "metadata": {},
     "output_type": "display_data"
    }
   ],
   "source": [
    "# cek korelasi dengan pairplot\n",
    "sns.pairplot(ds)\n",
    "plt.show()"
   ]
  },
  {
   "cell_type": "markdown",
   "metadata": {},
   "source": [
    "> Data pada Dataset 2 sudah bersih dan siap untuk dilakukan pemodelan."
   ]
  },
  {
   "cell_type": "markdown",
   "metadata": {
    "id": "9CKdGC8lHxJc",
    "tags": []
   },
   "source": [
    "## Model - Klasifikasi dengan KNN\n",
    "Disini, gunakan data pertama kalian untuk membentuk model KNN. (Dijelaskan di Colab Modul 4)"
   ]
  },
  {
   "cell_type": "code",
   "execution_count": 40,
   "metadata": {
    "id": "Gt6zuvwAH50b"
   },
   "outputs": [],
   "source": [
    "# Buat objek model KNN\n",
    "\n",
    "# Latih Model"
   ]
  },
  {
   "cell_type": "markdown",
   "metadata": {},
   "source": [
    "### Split data menjadi training dan testing"
   ]
  },
  {
   "cell_type": "markdown",
   "metadata": {},
   "source": [
    "Pertama, **kita bagi dataset menjadi training dan tes**. Mari kita alokasikan 70% untuk training, dan 30% untuk testing."
   ]
  },
  {
   "cell_type": "code",
   "execution_count": 41,
   "metadata": {},
   "outputs": [],
   "source": [
    "# Kita gunakan fungsi dari sklearn\n",
    "from sklearn.model_selection import train_test_split  \n",
    "x_train, x_test, y_train, y_test= train_test_split(x, y, test_size= 0.3, random_state=0)"
   ]
  },
  {
   "cell_type": "markdown",
   "metadata": {},
   "source": [
    "Setelah itu, kita panggil Algoritma KNN, dan **masukkan data kedalam algoritma**. Disini, kita pilih menggunakan nilai K = 3, dan metric bernilai euclidean. Artinya, kita akan melihat jarak euclid sebuah data baru terhadap 3 tetangga terdekatnya."
   ]
  },
  {
   "cell_type": "markdown",
   "metadata": {},
   "source": [
    "### Training Data"
   ]
  },
  {
   "cell_type": "code",
   "execution_count": 42,
   "metadata": {},
   "outputs": [
    {
     "data": {
      "text/plain": [
       "KNeighborsClassifier(metric='euclidean', n_neighbors=3, weights='distance')"
      ]
     },
     "execution_count": 42,
     "metadata": {},
     "output_type": "execute_result"
    }
   ],
   "source": [
    "# Panggil KNN dengan nama KNeighborsClassifier\n",
    "from sklearn.neighbors import KNeighborsClassifier  \n",
    "knn_train = KNeighborsClassifier(n_neighbors= 3,weights = 'distance' ,metric=\"euclidean\")\n",
    "knn_train.fit(x_train.values, y_train.values)"
   ]
  },
  {
   "cell_type": "code",
   "execution_count": 43,
   "metadata": {},
   "outputs": [
    {
     "data": {
      "text/plain": [
       "array(['STAR'], dtype=object)"
      ]
     },
     "execution_count": 43,
     "metadata": {},
     "output_type": "execute_result"
    }
   ],
   "source": [
    "# Prediksi dengan model\n",
    "\n",
    "knn_train.predict([[150, 25]])"
   ]
  },
  {
   "cell_type": "markdown",
   "metadata": {
    "tags": []
   },
   "source": [
    "Dapat kita lihat dari hasil diatas, program mengatakan bahwa class dengan alpha `150` dan u `25` dimasukkan ke kategori **STAR**"
   ]
  },
  {
   "cell_type": "markdown",
   "metadata": {},
   "source": [
    "Lalu, bagaimana sebaran kategori dari data training? Coba kita buat scatterplot."
   ]
  },
  {
   "cell_type": "code",
   "execution_count": 44,
   "metadata": {},
   "outputs": [
    {
     "data": {
      "image/png": "[encoded data removed]",
      "text/plain": [
       "<Figure size 432x288 with 1 Axes>"
      ]
     },
     "metadata": {},
     "output_type": "display_data"
    }
   ],
   "source": [
    "# Ubah terlebih dahulu y_train menjadi sebuah dataframe\n",
    "df_ytrain = pd.DataFrame(y_train)\n",
    "\n",
    "# Kita gabungkan x_train dan y_train\n",
    "df_training = pd.concat([x_train, df_ytrain], axis = 1)\n",
    "df_training.reset_index(inplace = True)\n",
    "df_training.drop(columns = [\"index\"])\n",
    "\n",
    "# Kita buat scatterplot dengan seaborn agar lebih muda mewarnai kategori\n",
    "import seaborn as sns\n",
    "sns.scatterplot(data = df_training, x = 'alpha', y = 'u', hue = 'class')\n",
    "plt.title('Sebaran Data Training Galaxy_2')\n",
    "plt.xlim(140, 200)\n",
    "plt.show()"
   ]
  },
  {
   "cell_type": "markdown",
   "metadata": {},
   "source": [
    "### Testing Data"
   ]
  },
  {
   "cell_type": "markdown",
   "metadata": {},
   "source": [
    "Setelah itu, **ayo kita coba lakukan testing**. Melakukan percobaan (Silahkan mencoba sendiri dengan mengganti nilai dibawah)"
   ]
  },
  {
   "cell_type": "code",
   "execution_count": 45,
   "metadata": {},
   "outputs": [
    {
     "data": {
      "text/plain": [
       "KNeighborsClassifier(metric='euclidean', n_neighbors=3, weights='distance')"
      ]
     },
     "execution_count": 45,
     "metadata": {},
     "output_type": "execute_result"
    }
   ],
   "source": [
    "# Panggil KNN dengan nama KNeighborsClassifier\n",
    "from sklearn.neighbors import KNeighborsClassifier  \n",
    "knn_test = KNeighborsClassifier(n_neighbors= 3,weights = 'distance' ,metric=\"euclidean\")\n",
    "knn_test.fit(x_test.values, y_test.values)"
   ]
  },
  {
   "cell_type": "code",
   "execution_count": 67,
   "metadata": {},
   "outputs": [],
   "source": [
    "y_pred = knn_test.predict(x_test)"
   ]
  },
  {
   "cell_type": "markdown",
   "metadata": {},
   "source": [
    "Sekarang, ayo **kita gunakan data testing tadi**, dan bandingkan hasil prediksi dengan realita."
   ]
  },
  {
   "cell_type": "code",
   "execution_count": 46,
   "metadata": {},
   "outputs": [
    {
     "data": {
      "text/html": [
       "<div>\n",
       "<style scoped>\n",
       "    .dataframe tbody tr th:only-of-type {\n",
       "        vertical-align: middle;\n",
       "    }\n",
       "\n",
       "    .dataframe tbody tr th {\n",
       "        vertical-align: top;\n",
       "    }\n",
       "\n",
       "    .dataframe thead th {\n",
       "        text-align: right;\n",
       "    }\n",
       "</style>\n",
       "<table border=\"1\" class=\"dataframe\">\n",
       "  <thead>\n",
       "    <tr style=\"text-align: right;\">\n",
       "      <th></th>\n",
       "      <th>alpha</th>\n",
       "      <th>u</th>\n",
       "      <th>Prediction</th>\n",
       "      <th>Real</th>\n",
       "    </tr>\n",
       "  </thead>\n",
       "  <tbody>\n",
       "    <tr>\n",
       "      <th>0</th>\n",
       "      <td>13.161838</td>\n",
       "      <td>23.96359</td>\n",
       "      <td>GALAXY</td>\n",
       "      <td>GALAXY</td>\n",
       "    </tr>\n",
       "    <tr>\n",
       "      <th>1</th>\n",
       "      <td>200.572696</td>\n",
       "      <td>21.25550</td>\n",
       "      <td>QSO</td>\n",
       "      <td>QSO</td>\n",
       "    </tr>\n",
       "    <tr>\n",
       "      <th>2</th>\n",
       "      <td>115.257132</td>\n",
       "      <td>23.27590</td>\n",
       "      <td>GALAXY</td>\n",
       "      <td>GALAXY</td>\n",
       "    </tr>\n",
       "    <tr>\n",
       "      <th>3</th>\n",
       "      <td>36.043670</td>\n",
       "      <td>22.03466</td>\n",
       "      <td>GALAXY</td>\n",
       "      <td>GALAXY</td>\n",
       "    </tr>\n",
       "    <tr>\n",
       "      <th>4</th>\n",
       "      <td>5.225188</td>\n",
       "      <td>21.22157</td>\n",
       "      <td>GALAXY</td>\n",
       "      <td>GALAXY</td>\n",
       "    </tr>\n",
       "    <tr>\n",
       "      <th>5</th>\n",
       "      <td>24.903509</td>\n",
       "      <td>19.68827</td>\n",
       "      <td>QSO</td>\n",
       "      <td>QSO</td>\n",
       "    </tr>\n",
       "    <tr>\n",
       "      <th>6</th>\n",
       "      <td>328.312642</td>\n",
       "      <td>21.54650</td>\n",
       "      <td>QSO</td>\n",
       "      <td>QSO</td>\n",
       "    </tr>\n",
       "    <tr>\n",
       "      <th>7</th>\n",
       "      <td>145.442679</td>\n",
       "      <td>18.69861</td>\n",
       "      <td>STAR</td>\n",
       "      <td>STAR</td>\n",
       "    </tr>\n",
       "    <tr>\n",
       "      <th>8</th>\n",
       "      <td>201.980736</td>\n",
       "      <td>21.89280</td>\n",
       "      <td>GALAXY</td>\n",
       "      <td>GALAXY</td>\n",
       "    </tr>\n",
       "    <tr>\n",
       "      <th>9</th>\n",
       "      <td>142.857604</td>\n",
       "      <td>23.64962</td>\n",
       "      <td>GALAXY</td>\n",
       "      <td>GALAXY</td>\n",
       "    </tr>\n",
       "  </tbody>\n",
       "</table>\n",
       "</div>"
      ],
      "text/plain": [
       "        alpha         u Prediction    Real\n",
       "0   13.161838  23.96359     GALAXY  GALAXY\n",
       "1  200.572696  21.25550        QSO     QSO\n",
       "2  115.257132  23.27590     GALAXY  GALAXY\n",
       "3   36.043670  22.03466     GALAXY  GALAXY\n",
       "4    5.225188  21.22157     GALAXY  GALAXY\n",
       "5   24.903509  19.68827        QSO     QSO\n",
       "6  328.312642  21.54650        QSO     QSO\n",
       "7  145.442679  18.69861       STAR    STAR\n",
       "8  201.980736  21.89280     GALAXY  GALAXY\n",
       "9  142.857604  23.64962     GALAXY  GALAXY"
      ]
     },
     "execution_count": 46,
     "metadata": {},
     "output_type": "execute_result"
    }
   ],
   "source": [
    "# Kita buat sebuah dataframe dengan beberapa kolom\n",
    "gl_Testing = pd.DataFrame(columns = ['alpha','u','Prediction','Real'])\n",
    "\n",
    "# Kemudian, kita isi tiap-tiap kolom dan baris\n",
    "gl_Testing.loc[:,'alpha'] = x_test['alpha'].values\n",
    "gl_Testing.loc[:,'u'] = x_test['u'].values\n",
    "gl_Testing.loc[:,'Prediction'] = knn_test.predict(x_test.to_numpy())\n",
    "gl_Testing.loc[:,'Real'] = y_test.values\n",
    "\n",
    "# Lalu, kita panggil\n",
    "gl_Testing.head(10)"
   ]
  },
  {
   "cell_type": "markdown",
   "metadata": {},
   "source": [
    "Dari sini bisa kita lihat pada sepuluh data teratas, bahwa dengan alpha `142.857604` dan u `23.64962` , diprediksi oleh algoritma termasuk class **GALAXY**, begitu juga dengan alpha `13.161838` dan u `23.96259`."
   ]
  },
  {
   "cell_type": "markdown",
   "metadata": {},
   "source": [
    "Selanjutnya, kita coba lihat sebaran kategori dari data testing dengan scatterplot."
   ]
  },
  {
   "cell_type": "code",
   "execution_count": 47,
   "metadata": {},
   "outputs": [
    {
     "data": {
      "image/png": "[encoded data removed]",
      "text/plain": [
       "<Figure size 432x288 with 1 Axes>"
      ]
     },
     "metadata": {},
     "output_type": "display_data"
    }
   ],
   "source": [
    "# Ubah terlebih dahulu y_train menjadi sebuah dataframe\n",
    "df_ytest = pd.DataFrame(y_test)\n",
    "\n",
    "# Kita gabungkan x_train dan y_train\n",
    "df_testing = pd.concat([x_test, df_ytest], axis = 1)\n",
    "df_testing.reset_index(inplace = True)\n",
    "df_testing.drop(columns = [\"index\"])\n",
    "\n",
    "# Kita buat scatterplot dengan seaborn agar lebih muda mewarnai kategori\n",
    "import seaborn as sns\n",
    "sns.scatterplot(data = df_testing, x = 'alpha', y = 'u', hue = 'class')\n",
    "plt.title('Sebaran Data Testing Galaxy_2')\n",
    "plt.xlim(140, 200)\n",
    "plt.show()"
   ]
  },
  {
   "cell_type": "code",
   "execution_count": 68,
   "metadata": {
    "colab": {
     "base_uri": "https://localhost:8080/"
    },
    "id": "98Psq8U901Uu",
    "outputId": "2638ccbc-3f90-44c8-a91b-d82402a744b9",
    "tags": []
   },
   "outputs": [
    {
     "name": "stdout",
     "output_type": "stream",
     "text": [
      "              precision    recall  f1-score   support\n",
      "\n",
      "      GALAXY       1.00      1.00      1.00     17809\n",
      "         QSO       1.00      1.00      1.00      5641\n",
      "        STAR       1.00      1.00      1.00      6550\n",
      "\n",
      "    accuracy                           1.00     30000\n",
      "   macro avg       1.00      1.00      1.00     30000\n",
      "weighted avg       1.00      1.00      1.00     30000\n",
      "\n"
     ]
    }
   ],
   "source": [
    "print(classification_report(y_test, y_pred))"
   ]
  },
  {
   "cell_type": "code",
   "execution_count": 69,
   "metadata": {
    "colab": {
     "base_uri": "https://localhost:8080/"
    },
    "id": "jyVavmWo03yh",
    "outputId": "de34a9bd-903b-464f-a818-a1bf0c93b7f0"
   },
   "outputs": [
    {
     "name": "stdout",
     "output_type": "stream",
     "text": [
      "[[17809     0     0]\n",
      " [    0  5641     0]\n",
      " [    0     0  6550]]\n"
     ]
    }
   ],
   "source": [
    "print(confusion_matrix(y_test, y_pred))"
   ]
  },
  {
   "cell_type": "code",
   "execution_count": 70,
   "metadata": {
    "colab": {
     "base_uri": "https://localhost:8080/"
    },
    "id": "UFhBkjIh058E",
    "outputId": "92feca87-b95e-42d3-8b7c-4685be923604"
   },
   "outputs": [
    {
     "name": "stdout",
     "output_type": "stream",
     "text": [
      "100.0\n"
     ]
    }
   ],
   "source": [
    "print(accuracy_score(y_test, y_pred)*100)"
   ]
  },
  {
   "cell_type": "markdown",
   "metadata": {
    "id": "DjLM-WZoIN01",
    "tags": []
   },
   "source": [
    "### Cara Kerja Algoritma KNN.\n",
    "Jelaskan cara kerja algoritma knn yang kalian gunakan."
   ]
  },
  {
   "cell_type": "markdown",
   "metadata": {
    "id": "V2QC7r-lIby8"
   },
   "source": [
    "(Penjelasan/Jawaban)"
   ]
  },
  {
   "cell_type": "markdown",
   "metadata": {},
   "source": [
    "> Algoritma KNN (K-Nearest Neighbors) melakukan prediksi dengan cara mencari nilai median dari tetangga terdekat `(Nearest Neighbors)` dengan menggunakan metode **Euclidean Distance** dan menggunakan mekanisme **penentuan nilai K optimal**. Dalam menggunakan algoritma ini, kita harus menentukan dahulu **query point** yang akan diprediksi untuk ditentukan termasuk bagian dari mana data tersebut `(class)`. Pada pengerjaan kita, kita menggunakan query point `(150, 25)` pada training data. Selanjutnya, kita akan menentukan nilai **K** yang optimal untuk membantu kita dalam memprediksi query point kita. Nilai K pada pengerjaan ini ditentukan dengan menggunakan **nilai yang ganjil atau voting mayoritas** . Alasannya karena persebaran data kita miliki yang sangat banyak dan letak data yang cukup sulit untuk ditentukan posisinya. Oleh karena itu, saya memilih nilai `K = 3` dikarenakan nilai tersebut sangat optimum untuk digunakan dan tidak terlalu sensitif juga terhadap outliers."
   ]
  },
  {
   "cell_type": "markdown",
   "metadata": {},
   "source": [
    "> Secara keseluruhan dengan menggunakan pattern yang disebutkan diatas, didapatkan bahwa prediksi `query point (150,25)` training data termasuk pada bagian kategori class **STAR**. Tidak lupa juga setelah itu dilakukan pengujian testing data dengan melihat prediksi dan actual value dari pada testing data dan dilakukan juga scatterplot untuk melihat persebaran data  yang sudah disampaikan diatas. Sekian dari penjelasan saya, terimakasih."
   ]
  },
  {
   "cell_type": "markdown",
   "metadata": {
    "id": "Cve_hEwaIge8",
    "tags": []
   },
   "source": [
    "## Model - Regresi Linear dengan Stochastic Gradient Descent\n",
    "Disini, gunakan data kedua kalian untuk membentuk model regresi linear dengan SGD. (Dijelaskan di Colab Modul 3)"
   ]
  },
  {
   "cell_type": "code",
   "execution_count": 48,
   "metadata": {
    "id": "QBreVSjxIoML"
   },
   "outputs": [],
   "source": [
    "# Buat objek model Regresi Linear dengan SGD\n",
    "\n",
    "# Latih Model"
   ]
  },
  {
   "cell_type": "code",
   "execution_count": 49,
   "metadata": {},
   "outputs": [
    {
     "data": {
      "text/html": [
       "<div>\n",
       "<style scoped>\n",
       "    .dataframe tbody tr th:only-of-type {\n",
       "        vertical-align: middle;\n",
       "    }\n",
       "\n",
       "    .dataframe tbody tr th {\n",
       "        vertical-align: top;\n",
       "    }\n",
       "\n",
       "    .dataframe thead th {\n",
       "        text-align: right;\n",
       "    }\n",
       "</style>\n",
       "<table border=\"1\" class=\"dataframe\">\n",
       "  <thead>\n",
       "    <tr style=\"text-align: right;\">\n",
       "      <th></th>\n",
       "      <th>Unnamed: 0</th>\n",
       "      <th>work_year</th>\n",
       "      <th>experience_level</th>\n",
       "      <th>employment_type</th>\n",
       "      <th>job_title</th>\n",
       "      <th>salary</th>\n",
       "      <th>salary_currency</th>\n",
       "      <th>salary_in_usd</th>\n",
       "      <th>employee_residence</th>\n",
       "      <th>remote_ratio</th>\n",
       "      <th>company_location</th>\n",
       "      <th>company_size</th>\n",
       "    </tr>\n",
       "  </thead>\n",
       "  <tbody>\n",
       "    <tr>\n",
       "      <th>0</th>\n",
       "      <td>0</td>\n",
       "      <td>2020</td>\n",
       "      <td>MI</td>\n",
       "      <td>FT</td>\n",
       "      <td>Data Scientist</td>\n",
       "      <td>70000</td>\n",
       "      <td>EUR</td>\n",
       "      <td>79833</td>\n",
       "      <td>DE</td>\n",
       "      <td>0</td>\n",
       "      <td>DE</td>\n",
       "      <td>L</td>\n",
       "    </tr>\n",
       "    <tr>\n",
       "      <th>1</th>\n",
       "      <td>1</td>\n",
       "      <td>2020</td>\n",
       "      <td>SE</td>\n",
       "      <td>FT</td>\n",
       "      <td>Machine Learning Scientist</td>\n",
       "      <td>260000</td>\n",
       "      <td>USD</td>\n",
       "      <td>260000</td>\n",
       "      <td>JP</td>\n",
       "      <td>0</td>\n",
       "      <td>JP</td>\n",
       "      <td>S</td>\n",
       "    </tr>\n",
       "    <tr>\n",
       "      <th>2</th>\n",
       "      <td>2</td>\n",
       "      <td>2020</td>\n",
       "      <td>SE</td>\n",
       "      <td>FT</td>\n",
       "      <td>Big Data Engineer</td>\n",
       "      <td>85000</td>\n",
       "      <td>GBP</td>\n",
       "      <td>109024</td>\n",
       "      <td>GB</td>\n",
       "      <td>50</td>\n",
       "      <td>GB</td>\n",
       "      <td>M</td>\n",
       "    </tr>\n",
       "    <tr>\n",
       "      <th>3</th>\n",
       "      <td>3</td>\n",
       "      <td>2020</td>\n",
       "      <td>MI</td>\n",
       "      <td>FT</td>\n",
       "      <td>Product Data Analyst</td>\n",
       "      <td>20000</td>\n",
       "      <td>USD</td>\n",
       "      <td>20000</td>\n",
       "      <td>HN</td>\n",
       "      <td>0</td>\n",
       "      <td>HN</td>\n",
       "      <td>S</td>\n",
       "    </tr>\n",
       "    <tr>\n",
       "      <th>4</th>\n",
       "      <td>4</td>\n",
       "      <td>2020</td>\n",
       "      <td>SE</td>\n",
       "      <td>FT</td>\n",
       "      <td>Machine Learning Engineer</td>\n",
       "      <td>150000</td>\n",
       "      <td>USD</td>\n",
       "      <td>150000</td>\n",
       "      <td>US</td>\n",
       "      <td>50</td>\n",
       "      <td>US</td>\n",
       "      <td>L</td>\n",
       "    </tr>\n",
       "    <tr>\n",
       "      <th>...</th>\n",
       "      <td>...</td>\n",
       "      <td>...</td>\n",
       "      <td>...</td>\n",
       "      <td>...</td>\n",
       "      <td>...</td>\n",
       "      <td>...</td>\n",
       "      <td>...</td>\n",
       "      <td>...</td>\n",
       "      <td>...</td>\n",
       "      <td>...</td>\n",
       "      <td>...</td>\n",
       "      <td>...</td>\n",
       "    </tr>\n",
       "    <tr>\n",
       "      <th>602</th>\n",
       "      <td>602</td>\n",
       "      <td>2022</td>\n",
       "      <td>SE</td>\n",
       "      <td>FT</td>\n",
       "      <td>Data Engineer</td>\n",
       "      <td>154000</td>\n",
       "      <td>USD</td>\n",
       "      <td>154000</td>\n",
       "      <td>US</td>\n",
       "      <td>100</td>\n",
       "      <td>US</td>\n",
       "      <td>M</td>\n",
       "    </tr>\n",
       "    <tr>\n",
       "      <th>603</th>\n",
       "      <td>603</td>\n",
       "      <td>2022</td>\n",
       "      <td>SE</td>\n",
       "      <td>FT</td>\n",
       "      <td>Data Engineer</td>\n",
       "      <td>126000</td>\n",
       "      <td>USD</td>\n",
       "      <td>126000</td>\n",
       "      <td>US</td>\n",
       "      <td>100</td>\n",
       "      <td>US</td>\n",
       "      <td>M</td>\n",
       "    </tr>\n",
       "    <tr>\n",
       "      <th>604</th>\n",
       "      <td>604</td>\n",
       "      <td>2022</td>\n",
       "      <td>SE</td>\n",
       "      <td>FT</td>\n",
       "      <td>Data Analyst</td>\n",
       "      <td>129000</td>\n",
       "      <td>USD</td>\n",
       "      <td>129000</td>\n",
       "      <td>US</td>\n",
       "      <td>0</td>\n",
       "      <td>US</td>\n",
       "      <td>M</td>\n",
       "    </tr>\n",
       "    <tr>\n",
       "      <th>605</th>\n",
       "      <td>605</td>\n",
       "      <td>2022</td>\n",
       "      <td>SE</td>\n",
       "      <td>FT</td>\n",
       "      <td>Data Analyst</td>\n",
       "      <td>150000</td>\n",
       "      <td>USD</td>\n",
       "      <td>150000</td>\n",
       "      <td>US</td>\n",
       "      <td>100</td>\n",
       "      <td>US</td>\n",
       "      <td>M</td>\n",
       "    </tr>\n",
       "    <tr>\n",
       "      <th>606</th>\n",
       "      <td>606</td>\n",
       "      <td>2022</td>\n",
       "      <td>MI</td>\n",
       "      <td>FT</td>\n",
       "      <td>AI Scientist</td>\n",
       "      <td>200000</td>\n",
       "      <td>USD</td>\n",
       "      <td>200000</td>\n",
       "      <td>IN</td>\n",
       "      <td>100</td>\n",
       "      <td>US</td>\n",
       "      <td>L</td>\n",
       "    </tr>\n",
       "  </tbody>\n",
       "</table>\n",
       "<p>607 rows × 12 columns</p>\n",
       "</div>"
      ],
      "text/plain": [
       "     Unnamed: 0  work_year experience_level employment_type  \\\n",
       "0             0       2020               MI              FT   \n",
       "1             1       2020               SE              FT   \n",
       "2             2       2020               SE              FT   \n",
       "3             3       2020               MI              FT   \n",
       "4             4       2020               SE              FT   \n",
       "..          ...        ...              ...             ...   \n",
       "602         602       2022               SE              FT   \n",
       "603         603       2022               SE              FT   \n",
       "604         604       2022               SE              FT   \n",
       "605         605       2022               SE              FT   \n",
       "606         606       2022               MI              FT   \n",
       "\n",
       "                      job_title  salary salary_currency  salary_in_usd  \\\n",
       "0                Data Scientist   70000             EUR          79833   \n",
       "1    Machine Learning Scientist  260000             USD         260000   \n",
       "2             Big Data Engineer   85000             GBP         109024   \n",
       "3          Product Data Analyst   20000             USD          20000   \n",
       "4     Machine Learning Engineer  150000             USD         150000   \n",
       "..                          ...     ...             ...            ...   \n",
       "602               Data Engineer  154000             USD         154000   \n",
       "603               Data Engineer  126000             USD         126000   \n",
       "604                Data Analyst  129000             USD         129000   \n",
       "605                Data Analyst  150000             USD         150000   \n",
       "606                AI Scientist  200000             USD         200000   \n",
       "\n",
       "    employee_residence  remote_ratio company_location company_size  \n",
       "0                   DE             0               DE            L  \n",
       "1                   JP             0               JP            S  \n",
       "2                   GB            50               GB            M  \n",
       "3                   HN             0               HN            S  \n",
       "4                   US            50               US            L  \n",
       "..                 ...           ...              ...          ...  \n",
       "602                 US           100               US            M  \n",
       "603                 US           100               US            M  \n",
       "604                 US             0               US            M  \n",
       "605                 US           100               US            M  \n",
       "606                 IN           100               US            L  \n",
       "\n",
       "[607 rows x 12 columns]"
      ]
     },
     "execution_count": 49,
     "metadata": {},
     "output_type": "execute_result"
    }
   ],
   "source": [
    "ds"
   ]
  },
  {
   "cell_type": "markdown",
   "metadata": {
    "tags": []
   },
   "source": [
    "### Build Model"
   ]
  },
  {
   "cell_type": "code",
   "execution_count": 50,
   "metadata": {},
   "outputs": [],
   "source": [
    "df1 = ds[['remote_ratio']]\n",
    "df2 = ds[['salary' ]]"
   ]
  },
  {
   "cell_type": "code",
   "execution_count": 51,
   "metadata": {},
   "outputs": [
    {
     "data": {
      "text/html": [
       "<div>\n",
       "<style scoped>\n",
       "    .dataframe tbody tr th:only-of-type {\n",
       "        vertical-align: middle;\n",
       "    }\n",
       "\n",
       "    .dataframe tbody tr th {\n",
       "        vertical-align: top;\n",
       "    }\n",
       "\n",
       "    .dataframe thead th {\n",
       "        text-align: right;\n",
       "    }\n",
       "</style>\n",
       "<table border=\"1\" class=\"dataframe\">\n",
       "  <thead>\n",
       "    <tr style=\"text-align: right;\">\n",
       "      <th></th>\n",
       "      <th>remote_ratio</th>\n",
       "    </tr>\n",
       "  </thead>\n",
       "  <tbody>\n",
       "    <tr>\n",
       "      <th>0</th>\n",
       "      <td>0</td>\n",
       "    </tr>\n",
       "    <tr>\n",
       "      <th>1</th>\n",
       "      <td>0</td>\n",
       "    </tr>\n",
       "    <tr>\n",
       "      <th>2</th>\n",
       "      <td>50</td>\n",
       "    </tr>\n",
       "    <tr>\n",
       "      <th>3</th>\n",
       "      <td>0</td>\n",
       "    </tr>\n",
       "    <tr>\n",
       "      <th>4</th>\n",
       "      <td>50</td>\n",
       "    </tr>\n",
       "  </tbody>\n",
       "</table>\n",
       "</div>"
      ],
      "text/plain": [
       "   remote_ratio\n",
       "0             0\n",
       "1             0\n",
       "2            50\n",
       "3             0\n",
       "4            50"
      ]
     },
     "execution_count": 51,
     "metadata": {},
     "output_type": "execute_result"
    }
   ],
   "source": [
    "df1.head()"
   ]
  },
  {
   "cell_type": "code",
   "execution_count": 52,
   "metadata": {},
   "outputs": [
    {
     "data": {
      "text/html": [
       "<div>\n",
       "<style scoped>\n",
       "    .dataframe tbody tr th:only-of-type {\n",
       "        vertical-align: middle;\n",
       "    }\n",
       "\n",
       "    .dataframe tbody tr th {\n",
       "        vertical-align: top;\n",
       "    }\n",
       "\n",
       "    .dataframe thead th {\n",
       "        text-align: right;\n",
       "    }\n",
       "</style>\n",
       "<table border=\"1\" class=\"dataframe\">\n",
       "  <thead>\n",
       "    <tr style=\"text-align: right;\">\n",
       "      <th></th>\n",
       "      <th>salary</th>\n",
       "    </tr>\n",
       "  </thead>\n",
       "  <tbody>\n",
       "    <tr>\n",
       "      <th>0</th>\n",
       "      <td>70000</td>\n",
       "    </tr>\n",
       "    <tr>\n",
       "      <th>1</th>\n",
       "      <td>260000</td>\n",
       "    </tr>\n",
       "    <tr>\n",
       "      <th>2</th>\n",
       "      <td>85000</td>\n",
       "    </tr>\n",
       "    <tr>\n",
       "      <th>3</th>\n",
       "      <td>20000</td>\n",
       "    </tr>\n",
       "    <tr>\n",
       "      <th>4</th>\n",
       "      <td>150000</td>\n",
       "    </tr>\n",
       "  </tbody>\n",
       "</table>\n",
       "</div>"
      ],
      "text/plain": [
       "   salary\n",
       "0   70000\n",
       "1  260000\n",
       "2   85000\n",
       "3   20000\n",
       "4  150000"
      ]
     },
     "execution_count": 52,
     "metadata": {},
     "output_type": "execute_result"
    }
   ],
   "source": [
    "df2.head()"
   ]
  },
  {
   "cell_type": "markdown",
   "metadata": {},
   "source": [
    "### Split target variable"
   ]
  },
  {
   "cell_type": "code",
   "execution_count": 53,
   "metadata": {},
   "outputs": [
    {
     "data": {
      "text/plain": [
       "<matplotlib.collections.PathCollection at 0x2481e049820>"
      ]
     },
     "execution_count": 53,
     "metadata": {},
     "output_type": "execute_result"
    },
    {
     "data": {
      "image/png": "[encoded data removed]",
      "text/plain": [
       "<Figure size 432x288 with 1 Axes>"
      ]
     },
     "metadata": {},
     "output_type": "display_data"
    }
   ],
   "source": [
    "# split target variable\n",
    "X = df1.values\n",
    "y = df2.values.reshape(-1,1)\n",
    "plt.scatter(X, y)"
   ]
  },
  {
   "cell_type": "code",
   "execution_count": 54,
   "metadata": {
    "scrolled": true
   },
   "outputs": [
    {
     "data": {
      "text/plain": [
       "array([[  0],\n",
       "       [  0],\n",
       "       [ 50],\n",
       "       [  0],\n",
       "       [ 50],\n",
       "       [100],\n",
       "       [100],\n",
       "       [ 50],\n",
       "       [100],\n",
       "       [ 50],\n",
       "       [  0],\n",
       "       [  0],\n",
       "       [  0],\n",
       "       [100],\n",
       "       [100],\n",
       "       [ 50],\n",
       "       [100],\n",
       "       [100],\n",
       "       [ 50],\n",
       "       [100],\n",
       "       [  0],\n",
       "       [100],\n",
       "       [ 50],\n",
       "       [  0],\n",
       "       [  0],\n",
       "       [100],\n",
       "       [ 50],\n",
       "       [  0],\n",
       "       [100],\n",
       "       [ 50],\n",
       "       [100],\n",
       "       [100],\n",
       "       [100],\n",
       "       [  0],\n",
       "       [ 50],\n",
       "       [ 50],\n",
       "       [100],\n",
       "       [ 50],\n",
       "       [100],\n",
       "       [100],\n",
       "       [100],\n",
       "       [ 50],\n",
       "       [  0],\n",
       "       [100],\n",
       "       [ 50],\n",
       "       [100],\n",
       "       [100],\n",
       "       [100],\n",
       "       [100],\n",
       "       [ 50],\n",
       "       [  0],\n",
       "       [100],\n",
       "       [ 50],\n",
       "       [100],\n",
       "       [100],\n",
       "       [100],\n",
       "       [100],\n",
       "       [100],\n",
       "       [ 50],\n",
       "       [100],\n",
       "       [100],\n",
       "       [100],\n",
       "       [ 50],\n",
       "       [100],\n",
       "       [100],\n",
       "       [ 50],\n",
       "       [  0],\n",
       "       [100],\n",
       "       [100],\n",
       "       [  0],\n",
       "       [ 50],\n",
       "       [ 50],\n",
       "       [ 50],\n",
       "       [100],\n",
       "       [100],\n",
       "       [ 50],\n",
       "       [100],\n",
       "       [ 50],\n",
       "       [100],\n",
       "       [100],\n",
       "       [100],\n",
       "       [100],\n",
       "       [ 50],\n",
       "       [100],\n",
       "       [100],\n",
       "       [100],\n",
       "       [ 50],\n",
       "       [100],\n",
       "       [100],\n",
       "       [100],\n",
       "       [100],\n",
       "       [100],\n",
       "       [100],\n",
       "       [  0],\n",
       "       [ 50],\n",
       "       [ 50],\n",
       "       [100],\n",
       "       [100],\n",
       "       [100],\n",
       "       [100],\n",
       "       [  0],\n",
       "       [100],\n",
       "       [ 50],\n",
       "       [  0],\n",
       "       [  0],\n",
       "       [ 50],\n",
       "       [100],\n",
       "       [100],\n",
       "       [100],\n",
       "       [100],\n",
       "       [ 50],\n",
       "       [100],\n",
       "       [100],\n",
       "       [100],\n",
       "       [100],\n",
       "       [100],\n",
       "       [100],\n",
       "       [100],\n",
       "       [100],\n",
       "       [100],\n",
       "       [ 50],\n",
       "       [100],\n",
       "       [100],\n",
       "       [  0],\n",
       "       [ 50],\n",
       "       [100],\n",
       "       [ 50],\n",
       "       [  0],\n",
       "       [100],\n",
       "       [ 50],\n",
       "       [ 50],\n",
       "       [ 50],\n",
       "       [100],\n",
       "       [100],\n",
       "       [  0],\n",
       "       [100],\n",
       "       [ 50],\n",
       "       [ 50],\n",
       "       [  0],\n",
       "       [100],\n",
       "       [100],\n",
       "       [  0],\n",
       "       [  0],\n",
       "       [100],\n",
       "       [100],\n",
       "       [ 50],\n",
       "       [ 50],\n",
       "       [100],\n",
       "       [100],\n",
       "       [100],\n",
       "       [  0],\n",
       "       [100],\n",
       "       [100],\n",
       "       [100],\n",
       "       [100],\n",
       "       [ 50],\n",
       "       [100],\n",
       "       [ 50],\n",
       "       [100],\n",
       "       [100],\n",
       "       [ 50],\n",
       "       [  0],\n",
       "       [ 50],\n",
       "       [ 50],\n",
       "       [ 50],\n",
       "       [100],\n",
       "       [100],\n",
       "       [  0],\n",
       "       [ 50],\n",
       "       [100],\n",
       "       [100],\n",
       "       [100],\n",
       "       [100],\n",
       "       [100],\n",
       "       [ 50],\n",
       "       [100],\n",
       "       [  0],\n",
       "       [100],\n",
       "       [ 50],\n",
       "       [100],\n",
       "       [  0],\n",
       "       [ 50],\n",
       "       [  0],\n",
       "       [ 50],\n",
       "       [ 50],\n",
       "       [100],\n",
       "       [100],\n",
       "       [100],\n",
       "       [ 50],\n",
       "       [ 50],\n",
       "       [100],\n",
       "       [ 50],\n",
       "       [  0],\n",
       "       [100],\n",
       "       [ 50],\n",
       "       [ 50],\n",
       "       [100],\n",
       "       [100],\n",
       "       [ 50],\n",
       "       [100],\n",
       "       [ 50],\n",
       "       [100],\n",
       "       [100],\n",
       "       [100],\n",
       "       [100],\n",
       "       [  0],\n",
       "       [100],\n",
       "       [  0],\n",
       "       [  0],\n",
       "       [  0],\n",
       "       [ 50],\n",
       "       [ 50],\n",
       "       [ 50],\n",
       "       [  0],\n",
       "       [ 50],\n",
       "       [100],\n",
       "       [ 50],\n",
       "       [ 50],\n",
       "       [100],\n",
       "       [100],\n",
       "       [100],\n",
       "       [ 50],\n",
       "       [  0],\n",
       "       [ 50],\n",
       "       [100],\n",
       "       [100],\n",
       "       [100],\n",
       "       [ 50],\n",
       "       [  0],\n",
       "       [100],\n",
       "       [100],\n",
       "       [100],\n",
       "       [100],\n",
       "       [100],\n",
       "       [100],\n",
       "       [  0],\n",
       "       [100],\n",
       "       [100],\n",
       "       [  0],\n",
       "       [ 50],\n",
       "       [100],\n",
       "       [100],\n",
       "       [100],\n",
       "       [100],\n",
       "       [100],\n",
       "       [ 50],\n",
       "       [ 50],\n",
       "       [  0],\n",
       "       [ 50],\n",
       "       [100],\n",
       "       [ 50],\n",
       "       [100],\n",
       "       [100],\n",
       "       [100],\n",
       "       [100],\n",
       "       [ 50],\n",
       "       [100],\n",
       "       [100],\n",
       "       [ 50],\n",
       "       [  0],\n",
       "       [ 50],\n",
       "       [ 50],\n",
       "       [100],\n",
       "       [  0],\n",
       "       [100],\n",
       "       [ 50],\n",
       "       [  0],\n",
       "       [  0],\n",
       "       [100],\n",
       "       [ 50],\n",
       "       [100],\n",
       "       [  0],\n",
       "       [  0],\n",
       "       [100],\n",
       "       [ 50],\n",
       "       [100],\n",
       "       [ 50],\n",
       "       [100],\n",
       "       [ 50],\n",
       "       [100],\n",
       "       [100],\n",
       "       [  0],\n",
       "       [100],\n",
       "       [100],\n",
       "       [ 50],\n",
       "       [ 50],\n",
       "       [100],\n",
       "       [ 50],\n",
       "       [ 50],\n",
       "       [100],\n",
       "       [100],\n",
       "       [100],\n",
       "       [  0],\n",
       "       [  0],\n",
       "       [100],\n",
       "       [100],\n",
       "       [100],\n",
       "       [100],\n",
       "       [100],\n",
       "       [100],\n",
       "       [  0],\n",
       "       [  0],\n",
       "       [100],\n",
       "       [100],\n",
       "       [100],\n",
       "       [  0],\n",
       "       [  0],\n",
       "       [  0],\n",
       "       [  0],\n",
       "       [100],\n",
       "       [100],\n",
       "       [  0],\n",
       "       [  0],\n",
       "       [  0],\n",
       "       [  0],\n",
       "       [100],\n",
       "       [100],\n",
       "       [100],\n",
       "       [100],\n",
       "       [  0],\n",
       "       [  0],\n",
       "       [  0],\n",
       "       [  0],\n",
       "       [  0],\n",
       "       [  0],\n",
       "       [100],\n",
       "       [100],\n",
       "       [100],\n",
       "       [100],\n",
       "       [100],\n",
       "       [100],\n",
       "       [100],\n",
       "       [100],\n",
       "       [100],\n",
       "       [100],\n",
       "       [100],\n",
       "       [100],\n",
       "       [100],\n",
       "       [100],\n",
       "       [100],\n",
       "       [100],\n",
       "       [100],\n",
       "       [100],\n",
       "       [100],\n",
       "       [100],\n",
       "       [100],\n",
       "       [  0],\n",
       "       [  0],\n",
       "       [  0],\n",
       "       [100],\n",
       "       [100],\n",
       "       [100],\n",
       "       [100],\n",
       "       [100],\n",
       "       [  0],\n",
       "       [  0],\n",
       "       [  0],\n",
       "       [100],\n",
       "       [100],\n",
       "       [100],\n",
       "       [100],\n",
       "       [100],\n",
       "       [100],\n",
       "       [100],\n",
       "       [  0],\n",
       "       [100],\n",
       "       [  0],\n",
       "       [  0],\n",
       "       [100],\n",
       "       [100],\n",
       "       [100],\n",
       "       [  0],\n",
       "       [  0],\n",
       "       [  0],\n",
       "       [  0],\n",
       "       [100],\n",
       "       [  0],\n",
       "       [100],\n",
       "       [100],\n",
       "       [100],\n",
       "       [100],\n",
       "       [100],\n",
       "       [100],\n",
       "       [100],\n",
       "       [ 50],\n",
       "       [100],\n",
       "       [100],\n",
       "       [  0],\n",
       "       [100],\n",
       "       [  0],\n",
       "       [  0],\n",
       "       [  0],\n",
       "       [100],\n",
       "       [100],\n",
       "       [100],\n",
       "       [100],\n",
       "       [100],\n",
       "       [  0],\n",
       "       [100],\n",
       "       [100],\n",
       "       [100],\n",
       "       [100],\n",
       "       [  0],\n",
       "       [  0],\n",
       "       [100],\n",
       "       [  0],\n",
       "       [  0],\n",
       "       [100],\n",
       "       [100],\n",
       "       [100],\n",
       "       [  0],\n",
       "       [  0],\n",
       "       [100],\n",
       "       [100],\n",
       "       [100],\n",
       "       [100],\n",
       "       [100],\n",
       "       [100],\n",
       "       [  0],\n",
       "       [100],\n",
       "       [100],\n",
       "       [100],\n",
       "       [100],\n",
       "       [  0],\n",
       "       [  0],\n",
       "       [  0],\n",
       "       [100],\n",
       "       [100],\n",
       "       [  0],\n",
       "       [100],\n",
       "       [100],\n",
       "       [100],\n",
       "       [100],\n",
       "       [100],\n",
       "       [100],\n",
       "       [100],\n",
       "       [100],\n",
       "       [100],\n",
       "       [  0],\n",
       "       [  0],\n",
       "       [100],\n",
       "       [100],\n",
       "       [100],\n",
       "       [100],\n",
       "       [  0],\n",
       "       [100],\n",
       "       [100],\n",
       "       [100],\n",
       "       [100],\n",
       "       [100],\n",
       "       [100],\n",
       "       [100],\n",
       "       [ 50],\n",
       "       [100],\n",
       "       [  0],\n",
       "       [ 50],\n",
       "       [100],\n",
       "       [  0],\n",
       "       [100],\n",
       "       [100],\n",
       "       [ 50],\n",
       "       [ 50],\n",
       "       [ 50],\n",
       "       [100],\n",
       "       [100],\n",
       "       [100],\n",
       "       [ 50],\n",
       "       [100],\n",
       "       [100],\n",
       "       [100],\n",
       "       [100],\n",
       "       [100],\n",
       "       [100],\n",
       "       [100],\n",
       "       [  0],\n",
       "       [  0],\n",
       "       [100],\n",
       "       [100],\n",
       "       [100],\n",
       "       [100],\n",
       "       [100],\n",
       "       [100],\n",
       "       [100],\n",
       "       [100],\n",
       "       [100],\n",
       "       [100],\n",
       "       [100],\n",
       "       [ 50],\n",
       "       [100],\n",
       "       [100],\n",
       "       [100],\n",
       "       [100],\n",
       "       [100],\n",
       "       [100],\n",
       "       [100],\n",
       "       [ 50],\n",
       "       [100],\n",
       "       [100],\n",
       "       [ 50],\n",
       "       [100],\n",
       "       [100],\n",
       "       [100],\n",
       "       [100],\n",
       "       [100],\n",
       "       [100],\n",
       "       [ 50],\n",
       "       [100],\n",
       "       [  0],\n",
       "       [100],\n",
       "       [100],\n",
       "       [100],\n",
       "       [ 50],\n",
       "       [100],\n",
       "       [100],\n",
       "       [  0],\n",
       "       [100],\n",
       "       [100],\n",
       "       [100],\n",
       "       [  0],\n",
       "       [100],\n",
       "       [100],\n",
       "       [100],\n",
       "       [100],\n",
       "       [100],\n",
       "       [100],\n",
       "       [100],\n",
       "       [100],\n",
       "       [100],\n",
       "       [100],\n",
       "       [100],\n",
       "       [  0],\n",
       "       [  0],\n",
       "       [100],\n",
       "       [100],\n",
       "       [100],\n",
       "       [100],\n",
       "       [100],\n",
       "       [100],\n",
       "       [  0],\n",
       "       [  0],\n",
       "       [100],\n",
       "       [100],\n",
       "       [  0],\n",
       "       [  0],\n",
       "       [100],\n",
       "       [100],\n",
       "       [100],\n",
       "       [100],\n",
       "       [100],\n",
       "       [100],\n",
       "       [  0],\n",
       "       [  0],\n",
       "       [100],\n",
       "       [100],\n",
       "       [100],\n",
       "       [100],\n",
       "       [100],\n",
       "       [  0],\n",
       "       [  0],\n",
       "       [  0],\n",
       "       [  0],\n",
       "       [  0],\n",
       "       [100],\n",
       "       [100],\n",
       "       [100],\n",
       "       [  0],\n",
       "       [100],\n",
       "       [  0],\n",
       "       [100],\n",
       "       [100],\n",
       "       [100],\n",
       "       [100],\n",
       "       [100],\n",
       "       [100],\n",
       "       [100],\n",
       "       [100],\n",
       "       [100],\n",
       "       [100],\n",
       "       [100],\n",
       "       [100],\n",
       "       [100],\n",
       "       [100],\n",
       "       [100],\n",
       "       [100],\n",
       "       [100],\n",
       "       [100],\n",
       "       [  0],\n",
       "       [100],\n",
       "       [  0],\n",
       "       [100],\n",
       "       [100],\n",
       "       [100],\n",
       "       [100],\n",
       "       [100],\n",
       "       [100],\n",
       "       [100],\n",
       "       [100],\n",
       "       [100],\n",
       "       [100],\n",
       "       [100],\n",
       "       [  0],\n",
       "       [  0],\n",
       "       [100],\n",
       "       [100],\n",
       "       [  0],\n",
       "       [100],\n",
       "       [100]], dtype=int64)"
      ]
     },
     "execution_count": 54,
     "metadata": {},
     "output_type": "execute_result"
    }
   ],
   "source": [
    "X"
   ]
  },
  {
   "cell_type": "code",
   "execution_count": 55,
   "metadata": {
    "scrolled": true
   },
   "outputs": [
    {
     "data": {
      "text/plain": [
       "array([[   70000],\n",
       "       [  260000],\n",
       "       [   85000],\n",
       "       [   20000],\n",
       "       [  150000],\n",
       "       [   72000],\n",
       "       [  190000],\n",
       "       [11000000],\n",
       "       [  135000],\n",
       "       [  125000],\n",
       "       [   45000],\n",
       "       [ 3000000],\n",
       "       [   35000],\n",
       "       [   87000],\n",
       "       [   85000],\n",
       "       [    8000],\n",
       "       [ 4450000],\n",
       "       [  100000],\n",
       "       [  423000],\n",
       "       [   56000],\n",
       "       [  299000],\n",
       "       [  450000],\n",
       "       [   42000],\n",
       "       [   98000],\n",
       "       [  115000],\n",
       "       [  325000],\n",
       "       [   42000],\n",
       "       [  720000],\n",
       "       [  100000],\n",
       "       [  157000],\n",
       "       [   51999],\n",
       "       [   70000],\n",
       "       [   60000],\n",
       "       [  450000],\n",
       "       [   41000],\n",
       "       [   65000],\n",
       "       [  103000],\n",
       "       [  250000],\n",
       "       [   10000],\n",
       "       [  138000],\n",
       "       [   45760],\n",
       "       [   70000],\n",
       "       [   44000],\n",
       "       [  106000],\n",
       "       [   88000],\n",
       "       [   14000],\n",
       "       [   60000],\n",
       "       [  188000],\n",
       "       [  105000],\n",
       "       [   61500],\n",
       "       [  450000],\n",
       "       [   91000],\n",
       "       [  300000],\n",
       "       [   48000],\n",
       "       [   60000],\n",
       "       [  130000],\n",
       "       [   34000],\n",
       "       [  118000],\n",
       "       [  120000],\n",
       "       [  138350],\n",
       "       [  110000],\n",
       "       [  130800],\n",
       "       [   19000],\n",
       "       [  412000],\n",
       "       [   40000],\n",
       "       [   55000],\n",
       "       [   43200],\n",
       "       [  190200],\n",
       "       [  105000],\n",
       "       [   80000],\n",
       "       [   55000],\n",
       "       [   37000],\n",
       "       [   60000],\n",
       "       [  150000],\n",
       "       [  235000],\n",
       "       [   45000],\n",
       "       [  100000],\n",
       "       [  400000],\n",
       "       [  270000],\n",
       "       [   80000],\n",
       "       [   67000],\n",
       "       [  140000],\n",
       "       [   68000],\n",
       "       [   40000],\n",
       "       [  130000],\n",
       "       [  110000],\n",
       "       [   50000],\n",
       "       [  110000],\n",
       "       [  170000],\n",
       "       [   80000],\n",
       "       [   75000],\n",
       "       [   65000],\n",
       "       [ 1450000],\n",
       "       [  276000],\n",
       "       [ 2200000],\n",
       "       [  120000],\n",
       "       [   12000],\n",
       "       [  450000],\n",
       "       [   70000],\n",
       "       [   81000],\n",
       "       [   75000],\n",
       "       [  150000],\n",
       "       [11000000],\n",
       "       [   62000],\n",
       "       [   73000],\n",
       "       [   37456],\n",
       "       [  235000],\n",
       "       [  115000],\n",
       "       [  150000],\n",
       "       [ 2250000],\n",
       "       [   80000],\n",
       "       [   82500],\n",
       "       [   75000],\n",
       "       [   12000],\n",
       "       [   38400],\n",
       "       [  225000],\n",
       "       [   50000],\n",
       "       [   34000],\n",
       "       [   90000],\n",
       "       [  200000],\n",
       "       [   60000],\n",
       "       [  200000],\n",
       "       [   50000],\n",
       "       [   80000],\n",
       "       [    8760],\n",
       "       [  151000],\n",
       "       [  120000],\n",
       "       [  700000],\n",
       "       [   20000],\n",
       "       [ 3000000],\n",
       "       [  100000],\n",
       "       [   42000],\n",
       "       [   38400],\n",
       "       [   24000],\n",
       "       [  100000],\n",
       "       [   90000],\n",
       "       [ 7000000],\n",
       "       [ 8500000],\n",
       "       [  220000],\n",
       "       [   80000],\n",
       "       [  135000],\n",
       "       [  240000],\n",
       "       [  150000],\n",
       "       [   82500],\n",
       "       [  100000],\n",
       "       [   70000],\n",
       "       [   53000],\n",
       "       [   90000],\n",
       "       [  153000],\n",
       "       [  160000],\n",
       "       [  168000],\n",
       "       [  150000],\n",
       "       [   95000],\n",
       "       [   13400],\n",
       "       [  144000],\n",
       "       [  159500],\n",
       "       [  160000],\n",
       "       [  423000],\n",
       "       [  120000],\n",
       "       [  125000],\n",
       "       [  230000],\n",
       "       [   85000],\n",
       "       [   24000],\n",
       "       [   54000],\n",
       "       [  110000],\n",
       "       [  165000],\n",
       "       [   80000],\n",
       "       [  250000],\n",
       "       [   55000],\n",
       "       [  150000],\n",
       "       [  170000],\n",
       "       [   60000],\n",
       "       [   60000],\n",
       "       [  235000],\n",
       "       [   51400],\n",
       "       [  174000],\n",
       "       [   58000],\n",
       "       [30400000],\n",
       "       [   81000],\n",
       "       [  420000],\n",
       "       [ 1672000],\n",
       "       [   76760],\n",
       "       [   22000],\n",
       "       [   45000],\n",
       "       [   12000],\n",
       "       [    4000],\n",
       "       [   50000],\n",
       "       [   59000],\n",
       "       [   65000],\n",
       "       [   74000],\n",
       "       [  152000],\n",
       "       [   21844],\n",
       "       [   18000],\n",
       "       [  174000],\n",
       "       [  120500],\n",
       "       [  147000],\n",
       "       [    9272],\n",
       "       [ 1799997],\n",
       "       [ 4000000],\n",
       "       [   90000],\n",
       "       [   52000],\n",
       "       [  195000],\n",
       "       [   32000],\n",
       "       [   50000],\n",
       "       [  160000],\n",
       "       [   69600],\n",
       "       [  200000],\n",
       "       [  165000],\n",
       "       [   20000],\n",
       "       [  120000],\n",
       "       [   21000],\n",
       "       [   48000],\n",
       "       [   48000],\n",
       "       [  435000],\n",
       "       [   21000],\n",
       "       [  185000],\n",
       "       [  180000],\n",
       "       [   76760],\n",
       "       [   75000],\n",
       "       [  140000],\n",
       "       [  180000],\n",
       "       [   85000],\n",
       "       [ 2500000],\n",
       "       [   40900],\n",
       "       [  225000],\n",
       "       [  416000],\n",
       "       [  110000],\n",
       "       [   75000],\n",
       "       [  135000],\n",
       "       [   90000],\n",
       "       [ 1200000],\n",
       "       [  256000],\n",
       "       [  200000],\n",
       "       [  200000],\n",
       "       [  180000],\n",
       "       [  110000],\n",
       "       [   80000],\n",
       "       [   39600],\n",
       "       [    4000],\n",
       "       [ 1600000],\n",
       "       [  130000],\n",
       "       [   80000],\n",
       "       [  110000],\n",
       "       [  165000],\n",
       "       [ 1335000],\n",
       "       [   52500],\n",
       "       [   31000],\n",
       "       [  108000],\n",
       "       [   70000],\n",
       "       [  170000],\n",
       "       [  115000],\n",
       "       [   90000],\n",
       "       [  600000],\n",
       "       [ 2100000],\n",
       "       [   93000],\n",
       "       [  125000],\n",
       "       [  200000],\n",
       "       [  147000],\n",
       "       [  185000],\n",
       "       [  120000],\n",
       "       [  130000],\n",
       "       [   54000],\n",
       "       [ 1250000],\n",
       "       [ 4900000],\n",
       "       [   21600],\n",
       "       [  160000],\n",
       "       [   93150],\n",
       "       [  111775],\n",
       "       [  250000],\n",
       "       [   55000],\n",
       "       [   72500],\n",
       "       [  102000],\n",
       "       [   65000],\n",
       "       [   85000],\n",
       "       [   65720],\n",
       "       [  100000],\n",
       "       [   58000],\n",
       "       [   55000],\n",
       "       [  180000],\n",
       "       [   50000],\n",
       "       [  112000],\n",
       "       [  100000],\n",
       "       [   59000],\n",
       "       [  105000],\n",
       "       [   69999],\n",
       "       [ 7000000],\n",
       "       [   87000],\n",
       "       [  109000],\n",
       "       [   43200],\n",
       "       [  135000],\n",
       "       [  155000],\n",
       "       [  120600],\n",
       "       [  130000],\n",
       "       [   90000],\n",
       "       [  170000],\n",
       "       [  150000],\n",
       "       [  102100],\n",
       "       [   84900],\n",
       "       [  136620],\n",
       "       [   99360],\n",
       "       [   90000],\n",
       "       [   80000],\n",
       "       [  146000],\n",
       "       [  123000],\n",
       "       [   40000],\n",
       "       [   99000],\n",
       "       [  116000],\n",
       "       [  106260],\n",
       "       [  126500],\n",
       "       [  242000],\n",
       "       [  200000],\n",
       "       [   50000],\n",
       "       [   30000],\n",
       "       [   60000],\n",
       "       [   40000],\n",
       "       [  165220],\n",
       "       [   35000],\n",
       "       [  120160],\n",
       "       [   90320],\n",
       "       [  181940],\n",
       "       [  132320],\n",
       "       [  220110],\n",
       "       [  160080],\n",
       "       [  180000],\n",
       "       [  120000],\n",
       "       [  124190],\n",
       "       [  130000],\n",
       "       [  110000],\n",
       "       [  170000],\n",
       "       [  115500],\n",
       "       [  112900],\n",
       "       [   90320],\n",
       "       [  112900],\n",
       "       [   90320],\n",
       "       [  165400],\n",
       "       [  132320],\n",
       "       [  167000],\n",
       "       [  243900],\n",
       "       [  136600],\n",
       "       [  109280],\n",
       "       [  128875],\n",
       "       [   93700],\n",
       "       [  224000],\n",
       "       [  167875],\n",
       "       [  175000],\n",
       "       [  156600],\n",
       "       [  108800],\n",
       "       [   95550],\n",
       "       [  113000],\n",
       "       [  135000],\n",
       "       [  161342],\n",
       "       [  137141],\n",
       "       [  167000],\n",
       "       [  123000],\n",
       "       [   60000],\n",
       "       [   50000],\n",
       "       [  150000],\n",
       "       [  211500],\n",
       "       [  192400],\n",
       "       [   90700],\n",
       "       [  130000],\n",
       "       [   61300],\n",
       "       [  130000],\n",
       "       [   61300],\n",
       "       [  160000],\n",
       "       [  138600],\n",
       "       [  136000],\n",
       "       [   58000],\n",
       "       [  135000],\n",
       "       [  170000],\n",
       "       [  123000],\n",
       "       [  189650],\n",
       "       [  164996],\n",
       "       [   50000],\n",
       "       [   50000],\n",
       "       [  150000],\n",
       "       [  132000],\n",
       "       [  165400],\n",
       "       [  208775],\n",
       "       [  147800],\n",
       "       [  136994],\n",
       "       [  101570],\n",
       "       [  128875],\n",
       "       [   93700],\n",
       "       [ 6000000],\n",
       "       [  132320],\n",
       "       [   28500],\n",
       "       [  164000],\n",
       "       [  155000],\n",
       "       [   95000],\n",
       "       [   75000],\n",
       "       [  120000],\n",
       "       [  112900],\n",
       "       [   90320],\n",
       "       [  145000],\n",
       "       [  105400],\n",
       "       [   80000],\n",
       "       [   90000],\n",
       "       [  215300],\n",
       "       [  158200],\n",
       "       [  209100],\n",
       "       [  154600],\n",
       "       [  115934],\n",
       "       [   81666],\n",
       "       [  175000],\n",
       "       [   75000],\n",
       "       [   58000],\n",
       "       [  183600],\n",
       "       [   40000],\n",
       "       [  180000],\n",
       "       [   55000],\n",
       "       [   35000],\n",
       "       [   60000],\n",
       "       [   45000],\n",
       "       [   60000],\n",
       "       [   45000],\n",
       "       [  260000],\n",
       "       [   60000],\n",
       "       [   63900],\n",
       "       [  160000],\n",
       "       [  112300],\n",
       "       [  241000],\n",
       "       [  159000],\n",
       "       [  180000],\n",
       "       [   80000],\n",
       "       [   82900],\n",
       "       [  100800],\n",
       "       [   45000],\n",
       "       [  140400],\n",
       "       [   30000],\n",
       "       [   40000],\n",
       "       [   30000],\n",
       "       [   80000],\n",
       "       [   70000],\n",
       "       [   80000],\n",
       "       [   70000],\n",
       "       [   60000],\n",
       "       [   80000],\n",
       "       [  189650],\n",
       "       [  164996],\n",
       "       [   40000],\n",
       "       [   30000],\n",
       "       [   75000],\n",
       "       [   60000],\n",
       "       [  215300],\n",
       "       [   70000],\n",
       "       [  209100],\n",
       "       [  154600],\n",
       "       [  180000],\n",
       "       [   20000],\n",
       "       [   80000],\n",
       "       [  100000],\n",
       "       [  250000],\n",
       "       [  120000],\n",
       "       [  125000],\n",
       "       [  240000],\n",
       "       [  105000],\n",
       "       [   80000],\n",
       "       [ 1400000],\n",
       "       [ 2400000],\n",
       "       [   53000],\n",
       "       [  100000],\n",
       "       [   50000],\n",
       "       [ 1400000],\n",
       "       [  148000],\n",
       "       [  120000],\n",
       "       [  144000],\n",
       "       [  104890],\n",
       "       [  100000],\n",
       "       [  140000],\n",
       "       [  135000],\n",
       "       [   50000],\n",
       "       [  220000],\n",
       "       [  140000],\n",
       "       [  140000],\n",
       "       [   70000],\n",
       "       [  185100],\n",
       "       [  220000],\n",
       "       [  200000],\n",
       "       [  120000],\n",
       "       [  120000],\n",
       "       [   65000],\n",
       "       [  324000],\n",
       "       [  216000],\n",
       "       [  210000],\n",
       "       [  120000],\n",
       "       [  230000],\n",
       "       [  100000],\n",
       "       [  100000],\n",
       "       [   29000],\n",
       "       [  200000],\n",
       "       [   75000],\n",
       "       [  150000],\n",
       "       [  100000],\n",
       "       [  100000],\n",
       "       [  153000],\n",
       "       [   52800],\n",
       "       [  165000],\n",
       "       [   85000],\n",
       "       [   66500],\n",
       "       [   57000],\n",
       "       [   30000],\n",
       "       [   40000],\n",
       "       [  121000],\n",
       "       [  115000],\n",
       "       [  120000],\n",
       "       [   75000],\n",
       "       [   59000],\n",
       "       [  120000],\n",
       "       [  157000],\n",
       "       [  150000],\n",
       "       [   90000],\n",
       "       [   65000],\n",
       "       [   65000],\n",
       "       [   20000],\n",
       "       [   48000],\n",
       "       [  152500],\n",
       "       [   62000],\n",
       "       [  115000],\n",
       "       [  380000],\n",
       "       [   88000],\n",
       "       [   10000],\n",
       "       [   20000],\n",
       "       [  405000],\n",
       "       [  135000],\n",
       "       [  177000],\n",
       "       [   78000],\n",
       "       [  135000],\n",
       "       [  100000],\n",
       "       [   90320],\n",
       "       [   85000],\n",
       "       [   75000],\n",
       "       [  214000],\n",
       "       [  192600],\n",
       "       [  266400],\n",
       "       [  213120],\n",
       "       [  112900],\n",
       "       [  155000],\n",
       "       [  141300],\n",
       "       [  102100],\n",
       "       [  115934],\n",
       "       [   81666],\n",
       "       [  206699],\n",
       "       [   99100],\n",
       "       [  130000],\n",
       "       [  115000],\n",
       "       [  110500],\n",
       "       [  130000],\n",
       "       [   99050],\n",
       "       [  160000],\n",
       "       [  205300],\n",
       "       [  140400],\n",
       "       [  176000],\n",
       "       [  144000],\n",
       "       [  200100],\n",
       "       [  160000],\n",
       "       [  145000],\n",
       "       [   70500],\n",
       "       [  205300],\n",
       "       [  140400],\n",
       "       [  205300],\n",
       "       [  184700],\n",
       "       [  175100],\n",
       "       [  140250],\n",
       "       [  116150],\n",
       "       [   54000],\n",
       "       [  170000],\n",
       "       [   50000],\n",
       "       [   80000],\n",
       "       [  140000],\n",
       "       [  210000],\n",
       "       [  140000],\n",
       "       [  100000],\n",
       "       [   69000],\n",
       "       [  210000],\n",
       "       [  140000],\n",
       "       [  210000],\n",
       "       [  150075],\n",
       "       [  100000],\n",
       "       [   25000],\n",
       "       [  126500],\n",
       "       [  106260],\n",
       "       [  220110],\n",
       "       [  160080],\n",
       "       [  105000],\n",
       "       [  110925],\n",
       "       [   35000],\n",
       "       [  140000],\n",
       "       [   99000],\n",
       "       [   60000],\n",
       "       [  192564],\n",
       "       [  144854],\n",
       "       [  230000],\n",
       "       [  150000],\n",
       "       [  150260],\n",
       "       [  109280],\n",
       "       [  210000],\n",
       "       [  170000],\n",
       "       [  160000],\n",
       "       [  130000],\n",
       "       [   67000],\n",
       "       [   52000],\n",
       "       [  154000],\n",
       "       [  126000],\n",
       "       [  129000],\n",
       "       [  150000],\n",
       "       [  200000]], dtype=int64)"
      ]
     },
     "execution_count": 55,
     "metadata": {},
     "output_type": "execute_result"
    }
   ],
   "source": [
    "y"
   ]
  },
  {
   "cell_type": "markdown",
   "metadata": {
    "tags": []
   },
   "source": [
    "### Predict the Model"
   ]
  },
  {
   "cell_type": "code",
   "execution_count": 56,
   "metadata": {
    "scrolled": true
   },
   "outputs": [
    {
     "name": "stdout",
     "output_type": "stream",
     "text": [
      "predict \t:\n",
      "[ 6.97120367e+09  6.97120367e+09 -2.43343213e+12  6.97120367e+09\n",
      " -2.43343213e+12 -4.87383546e+12 -4.87383546e+12 -2.43343213e+12\n",
      " -4.87383546e+12 -2.43343213e+12  6.97120367e+09  6.97120367e+09\n",
      "  6.97120367e+09 -4.87383546e+12 -4.87383546e+12 -2.43343213e+12\n",
      " -4.87383546e+12 -4.87383546e+12 -2.43343213e+12 -4.87383546e+12\n",
      "  6.97120367e+09 -4.87383546e+12 -2.43343213e+12  6.97120367e+09\n",
      "  6.97120367e+09 -4.87383546e+12 -2.43343213e+12  6.97120367e+09\n",
      " -4.87383546e+12 -2.43343213e+12 -4.87383546e+12 -4.87383546e+12\n",
      " -4.87383546e+12  6.97120367e+09 -2.43343213e+12 -2.43343213e+12\n",
      " -4.87383546e+12 -2.43343213e+12 -4.87383546e+12 -4.87383546e+12\n",
      " -4.87383546e+12 -2.43343213e+12  6.97120367e+09 -4.87383546e+12\n",
      " -2.43343213e+12 -4.87383546e+12 -4.87383546e+12 -4.87383546e+12\n",
      " -4.87383546e+12 -2.43343213e+12  6.97120367e+09 -4.87383546e+12\n",
      " -2.43343213e+12 -4.87383546e+12 -4.87383546e+12 -4.87383546e+12\n",
      " -4.87383546e+12 -4.87383546e+12 -2.43343213e+12 -4.87383546e+12\n",
      " -4.87383546e+12 -4.87383546e+12 -2.43343213e+12 -4.87383546e+12\n",
      " -4.87383546e+12 -2.43343213e+12  6.97120367e+09 -4.87383546e+12\n",
      " -4.87383546e+12  6.97120367e+09 -2.43343213e+12 -2.43343213e+12\n",
      " -2.43343213e+12 -4.87383546e+12 -4.87383546e+12 -2.43343213e+12\n",
      " -4.87383546e+12 -2.43343213e+12 -4.87383546e+12 -4.87383546e+12\n",
      " -4.87383546e+12 -4.87383546e+12 -2.43343213e+12 -4.87383546e+12\n",
      " -4.87383546e+12 -4.87383546e+12 -2.43343213e+12 -4.87383546e+12\n",
      " -4.87383546e+12 -4.87383546e+12 -4.87383546e+12 -4.87383546e+12\n",
      " -4.87383546e+12  6.97120367e+09 -2.43343213e+12 -2.43343213e+12\n",
      " -4.87383546e+12 -4.87383546e+12 -4.87383546e+12 -4.87383546e+12\n",
      "  6.97120367e+09 -4.87383546e+12 -2.43343213e+12  6.97120367e+09\n",
      "  6.97120367e+09 -2.43343213e+12 -4.87383546e+12 -4.87383546e+12\n",
      " -4.87383546e+12 -4.87383546e+12 -2.43343213e+12 -4.87383546e+12\n",
      " -4.87383546e+12 -4.87383546e+12 -4.87383546e+12 -4.87383546e+12\n",
      " -4.87383546e+12 -4.87383546e+12 -4.87383546e+12 -4.87383546e+12\n",
      " -2.43343213e+12 -4.87383546e+12 -4.87383546e+12  6.97120367e+09\n",
      " -2.43343213e+12 -4.87383546e+12 -2.43343213e+12  6.97120367e+09\n",
      " -4.87383546e+12 -2.43343213e+12 -2.43343213e+12 -2.43343213e+12\n",
      " -4.87383546e+12 -4.87383546e+12  6.97120367e+09 -4.87383546e+12\n",
      " -2.43343213e+12 -2.43343213e+12  6.97120367e+09 -4.87383546e+12\n",
      " -4.87383546e+12  6.97120367e+09  6.97120367e+09 -4.87383546e+12\n",
      " -4.87383546e+12 -2.43343213e+12 -2.43343213e+12 -4.87383546e+12\n",
      " -4.87383546e+12 -4.87383546e+12  6.97120367e+09 -4.87383546e+12\n",
      " -4.87383546e+12 -4.87383546e+12 -4.87383546e+12 -2.43343213e+12\n",
      " -4.87383546e+12 -2.43343213e+12 -4.87383546e+12 -4.87383546e+12\n",
      " -2.43343213e+12  6.97120367e+09 -2.43343213e+12 -2.43343213e+12\n",
      " -2.43343213e+12 -4.87383546e+12 -4.87383546e+12  6.97120367e+09\n",
      " -2.43343213e+12 -4.87383546e+12 -4.87383546e+12 -4.87383546e+12\n",
      " -4.87383546e+12 -4.87383546e+12 -2.43343213e+12 -4.87383546e+12\n",
      "  6.97120367e+09 -4.87383546e+12 -2.43343213e+12 -4.87383546e+12\n",
      "  6.97120367e+09 -2.43343213e+12  6.97120367e+09 -2.43343213e+12\n",
      " -2.43343213e+12 -4.87383546e+12 -4.87383546e+12 -4.87383546e+12\n",
      " -2.43343213e+12 -2.43343213e+12 -4.87383546e+12 -2.43343213e+12\n",
      "  6.97120367e+09 -4.87383546e+12 -2.43343213e+12 -2.43343213e+12\n",
      " -4.87383546e+12 -4.87383546e+12 -2.43343213e+12 -4.87383546e+12\n",
      " -2.43343213e+12 -4.87383546e+12 -4.87383546e+12 -4.87383546e+12\n",
      " -4.87383546e+12  6.97120367e+09 -4.87383546e+12  6.97120367e+09\n",
      "  6.97120367e+09  6.97120367e+09 -2.43343213e+12 -2.43343213e+12\n",
      " -2.43343213e+12  6.97120367e+09 -2.43343213e+12 -4.87383546e+12\n",
      " -2.43343213e+12 -2.43343213e+12 -4.87383546e+12 -4.87383546e+12\n",
      " -4.87383546e+12 -2.43343213e+12  6.97120367e+09 -2.43343213e+12\n",
      " -4.87383546e+12 -4.87383546e+12 -4.87383546e+12 -2.43343213e+12\n",
      "  6.97120367e+09 -4.87383546e+12 -4.87383546e+12 -4.87383546e+12\n",
      " -4.87383546e+12 -4.87383546e+12 -4.87383546e+12  6.97120367e+09\n",
      " -4.87383546e+12 -4.87383546e+12  6.97120367e+09 -2.43343213e+12\n",
      " -4.87383546e+12 -4.87383546e+12 -4.87383546e+12 -4.87383546e+12\n",
      " -4.87383546e+12 -2.43343213e+12 -2.43343213e+12  6.97120367e+09\n",
      " -2.43343213e+12 -4.87383546e+12 -2.43343213e+12 -4.87383546e+12\n",
      " -4.87383546e+12 -4.87383546e+12 -4.87383546e+12 -2.43343213e+12\n",
      " -4.87383546e+12 -4.87383546e+12 -2.43343213e+12  6.97120367e+09\n",
      " -2.43343213e+12 -2.43343213e+12 -4.87383546e+12  6.97120367e+09\n",
      " -4.87383546e+12 -2.43343213e+12  6.97120367e+09  6.97120367e+09\n",
      " -4.87383546e+12 -2.43343213e+12 -4.87383546e+12  6.97120367e+09\n",
      "  6.97120367e+09 -4.87383546e+12 -2.43343213e+12 -4.87383546e+12\n",
      " -2.43343213e+12 -4.87383546e+12 -2.43343213e+12 -4.87383546e+12\n",
      " -4.87383546e+12  6.97120367e+09 -4.87383546e+12 -4.87383546e+12\n",
      " -2.43343213e+12 -2.43343213e+12 -4.87383546e+12 -2.43343213e+12\n",
      " -2.43343213e+12 -4.87383546e+12 -4.87383546e+12 -4.87383546e+12\n",
      "  6.97120367e+09  6.97120367e+09 -4.87383546e+12 -4.87383546e+12\n",
      " -4.87383546e+12 -4.87383546e+12 -4.87383546e+12 -4.87383546e+12\n",
      "  6.97120367e+09  6.97120367e+09 -4.87383546e+12 -4.87383546e+12\n",
      " -4.87383546e+12  6.97120367e+09  6.97120367e+09  6.97120367e+09\n",
      "  6.97120367e+09 -4.87383546e+12 -4.87383546e+12  6.97120367e+09\n",
      "  6.97120367e+09  6.97120367e+09  6.97120367e+09 -4.87383546e+12\n",
      " -4.87383546e+12 -4.87383546e+12 -4.87383546e+12  6.97120367e+09\n",
      "  6.97120367e+09  6.97120367e+09  6.97120367e+09  6.97120367e+09\n",
      "  6.97120367e+09 -4.87383546e+12 -4.87383546e+12 -4.87383546e+12\n",
      " -4.87383546e+12 -4.87383546e+12 -4.87383546e+12 -4.87383546e+12\n",
      " -4.87383546e+12 -4.87383546e+12 -4.87383546e+12 -4.87383546e+12\n",
      " -4.87383546e+12 -4.87383546e+12 -4.87383546e+12 -4.87383546e+12\n",
      " -4.87383546e+12 -4.87383546e+12 -4.87383546e+12 -4.87383546e+12\n",
      " -4.87383546e+12 -4.87383546e+12  6.97120367e+09  6.97120367e+09\n",
      "  6.97120367e+09 -4.87383546e+12 -4.87383546e+12 -4.87383546e+12\n",
      " -4.87383546e+12 -4.87383546e+12  6.97120367e+09  6.97120367e+09\n",
      "  6.97120367e+09 -4.87383546e+12 -4.87383546e+12 -4.87383546e+12\n",
      " -4.87383546e+12 -4.87383546e+12 -4.87383546e+12 -4.87383546e+12\n",
      "  6.97120367e+09 -4.87383546e+12  6.97120367e+09  6.97120367e+09\n",
      " -4.87383546e+12 -4.87383546e+12 -4.87383546e+12  6.97120367e+09\n",
      "  6.97120367e+09  6.97120367e+09  6.97120367e+09 -4.87383546e+12\n",
      "  6.97120367e+09 -4.87383546e+12 -4.87383546e+12 -4.87383546e+12\n",
      " -4.87383546e+12 -4.87383546e+12 -4.87383546e+12 -4.87383546e+12\n",
      " -2.43343213e+12 -4.87383546e+12 -4.87383546e+12  6.97120367e+09\n",
      " -4.87383546e+12  6.97120367e+09  6.97120367e+09  6.97120367e+09\n",
      " -4.87383546e+12 -4.87383546e+12 -4.87383546e+12 -4.87383546e+12\n",
      " -4.87383546e+12  6.97120367e+09 -4.87383546e+12 -4.87383546e+12\n",
      " -4.87383546e+12 -4.87383546e+12  6.97120367e+09  6.97120367e+09\n",
      " -4.87383546e+12  6.97120367e+09  6.97120367e+09 -4.87383546e+12\n",
      " -4.87383546e+12 -4.87383546e+12  6.97120367e+09  6.97120367e+09\n",
      " -4.87383546e+12 -4.87383546e+12 -4.87383546e+12 -4.87383546e+12\n",
      " -4.87383546e+12 -4.87383546e+12  6.97120367e+09 -4.87383546e+12\n",
      " -4.87383546e+12 -4.87383546e+12 -4.87383546e+12  6.97120367e+09\n",
      "  6.97120367e+09  6.97120367e+09 -4.87383546e+12 -4.87383546e+12\n",
      "  6.97120367e+09 -4.87383546e+12 -4.87383546e+12 -4.87383546e+12\n",
      " -4.87383546e+12 -4.87383546e+12 -4.87383546e+12 -4.87383546e+12\n",
      " -4.87383546e+12 -4.87383546e+12  6.97120367e+09  6.97120367e+09\n",
      " -4.87383546e+12 -4.87383546e+12 -4.87383546e+12 -4.87383546e+12\n",
      "  6.97120367e+09 -4.87383546e+12 -4.87383546e+12 -4.87383546e+12\n",
      " -4.87383546e+12 -4.87383546e+12 -4.87383546e+12 -4.87383546e+12\n",
      " -2.43343213e+12 -4.87383546e+12  6.97120367e+09 -2.43343213e+12\n",
      " -4.87383546e+12  6.97120367e+09 -4.87383546e+12 -4.87383546e+12\n",
      " -2.43343213e+12 -2.43343213e+12 -2.43343213e+12 -4.87383546e+12\n",
      " -4.87383546e+12 -4.87383546e+12 -2.43343213e+12 -4.87383546e+12\n",
      " -4.87383546e+12 -4.87383546e+12 -4.87383546e+12 -4.87383546e+12\n",
      " -4.87383546e+12 -4.87383546e+12  6.97120367e+09  6.97120367e+09\n",
      " -4.87383546e+12 -4.87383546e+12 -4.87383546e+12 -4.87383546e+12\n",
      " -4.87383546e+12 -4.87383546e+12 -4.87383546e+12 -4.87383546e+12\n",
      " -4.87383546e+12 -4.87383546e+12 -4.87383546e+12 -2.43343213e+12\n",
      " -4.87383546e+12 -4.87383546e+12 -4.87383546e+12 -4.87383546e+12\n",
      " -4.87383546e+12 -4.87383546e+12 -4.87383546e+12 -2.43343213e+12\n",
      " -4.87383546e+12 -4.87383546e+12 -2.43343213e+12 -4.87383546e+12\n",
      " -4.87383546e+12 -4.87383546e+12 -4.87383546e+12 -4.87383546e+12\n",
      " -4.87383546e+12 -2.43343213e+12 -4.87383546e+12  6.97120367e+09\n",
      " -4.87383546e+12 -4.87383546e+12 -4.87383546e+12 -2.43343213e+12\n",
      " -4.87383546e+12 -4.87383546e+12  6.97120367e+09 -4.87383546e+12\n",
      " -4.87383546e+12 -4.87383546e+12  6.97120367e+09 -4.87383546e+12\n",
      " -4.87383546e+12 -4.87383546e+12 -4.87383546e+12 -4.87383546e+12\n",
      " -4.87383546e+12 -4.87383546e+12 -4.87383546e+12 -4.87383546e+12\n",
      " -4.87383546e+12 -4.87383546e+12  6.97120367e+09  6.97120367e+09\n",
      " -4.87383546e+12 -4.87383546e+12 -4.87383546e+12 -4.87383546e+12\n",
      " -4.87383546e+12 -4.87383546e+12  6.97120367e+09  6.97120367e+09\n",
      " -4.87383546e+12 -4.87383546e+12  6.97120367e+09  6.97120367e+09\n",
      " -4.87383546e+12 -4.87383546e+12 -4.87383546e+12 -4.87383546e+12\n",
      " -4.87383546e+12 -4.87383546e+12  6.97120367e+09  6.97120367e+09\n",
      " -4.87383546e+12 -4.87383546e+12 -4.87383546e+12 -4.87383546e+12\n",
      " -4.87383546e+12  6.97120367e+09  6.97120367e+09  6.97120367e+09\n",
      "  6.97120367e+09  6.97120367e+09 -4.87383546e+12 -4.87383546e+12\n",
      " -4.87383546e+12  6.97120367e+09 -4.87383546e+12  6.97120367e+09\n",
      " -4.87383546e+12 -4.87383546e+12 -4.87383546e+12 -4.87383546e+12\n",
      " -4.87383546e+12 -4.87383546e+12 -4.87383546e+12 -4.87383546e+12\n",
      " -4.87383546e+12 -4.87383546e+12 -4.87383546e+12 -4.87383546e+12\n",
      " -4.87383546e+12 -4.87383546e+12 -4.87383546e+12 -4.87383546e+12\n",
      " -4.87383546e+12 -4.87383546e+12  6.97120367e+09 -4.87383546e+12\n",
      "  6.97120367e+09 -4.87383546e+12 -4.87383546e+12 -4.87383546e+12\n",
      " -4.87383546e+12 -4.87383546e+12 -4.87383546e+12 -4.87383546e+12\n",
      " -4.87383546e+12 -4.87383546e+12 -4.87383546e+12 -4.87383546e+12\n",
      "  6.97120367e+09  6.97120367e+09 -4.87383546e+12 -4.87383546e+12\n",
      "  6.97120367e+09 -4.87383546e+12 -4.87383546e+12] \n",
      "\n",
      "theta_0\t: [6.97120367e+09]\n",
      "theta_1\t: [-4.88080666e+10]\n",
      "RMSE\t: 3984447264894.3506\n"
     ]
    }
   ],
   "source": [
    "# Regresi Linear dengan Gradient Descent\n",
    "sgdr = SGDRegressor(max_iter=10000)\n",
    "sgdr.fit(X.reshape(-1,1), y)\n",
    "\n",
    "# Tes Prediksi\n",
    "P = sgdr.predict(X.reshape(-1,1))\n",
    "print(f\"predict \\t:\")\n",
    "print(f\"{P} \\n\")\n",
    "\n",
    "print(f\"theta_0\\t: {sgdr.intercept_}\")\n",
    "print(f\"theta_1\\t: {sgdr.coef_}\")\n",
    "print(f\"RMSE\\t: {np.sqrt(mean_squared_error(P, y))}\")"
   ]
  },
  {
   "cell_type": "code",
   "execution_count": 57,
   "metadata": {
    "scrolled": true
   },
   "outputs": [
    {
     "data": {
      "image/png": "[encoded data removed]",
      "text/plain": [
       "<Figure size 432x288 with 1 Axes>"
      ]
     },
     "metadata": {},
     "output_type": "display_data"
    }
   ],
   "source": [
    "# Tampilkan dengan Grafik\n",
    "plt.scatter(X, y)\n",
    "plt.plot(X, P.reshape(1, -1)[0], marker='x')\n",
    "plt.show()"
   ]
  },
  {
   "cell_type": "code",
   "execution_count": null,
   "metadata": {},
   "outputs": [],
   "source": []
  }
 ],
 "metadata": {
  "colab": {
   "provenance": []
  },
  "kernelspec": {
   "display_name": "Python 3 (ipykernel)",
   "language": "python",
   "name": "python3"
  },
  "language_info": {
   "codemirror_mode": {
    "name": "ipython",
    "version": 3
   },
   "file_extension": ".py",
   "mimetype": "text/x-python",
   "name": "python",
   "nbconvert_exporter": "python",
   "pygments_lexer": "ipython3",
   "version": "3.9.12"
  }
 },
 "nbformat": 4,
 "nbformat_minor": 4
}
