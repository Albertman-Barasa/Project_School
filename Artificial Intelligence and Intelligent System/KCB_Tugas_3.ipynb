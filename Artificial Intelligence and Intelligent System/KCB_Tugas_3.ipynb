{
 "cells": [
  {
   "cell_type": "markdown",
   "metadata": {
    "id": "dD0Q2LiK8kos"
   },
   "source": [
    "# **Tugas 3 Laboratorium Kecerdasan Buatan - Naive Bayes**\n",
    "(Nama / NIM)"
   ]
  },
  {
   "cell_type": "markdown",
   "metadata": {
    "id": "shRceHvH9Bn6"
   },
   "source": [
    "Di tugas ini, anda bertugas untuk melakukan beberapa hal. \n",
    "\n",
    "* **Tugas pertama adalah menjelaskan dengan definisi anda sendiri, bagaimana algoritma naive bayes bekerja.**\n",
    "\n",
    "* **Tugas kedua adalah anda harus membuat model naive bayes, dan melakukan prediksi dengan model tersebut!**"
   ]
  },
  {
   "cell_type": "markdown",
   "metadata": {
    "id": "xnOTi9hvc-sI"
   },
   "source": [
    "## **1. DEFINISI NAIVE BAYES**"
   ]
  },
  {
   "cell_type": "markdown",
   "metadata": {
    "id": "1rtReGkZdDPG"
   },
   "source": [
    "Definisi Naive Bayes menurut saya adalah ....."
   ]
  },
  {
   "cell_type": "markdown",
   "metadata": {},
   "source": [
    "> Naive Bayes adalah sebuah **teknik prediksi berdasarkan probabilitas yang sederhana dan penerapan teorema Bayes (atau Bayes rule) dengan mengasumsikan independensi (kumpulan fitur yang digunakan untuk mengklasifikasi) yang kuat**. Dalam hal ini, diasumsikan bahwa tidak adanya atau adanya Peristiwa tertentu dari suatu kelompok tidak terkait atau tidak ada hubungannya dengan tidak adanya atau kehadiran orang lain Peristiwa. Secara sederhananya, **setiap kumpulan fitur tidak saling mempengaruhi satu sama lain** sehingga hal ini dapat menyederhanakan perhitungan nantinya."
   ]
  },
  {
   "cell_type": "markdown",
   "metadata": {
    "id": "SCWKTLHfAH2X"
   },
   "source": [
    "## **2. MODEL DAN PREDIKSI NAIVE BAYES**"
   ]
  },
  {
   "cell_type": "markdown",
   "metadata": {
    "id": "CINUfCiOdRp1"
   },
   "source": [
    "Buatlah model naive bayes disini. Gunakan dataset yang dipakai di KNN sebelumnya."
   ]
  },
  {
   "cell_type": "code",
   "execution_count": 1,
   "metadata": {
    "id": "mNSG7RBUdTmq"
   },
   "outputs": [],
   "source": [
    "# Import library yang diperlukan\n",
    "\n",
    "# Baca Dataset\n",
    "\n",
    "# Buat Model"
   ]
  },
  {
   "cell_type": "code",
   "execution_count": 2,
   "metadata": {},
   "outputs": [
    {
     "name": "stdout",
     "output_type": "stream",
     "text": [
      "Requirement already satisfied: fitter in c:\\anaconda3\\lib\\site-packages (1.5.2)\n",
      "Requirement already satisfied: pandas in c:\\anaconda3\\lib\\site-packages (from fitter) (1.4.2)\n",
      "Requirement already satisfied: tqdm in c:\\anaconda3\\lib\\site-packages (from fitter) (4.64.0)\n",
      "Requirement already satisfied: scipy>=0.18 in c:\\anaconda3\\lib\\site-packages (from fitter) (1.7.3)\n",
      "Requirement already satisfied: matplotlib in c:\\anaconda3\\lib\\site-packages (from fitter) (3.5.1)\n",
      "Requirement already satisfied: numpy in c:\\anaconda3\\lib\\site-packages (from fitter) (1.21.5)\n",
      "Requirement already satisfied: click in c:\\anaconda3\\lib\\site-packages (from fitter) (8.0.4)\n",
      "Requirement already satisfied: joblib in c:\\anaconda3\\lib\\site-packages (from fitter) (1.1.0)\n",
      "Requirement already satisfied: colorama in c:\\anaconda3\\lib\\site-packages (from click->fitter) (0.4.4)\n",
      "Requirement already satisfied: python-dateutil>=2.7 in c:\\anaconda3\\lib\\site-packages (from matplotlib->fitter) (2.8.2)\n",
      "Requirement already satisfied: kiwisolver>=1.0.1 in c:\\anaconda3\\lib\\site-packages (from matplotlib->fitter) (1.3.2)\n",
      "Requirement already satisfied: pyparsing>=2.2.1 in c:\\anaconda3\\lib\\site-packages (from matplotlib->fitter) (3.0.4)\n",
      "Requirement already satisfied: fonttools>=4.22.0 in c:\\anaconda3\\lib\\site-packages (from matplotlib->fitter) (4.25.0)\n",
      "Requirement already satisfied: packaging>=20.0 in c:\\anaconda3\\lib\\site-packages (from matplotlib->fitter) (21.3)\n",
      "Requirement already satisfied: pillow>=6.2.0 in c:\\anaconda3\\lib\\site-packages (from matplotlib->fitter) (9.0.1)\n",
      "Requirement already satisfied: cycler>=0.10 in c:\\anaconda3\\lib\\site-packages (from matplotlib->fitter) (0.11.0)\n",
      "Requirement already satisfied: six>=1.5 in c:\\anaconda3\\lib\\site-packages (from python-dateutil>=2.7->matplotlib->fitter) (1.16.0)\n",
      "Requirement already satisfied: pytz>=2020.1 in c:\\anaconda3\\lib\\site-packages (from pandas->fitter) (2021.3)\n",
      "Note: you may need to restart the kernel to use updated packages.\n"
     ]
    }
   ],
   "source": [
    "pip install fitter"
   ]
  },
  {
   "cell_type": "code",
   "execution_count": 3,
   "metadata": {
    "id": "zWbg4dC5HYAd"
   },
   "outputs": [],
   "source": [
    "# Panggil Library\n",
    "import pandas as pd               # Untuk tabel data\n",
    "from scipy import stats           # Untuk statistik\n",
    "import numpy as np                # Untuk perhitungan matriks dan data\n",
    "import seaborn as sns             # Untuk visualisasi data\n",
    "import matplotlib.pyplot as plt   # Untuk menampilkan data\n",
    "%matplotlib inline \n",
    "\n",
    "import statsmodels as sm\n",
    "from sklearn.model_selection import train_test_split \n",
    "\n",
    "from sklearn.metrics import classification_report, confusion_matrix, accuracy_score\n",
    "from fitter import Fitter\n",
    "\n",
    "import warnings\n",
    "warnings.filterwarnings('ignore')"
   ]
  },
  {
   "cell_type": "markdown",
   "metadata": {
    "id": "Xlf5xU_3Har1",
    "tags": []
   },
   "source": [
    "### Load Dataset\n",
    "Disini panggil kedua dataset kalian, yang pertama untuk klasifikasi dan yang kedua untuk regresi.\n",
    "\n",
    "Untuk dataset regresi, kalian bebas menggunakan dataset apapun. Pastikan tidak sama dengan teman kalian. \n",
    "\n",
    "Jika sama, maka bagian regresi akan dianggap 0."
   ]
  },
  {
   "cell_type": "code",
   "execution_count": 4,
   "metadata": {
    "id": "oD7NzUOTHpqr"
   },
   "outputs": [],
   "source": [
    "# DataFrame pertama untuk klasifikasi\n",
    "gl = pd.read_csv('Galaxy_2.csv')"
   ]
  },
  {
   "cell_type": "markdown",
   "metadata": {
    "id": "DGCIjOGlJXXR"
   },
   "source": [
    "Coba panggil kedua data kalian."
   ]
  },
  {
   "cell_type": "code",
   "execution_count": 5,
   "metadata": {
    "id": "zJ9cNTiXJZXf"
   },
   "outputs": [
    {
     "data": {
      "text/html": [
       "<div>\n",
       "<style scoped>\n",
       "    .dataframe tbody tr th:only-of-type {\n",
       "        vertical-align: middle;\n",
       "    }\n",
       "\n",
       "    .dataframe tbody tr th {\n",
       "        vertical-align: top;\n",
       "    }\n",
       "\n",
       "    .dataframe thead th {\n",
       "        text-align: right;\n",
       "    }\n",
       "</style>\n",
       "<table border=\"1\" class=\"dataframe\">\n",
       "  <thead>\n",
       "    <tr style=\"text-align: right;\">\n",
       "      <th></th>\n",
       "      <th>alpha</th>\n",
       "      <th>u</th>\n",
       "      <th>class</th>\n",
       "    </tr>\n",
       "  </thead>\n",
       "  <tbody>\n",
       "    <tr>\n",
       "      <th>0</th>\n",
       "      <td>135.689107</td>\n",
       "      <td>23.87882</td>\n",
       "      <td>GALAXY</td>\n",
       "    </tr>\n",
       "    <tr>\n",
       "      <th>1</th>\n",
       "      <td>144.826101</td>\n",
       "      <td>24.77759</td>\n",
       "      <td>GALAXY</td>\n",
       "    </tr>\n",
       "    <tr>\n",
       "      <th>2</th>\n",
       "      <td>142.188790</td>\n",
       "      <td>25.26307</td>\n",
       "      <td>GALAXY</td>\n",
       "    </tr>\n",
       "    <tr>\n",
       "      <th>3</th>\n",
       "      <td>338.741038</td>\n",
       "      <td>22.13682</td>\n",
       "      <td>GALAXY</td>\n",
       "    </tr>\n",
       "    <tr>\n",
       "      <th>4</th>\n",
       "      <td>345.282593</td>\n",
       "      <td>19.43718</td>\n",
       "      <td>GALAXY</td>\n",
       "    </tr>\n",
       "    <tr>\n",
       "      <th>...</th>\n",
       "      <td>...</td>\n",
       "      <td>...</td>\n",
       "      <td>...</td>\n",
       "    </tr>\n",
       "    <tr>\n",
       "      <th>99995</th>\n",
       "      <td>39.620709</td>\n",
       "      <td>22.16759</td>\n",
       "      <td>GALAXY</td>\n",
       "    </tr>\n",
       "    <tr>\n",
       "      <th>99996</th>\n",
       "      <td>29.493819</td>\n",
       "      <td>22.69118</td>\n",
       "      <td>GALAXY</td>\n",
       "    </tr>\n",
       "    <tr>\n",
       "      <th>99997</th>\n",
       "      <td>224.587407</td>\n",
       "      <td>21.16916</td>\n",
       "      <td>GALAXY</td>\n",
       "    </tr>\n",
       "    <tr>\n",
       "      <th>99998</th>\n",
       "      <td>212.268621</td>\n",
       "      <td>25.35039</td>\n",
       "      <td>GALAXY</td>\n",
       "    </tr>\n",
       "    <tr>\n",
       "      <th>99999</th>\n",
       "      <td>196.896053</td>\n",
       "      <td>22.62171</td>\n",
       "      <td>GALAXY</td>\n",
       "    </tr>\n",
       "  </tbody>\n",
       "</table>\n",
       "<p>100000 rows × 3 columns</p>\n",
       "</div>"
      ],
      "text/plain": [
       "            alpha         u   class\n",
       "0      135.689107  23.87882  GALAXY\n",
       "1      144.826101  24.77759  GALAXY\n",
       "2      142.188790  25.26307  GALAXY\n",
       "3      338.741038  22.13682  GALAXY\n",
       "4      345.282593  19.43718  GALAXY\n",
       "...           ...       ...     ...\n",
       "99995   39.620709  22.16759  GALAXY\n",
       "99996   29.493819  22.69118  GALAXY\n",
       "99997  224.587407  21.16916  GALAXY\n",
       "99998  212.268621  25.35039  GALAXY\n",
       "99999  196.896053  22.62171  GALAXY\n",
       "\n",
       "[100000 rows x 3 columns]"
      ]
     },
     "execution_count": 5,
     "metadata": {},
     "output_type": "execute_result"
    }
   ],
   "source": [
    "# Panggil dataset\n",
    "gl"
   ]
  },
  {
   "cell_type": "markdown",
   "metadata": {
    "tags": []
   },
   "source": [
    "### Data Cleaning"
   ]
  },
  {
   "cell_type": "markdown",
   "metadata": {},
   "source": [
    "Kita lihat apakah ada data yang kosong ditiap kolom."
   ]
  },
  {
   "cell_type": "code",
   "execution_count": 6,
   "metadata": {},
   "outputs": [
    {
     "data": {
      "text/plain": [
       "alpha    0\n",
       "u        0\n",
       "class    0\n",
       "dtype: int64"
      ]
     },
     "execution_count": 6,
     "metadata": {},
     "output_type": "execute_result"
    }
   ],
   "source": [
    "gl.isnull().sum()"
   ]
  },
  {
   "cell_type": "markdown",
   "metadata": {
    "tags": []
   },
   "source": [
    "### Data Wrangling"
   ]
  },
  {
   "cell_type": "code",
   "execution_count": 7,
   "metadata": {},
   "outputs": [
    {
     "data": {
      "text/plain": [
       "(100000, 3)"
      ]
     },
     "execution_count": 7,
     "metadata": {},
     "output_type": "execute_result"
    }
   ],
   "source": [
    "# Disini kita lihat bentuk data\n",
    "\n",
    "gl.shape"
   ]
  },
  {
   "cell_type": "code",
   "execution_count": 8,
   "metadata": {
    "tags": []
   },
   "outputs": [
    {
     "data": {
      "text/html": [
       "<div>\n",
       "<style scoped>\n",
       "    .dataframe tbody tr th:only-of-type {\n",
       "        vertical-align: middle;\n",
       "    }\n",
       "\n",
       "    .dataframe tbody tr th {\n",
       "        vertical-align: top;\n",
       "    }\n",
       "\n",
       "    .dataframe thead th {\n",
       "        text-align: right;\n",
       "    }\n",
       "</style>\n",
       "<table border=\"1\" class=\"dataframe\">\n",
       "  <thead>\n",
       "    <tr style=\"text-align: right;\">\n",
       "      <th></th>\n",
       "      <th>alpha</th>\n",
       "      <th>u</th>\n",
       "    </tr>\n",
       "  </thead>\n",
       "  <tbody>\n",
       "    <tr>\n",
       "      <th>count</th>\n",
       "      <td>100000.000000</td>\n",
       "      <td>100000.000000</td>\n",
       "    </tr>\n",
       "    <tr>\n",
       "      <th>mean</th>\n",
       "      <td>177.629117</td>\n",
       "      <td>21.980468</td>\n",
       "    </tr>\n",
       "    <tr>\n",
       "      <th>std</th>\n",
       "      <td>96.502241</td>\n",
       "      <td>31.769291</td>\n",
       "    </tr>\n",
       "    <tr>\n",
       "      <th>min</th>\n",
       "      <td>0.005528</td>\n",
       "      <td>-9999.000000</td>\n",
       "    </tr>\n",
       "    <tr>\n",
       "      <th>25%</th>\n",
       "      <td>127.518222</td>\n",
       "      <td>20.352353</td>\n",
       "    </tr>\n",
       "    <tr>\n",
       "      <th>50%</th>\n",
       "      <td>180.900700</td>\n",
       "      <td>22.179135</td>\n",
       "    </tr>\n",
       "    <tr>\n",
       "      <th>75%</th>\n",
       "      <td>233.895005</td>\n",
       "      <td>23.687440</td>\n",
       "    </tr>\n",
       "    <tr>\n",
       "      <th>max</th>\n",
       "      <td>359.999810</td>\n",
       "      <td>32.781390</td>\n",
       "    </tr>\n",
       "  </tbody>\n",
       "</table>\n",
       "</div>"
      ],
      "text/plain": [
       "               alpha              u\n",
       "count  100000.000000  100000.000000\n",
       "mean      177.629117      21.980468\n",
       "std        96.502241      31.769291\n",
       "min         0.005528   -9999.000000\n",
       "25%       127.518222      20.352353\n",
       "50%       180.900700      22.179135\n",
       "75%       233.895005      23.687440\n",
       "max       359.999810      32.781390"
      ]
     },
     "execution_count": 8,
     "metadata": {},
     "output_type": "execute_result"
    }
   ],
   "source": [
    "gl.describe()"
   ]
  },
  {
   "cell_type": "code",
   "execution_count": 9,
   "metadata": {},
   "outputs": [
    {
     "name": "stdout",
     "output_type": "stream",
     "text": [
      "<class 'pandas.core.frame.DataFrame'>\n",
      "RangeIndex: 100000 entries, 0 to 99999\n",
      "Data columns (total 3 columns):\n",
      " #   Column  Non-Null Count   Dtype  \n",
      "---  ------  --------------   -----  \n",
      " 0   alpha   100000 non-null  float64\n",
      " 1   u       100000 non-null  float64\n",
      " 2   class   100000 non-null  object \n",
      "dtypes: float64(2), object(1)\n",
      "memory usage: 2.3+ MB\n"
     ]
    }
   ],
   "source": [
    "gl.info()"
   ]
  },
  {
   "cell_type": "markdown",
   "metadata": {},
   "source": [
    "karena kolom class masih bertipe object, mari kita ganti ke tipe category"
   ]
  },
  {
   "cell_type": "code",
   "execution_count": 10,
   "metadata": {},
   "outputs": [
    {
     "data": {
      "text/plain": [
       "alpha     float64\n",
       "u         float64\n",
       "class    category\n",
       "dtype: object"
      ]
     },
     "execution_count": 10,
     "metadata": {},
     "output_type": "execute_result"
    }
   ],
   "source": [
    "# ubah tipe data\n",
    "\n",
    "gl[\"class\"] = gl[\"class\"].astype(\"category\")\n",
    "\n",
    "gl.dtypes"
   ]
  },
  {
   "cell_type": "markdown",
   "metadata": {
    "tags": []
   },
   "source": [
    "### Exploratory Data Analysis"
   ]
  },
  {
   "cell_type": "markdown",
   "metadata": {},
   "source": [
    "Disini, kita akan lihat kondisi data untuk beberapa variabel. Disini juga kita lihat hubungan antar variabel, terutama bagaimana beberapa kolom berhubungan dengan kolom yang ingin kita prediksi, kolom class."
   ]
  },
  {
   "cell_type": "markdown",
   "metadata": {},
   "source": [
    "Pertama, coba kita lihat class, bagaimana komposisinya?"
   ]
  },
  {
   "cell_type": "code",
   "execution_count": 11,
   "metadata": {},
   "outputs": [
    {
     "data": {
      "text/plain": [
       "GALAXY    59445\n",
       "STAR      21594\n",
       "QSO       18961\n",
       "Name: class, dtype: int64"
      ]
     },
     "execution_count": 11,
     "metadata": {},
     "output_type": "execute_result"
    }
   ],
   "source": [
    "gl['class'].value_counts()"
   ]
  },
  {
   "cell_type": "code",
   "execution_count": 12,
   "metadata": {},
   "outputs": [
    {
     "data": {
      "image/png": "[encoded data removed]",
      "text/plain": [
       "<Figure size 576x288 with 1 Axes>"
      ]
     },
     "metadata": {
      "needs_background": "light"
     },
     "output_type": "display_data"
    }
   ],
   "source": [
    "# Kita gunakan barchart\n",
    "\n",
    "plt.figure(figsize=(8, 4))\n",
    "sns.countplot(x='class',data=gl)\n",
    "plt.title('Tipe Class')\n",
    "plt.show()"
   ]
  },
  {
   "cell_type": "code",
   "execution_count": 13,
   "metadata": {},
   "outputs": [
    {
     "data": {
      "image/png": "[encoded data removed]",
      "text/plain": [
       "<Figure size 720x360 with 1 Axes>"
      ]
     },
     "metadata": {
      "needs_background": "light"
     },
     "output_type": "display_data"
    }
   ],
   "source": [
    "import matplotlib.pyplot as plt\n",
    "import seaborn as sns\n",
    "plt.figure(figsize=(10, 5))\n",
    "sns.scatterplot(\n",
    "  x=gl['alpha'],\n",
    "  y=gl['u'],\n",
    ")\n",
    "plt.title('Persebaran Data')\n",
    "plt.show()"
   ]
  },
  {
   "cell_type": "markdown",
   "metadata": {},
   "source": [
    "Data diatas didapatkan dari penampakan awal bentuk data kita. Oleh karena terdapat satu outlier yang tidak terlalu menganggu bentuk data, maka saya mencoba menghilangkan outlier tersebut agar kita bisa melihat distribusi data dengan baik."
   ]
  },
  {
   "cell_type": "code",
   "execution_count": 14,
   "metadata": {},
   "outputs": [
    {
     "data": {
      "text/html": [
       "<div>\n",
       "<style scoped>\n",
       "    .dataframe tbody tr th:only-of-type {\n",
       "        vertical-align: middle;\n",
       "    }\n",
       "\n",
       "    .dataframe tbody tr th {\n",
       "        vertical-align: top;\n",
       "    }\n",
       "\n",
       "    .dataframe thead th {\n",
       "        text-align: right;\n",
       "    }\n",
       "</style>\n",
       "<table border=\"1\" class=\"dataframe\">\n",
       "  <thead>\n",
       "    <tr style=\"text-align: right;\">\n",
       "      <th></th>\n",
       "      <th>alpha</th>\n",
       "      <th>u</th>\n",
       "      <th>class</th>\n",
       "    </tr>\n",
       "  </thead>\n",
       "  <tbody>\n",
       "    <tr>\n",
       "      <th>79543</th>\n",
       "      <td>224.006526</td>\n",
       "      <td>-9999.0</td>\n",
       "      <td>STAR</td>\n",
       "    </tr>\n",
       "  </tbody>\n",
       "</table>\n",
       "</div>"
      ],
      "text/plain": [
       "            alpha       u class\n",
       "79543  224.006526 -9999.0  STAR"
      ]
     },
     "execution_count": 14,
     "metadata": {},
     "output_type": "execute_result"
    }
   ],
   "source": [
    "# 13. code here\n",
    "\n",
    "gl[gl['u'] < -1000]"
   ]
  },
  {
   "cell_type": "code",
   "execution_count": 15,
   "metadata": {},
   "outputs": [
    {
     "data": {
      "text/html": [
       "<div>\n",
       "<style scoped>\n",
       "    .dataframe tbody tr th:only-of-type {\n",
       "        vertical-align: middle;\n",
       "    }\n",
       "\n",
       "    .dataframe tbody tr th {\n",
       "        vertical-align: top;\n",
       "    }\n",
       "\n",
       "    .dataframe thead th {\n",
       "        text-align: right;\n",
       "    }\n",
       "</style>\n",
       "<table border=\"1\" class=\"dataframe\">\n",
       "  <thead>\n",
       "    <tr style=\"text-align: right;\">\n",
       "      <th></th>\n",
       "      <th>alpha</th>\n",
       "      <th>u</th>\n",
       "      <th>class</th>\n",
       "    </tr>\n",
       "  </thead>\n",
       "  <tbody>\n",
       "    <tr>\n",
       "      <th>0</th>\n",
       "      <td>135.689107</td>\n",
       "      <td>23.87882</td>\n",
       "      <td>GALAXY</td>\n",
       "    </tr>\n",
       "    <tr>\n",
       "      <th>1</th>\n",
       "      <td>144.826101</td>\n",
       "      <td>24.77759</td>\n",
       "      <td>GALAXY</td>\n",
       "    </tr>\n",
       "    <tr>\n",
       "      <th>2</th>\n",
       "      <td>142.188790</td>\n",
       "      <td>25.26307</td>\n",
       "      <td>GALAXY</td>\n",
       "    </tr>\n",
       "    <tr>\n",
       "      <th>3</th>\n",
       "      <td>338.741038</td>\n",
       "      <td>22.13682</td>\n",
       "      <td>GALAXY</td>\n",
       "    </tr>\n",
       "    <tr>\n",
       "      <th>4</th>\n",
       "      <td>345.282593</td>\n",
       "      <td>19.43718</td>\n",
       "      <td>GALAXY</td>\n",
       "    </tr>\n",
       "    <tr>\n",
       "      <th>...</th>\n",
       "      <td>...</td>\n",
       "      <td>...</td>\n",
       "      <td>...</td>\n",
       "    </tr>\n",
       "    <tr>\n",
       "      <th>99995</th>\n",
       "      <td>39.620709</td>\n",
       "      <td>22.16759</td>\n",
       "      <td>GALAXY</td>\n",
       "    </tr>\n",
       "    <tr>\n",
       "      <th>99996</th>\n",
       "      <td>29.493819</td>\n",
       "      <td>22.69118</td>\n",
       "      <td>GALAXY</td>\n",
       "    </tr>\n",
       "    <tr>\n",
       "      <th>99997</th>\n",
       "      <td>224.587407</td>\n",
       "      <td>21.16916</td>\n",
       "      <td>GALAXY</td>\n",
       "    </tr>\n",
       "    <tr>\n",
       "      <th>99998</th>\n",
       "      <td>212.268621</td>\n",
       "      <td>25.35039</td>\n",
       "      <td>GALAXY</td>\n",
       "    </tr>\n",
       "    <tr>\n",
       "      <th>99999</th>\n",
       "      <td>196.896053</td>\n",
       "      <td>22.62171</td>\n",
       "      <td>GALAXY</td>\n",
       "    </tr>\n",
       "  </tbody>\n",
       "</table>\n",
       "<p>99999 rows × 3 columns</p>\n",
       "</div>"
      ],
      "text/plain": [
       "            alpha         u   class\n",
       "0      135.689107  23.87882  GALAXY\n",
       "1      144.826101  24.77759  GALAXY\n",
       "2      142.188790  25.26307  GALAXY\n",
       "3      338.741038  22.13682  GALAXY\n",
       "4      345.282593  19.43718  GALAXY\n",
       "...           ...       ...     ...\n",
       "99995   39.620709  22.16759  GALAXY\n",
       "99996   29.493819  22.69118  GALAXY\n",
       "99997  224.587407  21.16916  GALAXY\n",
       "99998  212.268621  25.35039  GALAXY\n",
       "99999  196.896053  22.62171  GALAXY\n",
       "\n",
       "[99999 rows x 3 columns]"
      ]
     },
     "execution_count": 15,
     "metadata": {},
     "output_type": "execute_result"
    }
   ],
   "source": [
    "# 11. code here\n",
    "\n",
    "gl = gl[(gl.u != -9999.0)]\n",
    "gl"
   ]
  },
  {
   "cell_type": "code",
   "execution_count": 16,
   "metadata": {},
   "outputs": [
    {
     "data": {
      "image/png": "[encoded data removed]",
      "text/plain": [
       "<Figure size 720x360 with 1 Axes>"
      ]
     },
     "metadata": {
      "needs_background": "light"
     },
     "output_type": "display_data"
    }
   ],
   "source": [
    "import matplotlib.pyplot as plt\n",
    "import seaborn as sns\n",
    "plt.figure(figsize=(10, 5))\n",
    "sns.scatterplot(\n",
    "  x=gl['alpha'],\n",
    "  y=gl['u'],\n",
    ")\n",
    "plt.title('Persebaran Data Setelah Perubahan Sebelumnya')\n",
    "plt.show()"
   ]
  },
  {
   "cell_type": "markdown",
   "metadata": {},
   "source": [
    "Selanjutnya, coba kita lihat data-data yang numerik."
   ]
  },
  {
   "cell_type": "code",
   "execution_count": 17,
   "metadata": {},
   "outputs": [
    {
     "data": {
      "text/html": [
       "<div>\n",
       "<style scoped>\n",
       "    .dataframe tbody tr th:only-of-type {\n",
       "        vertical-align: middle;\n",
       "    }\n",
       "\n",
       "    .dataframe tbody tr th {\n",
       "        vertical-align: top;\n",
       "    }\n",
       "\n",
       "    .dataframe thead th {\n",
       "        text-align: right;\n",
       "    }\n",
       "</style>\n",
       "<table border=\"1\" class=\"dataframe\">\n",
       "  <thead>\n",
       "    <tr style=\"text-align: right;\">\n",
       "      <th></th>\n",
       "      <th>alpha</th>\n",
       "      <th>u</th>\n",
       "    </tr>\n",
       "  </thead>\n",
       "  <tbody>\n",
       "    <tr>\n",
       "      <th>count</th>\n",
       "      <td>99999.000000</td>\n",
       "      <td>99999.000000</td>\n",
       "    </tr>\n",
       "    <tr>\n",
       "      <th>mean</th>\n",
       "      <td>177.628653</td>\n",
       "      <td>22.080679</td>\n",
       "    </tr>\n",
       "    <tr>\n",
       "      <th>std</th>\n",
       "      <td>96.502612</td>\n",
       "      <td>2.251068</td>\n",
       "    </tr>\n",
       "    <tr>\n",
       "      <th>min</th>\n",
       "      <td>0.005528</td>\n",
       "      <td>10.996230</td>\n",
       "    </tr>\n",
       "    <tr>\n",
       "      <th>25%</th>\n",
       "      <td>127.517698</td>\n",
       "      <td>20.352410</td>\n",
       "    </tr>\n",
       "    <tr>\n",
       "      <th>50%</th>\n",
       "      <td>180.900527</td>\n",
       "      <td>22.179140</td>\n",
       "    </tr>\n",
       "    <tr>\n",
       "      <th>75%</th>\n",
       "      <td>233.895005</td>\n",
       "      <td>23.687480</td>\n",
       "    </tr>\n",
       "    <tr>\n",
       "      <th>max</th>\n",
       "      <td>359.999810</td>\n",
       "      <td>32.781390</td>\n",
       "    </tr>\n",
       "  </tbody>\n",
       "</table>\n",
       "</div>"
      ],
      "text/plain": [
       "              alpha             u\n",
       "count  99999.000000  99999.000000\n",
       "mean     177.628653     22.080679\n",
       "std       96.502612      2.251068\n",
       "min        0.005528     10.996230\n",
       "25%      127.517698     20.352410\n",
       "50%      180.900527     22.179140\n",
       "75%      233.895005     23.687480\n",
       "max      359.999810     32.781390"
      ]
     },
     "execution_count": 17,
     "metadata": {},
     "output_type": "execute_result"
    }
   ],
   "source": [
    "# Kita lihat saja secara sekilas dengan describe\n",
    "gl.describe()"
   ]
  },
  {
   "cell_type": "markdown",
   "metadata": {
    "id": "k_MD5-G6HT6W"
   },
   "source": [
    "Coba kita cek distribusi tiap-tiap kolom ini."
   ]
  },
  {
   "cell_type": "code",
   "execution_count": 18,
   "metadata": {
    "colab": {
     "base_uri": "https://localhost:8080/",
     "height": 515
    },
    "id": "cQQuJutyGIfs",
    "outputId": "3cb2a1c3-4ad9-41e5-f28a-026f7cf32a80"
   },
   "outputs": [
    {
     "name": "stderr",
     "output_type": "stream",
     "text": [
      "Fitting 1 distributions: 100%|██████████| 1/1 [00:00<00:00, 19.00it/s]\n"
     ]
    },
    {
     "data": {
      "text/html": [
       "<div>\n",
       "<style scoped>\n",
       "    .dataframe tbody tr th:only-of-type {\n",
       "        vertical-align: middle;\n",
       "    }\n",
       "\n",
       "    .dataframe tbody tr th {\n",
       "        vertical-align: top;\n",
       "    }\n",
       "\n",
       "    .dataframe thead th {\n",
       "        text-align: right;\n",
       "    }\n",
       "</style>\n",
       "<table border=\"1\" class=\"dataframe\">\n",
       "  <thead>\n",
       "    <tr style=\"text-align: right;\">\n",
       "      <th></th>\n",
       "      <th>sumsquare_error</th>\n",
       "      <th>aic</th>\n",
       "      <th>bic</th>\n",
       "      <th>kl_div</th>\n",
       "      <th>ks_statistic</th>\n",
       "      <th>ks_pvalue</th>\n",
       "    </tr>\n",
       "  </thead>\n",
       "  <tbody>\n",
       "    <tr>\n",
       "      <th>norm</th>\n",
       "      <td>0.000353</td>\n",
       "      <td>1217.71711</td>\n",
       "      <td>-1.946255e+06</td>\n",
       "      <td>inf</td>\n",
       "      <td>0.071141</td>\n",
       "      <td>0.0</td>\n",
       "    </tr>\n",
       "  </tbody>\n",
       "</table>\n",
       "</div>"
      ],
      "text/plain": [
       "      sumsquare_error         aic           bic  kl_div  ks_statistic  \\\n",
       "norm         0.000353  1217.71711 -1.946255e+06     inf      0.071141   \n",
       "\n",
       "      ks_pvalue  \n",
       "norm        0.0  "
      ]
     },
     "execution_count": 18,
     "metadata": {},
     "output_type": "execute_result"
    },
    {
     "data": {
      "image/png": "[encoded data removed]",
      "text/plain": [
       "<Figure size 432x288 with 1 Axes>"
      ]
     },
     "metadata": {
      "needs_background": "light"
     },
     "output_type": "display_data"
    }
   ],
   "source": [
    "test = Fitter(gl['alpha'], distributions = ['norm'])\n",
    "test.fit()\n",
    "test.summary()"
   ]
  },
  {
   "cell_type": "code",
   "execution_count": 19,
   "metadata": {},
   "outputs": [
    {
     "name": "stderr",
     "output_type": "stream",
     "text": [
      "Fitting 1 distributions: 100%|██████████| 1/1 [00:00<00:00,  3.44it/s]\n"
     ]
    },
    {
     "data": {
      "text/html": [
       "<div>\n",
       "<style scoped>\n",
       "    .dataframe tbody tr th:only-of-type {\n",
       "        vertical-align: middle;\n",
       "    }\n",
       "\n",
       "    .dataframe tbody tr th {\n",
       "        vertical-align: top;\n",
       "    }\n",
       "\n",
       "    .dataframe thead th {\n",
       "        text-align: right;\n",
       "    }\n",
       "</style>\n",
       "<table border=\"1\" class=\"dataframe\">\n",
       "  <thead>\n",
       "    <tr style=\"text-align: right;\">\n",
       "      <th></th>\n",
       "      <th>sumsquare_error</th>\n",
       "      <th>aic</th>\n",
       "      <th>bic</th>\n",
       "      <th>kl_div</th>\n",
       "      <th>ks_statistic</th>\n",
       "      <th>ks_pvalue</th>\n",
       "    </tr>\n",
       "  </thead>\n",
       "  <tbody>\n",
       "    <tr>\n",
       "      <th>norm</th>\n",
       "      <td>0.012265</td>\n",
       "      <td>1131.205913</td>\n",
       "      <td>-1.591351e+06</td>\n",
       "      <td>inf</td>\n",
       "      <td>0.029124</td>\n",
       "      <td>4.014655e-74</td>\n",
       "    </tr>\n",
       "  </tbody>\n",
       "</table>\n",
       "</div>"
      ],
      "text/plain": [
       "      sumsquare_error          aic           bic  kl_div  ks_statistic  \\\n",
       "norm         0.012265  1131.205913 -1.591351e+06     inf      0.029124   \n",
       "\n",
       "         ks_pvalue  \n",
       "norm  4.014655e-74  "
      ]
     },
     "execution_count": 19,
     "metadata": {},
     "output_type": "execute_result"
    },
    {
     "data": {
      "image/png": "[encoded data removed]",
      "text/plain": [
       "<Figure size 432x288 with 1 Axes>"
      ]
     },
     "metadata": {
      "needs_background": "light"
     },
     "output_type": "display_data"
    }
   ],
   "source": [
    "test = Fitter(gl['u'], distributions = ['norm'])\n",
    "test.fit()\n",
    "test.summary()"
   ]
  },
  {
   "cell_type": "markdown",
   "metadata": {
    "tags": []
   },
   "source": [
    "#### **EDA Conclusion**\n",
    "\n",
    "- Terdapat 3 bagian dari kolom class, yaitu GALAXY(59445), QSO(21594), dan STAR(18960). \n",
    "- Semua data numerik kita terdisribusi normal, kecuali alpha."
   ]
  },
  {
   "cell_type": "markdown",
   "metadata": {
    "tags": []
   },
   "source": [
    "### Features Encoding"
   ]
  },
  {
   "cell_type": "markdown",
   "metadata": {},
   "source": [
    "untuk memudahkan mesin dalam mengolah data kita, mari kita ubah data pada fitur class menjadi numeric."
   ]
  },
  {
   "cell_type": "code",
   "execution_count": 20,
   "metadata": {},
   "outputs": [
    {
     "data": {
      "text/plain": [
       "['GALAXY', 'QSO', 'STAR']\n",
       "Categories (3, object): ['GALAXY', 'QSO', 'STAR']"
      ]
     },
     "execution_count": 20,
     "metadata": {},
     "output_type": "execute_result"
    }
   ],
   "source": [
    "gl['class'].unique()"
   ]
  },
  {
   "cell_type": "code",
   "execution_count": 21,
   "metadata": {},
   "outputs": [],
   "source": [
    "#kita gunakan mapping method\n",
    "\n",
    "map_dict = {\n",
    "    'GALAXY':0,\n",
    "    'QSO': 1,\n",
    "    'STAR': 2 \n",
    "}"
   ]
  },
  {
   "cell_type": "code",
   "execution_count": 22,
   "metadata": {},
   "outputs": [],
   "source": [
    "gl['class'] = gl['class'].map(map_dict)"
   ]
  },
  {
   "cell_type": "code",
   "execution_count": 23,
   "metadata": {},
   "outputs": [
    {
     "data": {
      "text/html": [
       "<div>\n",
       "<style scoped>\n",
       "    .dataframe tbody tr th:only-of-type {\n",
       "        vertical-align: middle;\n",
       "    }\n",
       "\n",
       "    .dataframe tbody tr th {\n",
       "        vertical-align: top;\n",
       "    }\n",
       "\n",
       "    .dataframe thead th {\n",
       "        text-align: right;\n",
       "    }\n",
       "</style>\n",
       "<table border=\"1\" class=\"dataframe\">\n",
       "  <thead>\n",
       "    <tr style=\"text-align: right;\">\n",
       "      <th></th>\n",
       "      <th>alpha</th>\n",
       "      <th>u</th>\n",
       "      <th>class</th>\n",
       "    </tr>\n",
       "  </thead>\n",
       "  <tbody>\n",
       "    <tr>\n",
       "      <th>0</th>\n",
       "      <td>135.689107</td>\n",
       "      <td>23.87882</td>\n",
       "      <td>0</td>\n",
       "    </tr>\n",
       "    <tr>\n",
       "      <th>1</th>\n",
       "      <td>144.826101</td>\n",
       "      <td>24.77759</td>\n",
       "      <td>0</td>\n",
       "    </tr>\n",
       "    <tr>\n",
       "      <th>2</th>\n",
       "      <td>142.188790</td>\n",
       "      <td>25.26307</td>\n",
       "      <td>0</td>\n",
       "    </tr>\n",
       "    <tr>\n",
       "      <th>3</th>\n",
       "      <td>338.741038</td>\n",
       "      <td>22.13682</td>\n",
       "      <td>0</td>\n",
       "    </tr>\n",
       "    <tr>\n",
       "      <th>4</th>\n",
       "      <td>345.282593</td>\n",
       "      <td>19.43718</td>\n",
       "      <td>0</td>\n",
       "    </tr>\n",
       "    <tr>\n",
       "      <th>...</th>\n",
       "      <td>...</td>\n",
       "      <td>...</td>\n",
       "      <td>...</td>\n",
       "    </tr>\n",
       "    <tr>\n",
       "      <th>99995</th>\n",
       "      <td>39.620709</td>\n",
       "      <td>22.16759</td>\n",
       "      <td>0</td>\n",
       "    </tr>\n",
       "    <tr>\n",
       "      <th>99996</th>\n",
       "      <td>29.493819</td>\n",
       "      <td>22.69118</td>\n",
       "      <td>0</td>\n",
       "    </tr>\n",
       "    <tr>\n",
       "      <th>99997</th>\n",
       "      <td>224.587407</td>\n",
       "      <td>21.16916</td>\n",
       "      <td>0</td>\n",
       "    </tr>\n",
       "    <tr>\n",
       "      <th>99998</th>\n",
       "      <td>212.268621</td>\n",
       "      <td>25.35039</td>\n",
       "      <td>0</td>\n",
       "    </tr>\n",
       "    <tr>\n",
       "      <th>99999</th>\n",
       "      <td>196.896053</td>\n",
       "      <td>22.62171</td>\n",
       "      <td>0</td>\n",
       "    </tr>\n",
       "  </tbody>\n",
       "</table>\n",
       "<p>99999 rows × 3 columns</p>\n",
       "</div>"
      ],
      "text/plain": [
       "            alpha         u class\n",
       "0      135.689107  23.87882     0\n",
       "1      144.826101  24.77759     0\n",
       "2      142.188790  25.26307     0\n",
       "3      338.741038  22.13682     0\n",
       "4      345.282593  19.43718     0\n",
       "...           ...       ...   ...\n",
       "99995   39.620709  22.16759     0\n",
       "99996   29.493819  22.69118     0\n",
       "99997  224.587407  21.16916     0\n",
       "99998  212.268621  25.35039     0\n",
       "99999  196.896053  22.62171     0\n",
       "\n",
       "[99999 rows x 3 columns]"
      ]
     },
     "execution_count": 23,
     "metadata": {},
     "output_type": "execute_result"
    }
   ],
   "source": [
    "gl"
   ]
  },
  {
   "cell_type": "markdown",
   "metadata": {
    "tags": []
   },
   "source": [
    "### Features Scalling"
   ]
  },
  {
   "cell_type": "markdown",
   "metadata": {},
   "source": [
    "Sebelum menuju evaluasi, mari kita lakukan feature scaling agar data yang akan di traning jadi lebih bagus."
   ]
  },
  {
   "cell_type": "code",
   "execution_count": 24,
   "metadata": {
    "colab": {
     "base_uri": "https://localhost:8080/"
    },
    "id": "crBZDdQLoF84",
    "outputId": "a0a0d72b-98a5-41c2-87d2-c94423caf7eb"
   },
   "outputs": [
    {
     "data": {
      "text/plain": [
       "array([[135.6891066,  23.87882  ,   0.       ],\n",
       "       [144.8261006,  24.77759  ,   0.       ],\n",
       "       [142.1887896,  25.26307  ,   0.       ],\n",
       "       ...,\n",
       "       [224.5874074,  21.16916  ,   0.       ],\n",
       "       [212.2686211,  25.35039  ,   0.       ],\n",
       "       [196.896053 ,  22.62171  ,   0.       ]])"
      ]
     },
     "execution_count": 24,
     "metadata": {},
     "output_type": "execute_result"
    }
   ],
   "source": [
    "dataset = gl.values\n",
    "dataset"
   ]
  },
  {
   "cell_type": "code",
   "execution_count": 25,
   "metadata": {
    "id": "rDryxneWoHOj"
   },
   "outputs": [],
   "source": [
    "X = dataset[:,1:2] # ket: [baris, kolom] # Variabel Independen\n",
    "y = dataset[0:,2] # Variabel Dependen (label)"
   ]
  },
  {
   "cell_type": "code",
   "execution_count": 26,
   "metadata": {},
   "outputs": [
    {
     "data": {
      "text/plain": [
       "array([[23.87882],\n",
       "       [24.77759],\n",
       "       [25.26307],\n",
       "       ...,\n",
       "       [21.16916],\n",
       "       [25.35039],\n",
       "       [22.62171]])"
      ]
     },
     "execution_count": 26,
     "metadata": {},
     "output_type": "execute_result"
    }
   ],
   "source": [
    "# data pada fitur u\n",
    "\n",
    "X"
   ]
  },
  {
   "cell_type": "code",
   "execution_count": 27,
   "metadata": {
    "tags": []
   },
   "outputs": [
    {
     "data": {
      "text/plain": [
       "array([0., 0., 0., ..., 0., 0., 0.])"
      ]
     },
     "execution_count": 27,
     "metadata": {},
     "output_type": "execute_result"
    }
   ],
   "source": [
    "# data pada fitur class\n",
    "\n",
    "y"
   ]
  },
  {
   "cell_type": "code",
   "execution_count": 28,
   "metadata": {
    "colab": {
     "base_uri": "https://localhost:8080/"
    },
    "id": "YUglQ3SnoIhE",
    "outputId": "5836f444-d86c-4283-9afc-080f4985f6ab"
   },
   "outputs": [
    {
     "data": {
      "text/plain": [
       "array([[0.59134705],\n",
       "       [0.63260311],\n",
       "       [0.65488801],\n",
       "       ...,\n",
       "       [0.46696604],\n",
       "       [0.65889624],\n",
       "       [0.53364217]])"
      ]
     },
     "execution_count": 28,
     "metadata": {},
     "output_type": "execute_result"
    }
   ],
   "source": [
    "from sklearn import preprocessing\n",
    "\n",
    "min_max_scaler = preprocessing.MinMaxScaler()\n",
    "X_scale = min_max_scaler.fit_transform(X)\n",
    "X_scale"
   ]
  },
  {
   "cell_type": "markdown",
   "metadata": {},
   "source": [
    "> Data pada dataset sudah bersih dan siap untuk dilakukan pemodelan"
   ]
  },
  {
   "cell_type": "markdown",
   "metadata": {
    "id": "9CKdGC8lHxJc",
    "tags": []
   },
   "source": [
    "## 3. Model - Klasifikasi dengan Naive Bayes\n",
    "Disini, gunakan data pertama kalian untuk membentuk model Naive Bayes. (Dijelaskan di Colab Modul 4)"
   ]
  },
  {
   "cell_type": "code",
   "execution_count": 29,
   "metadata": {
    "id": "Gt6zuvwAH50b"
   },
   "outputs": [],
   "source": [
    "# Buat objek model KNN\n",
    "\n",
    "# Latih Model"
   ]
  },
  {
   "cell_type": "code",
   "execution_count": 30,
   "metadata": {
    "id": "ibm6XVCNddR1"
   },
   "outputs": [],
   "source": [
    "# Prediksi hasil naive bayes"
   ]
  },
  {
   "cell_type": "code",
   "execution_count": 31,
   "metadata": {
    "id": "i--GdxHJdY5q"
   },
   "outputs": [],
   "source": [
    "# Setelah itu, lakukan prediksi dengan model Naive Bayes yang anda buat."
   ]
  },
  {
   "cell_type": "markdown",
   "metadata": {},
   "source": [
    "### Split data menjadi training dan testing"
   ]
  },
  {
   "cell_type": "markdown",
   "metadata": {},
   "source": [
    "Pertama, **kita bagi dataset menjadi training dan tes**. Mari kita alokasikan 70% untuk training, dan 30% untuk testing."
   ]
  },
  {
   "cell_type": "code",
   "execution_count": 32,
   "metadata": {
    "id": "1JEPoqRyoLop"
   },
   "outputs": [],
   "source": [
    "from sklearn.model_selection import train_test_split\n",
    "\n",
    "X_train, X_test, y_train, y_test = train_test_split(\n",
    "  X_scale, y, test_size=0.3\n",
    ")"
   ]
  },
  {
   "cell_type": "code",
   "execution_count": 33,
   "metadata": {
    "id": "ovzf3RBooOZB"
   },
   "outputs": [],
   "source": [
    "import numpy as np\n",
    "\n",
    "y_train = y_train.astype(np.float32)\n",
    "y_test = y_test.astype(np.float32)"
   ]
  },
  {
   "cell_type": "markdown",
   "metadata": {
    "id": "T1-wyW64FP_o"
   },
   "source": [
    ">Kemudian, kita bentuk model bertipe GaussianNB karena data yang kita punya termasuk tipe data kontinu. `Gaussian Naive Bayes cocok untuk data kontinu`. "
   ]
  },
  {
   "cell_type": "code",
   "execution_count": 34,
   "metadata": {
    "colab": {
     "base_uri": "https://localhost:8080/",
     "height": 75
    },
    "id": "r-fwSOSs0p7t",
    "outputId": "10768ed7-fff0-4693-cc60-5299d708d97a"
   },
   "outputs": [
    {
     "data": {
      "text/plain": [
       "GaussianNB()"
      ]
     },
     "execution_count": 34,
     "metadata": {},
     "output_type": "execute_result"
    }
   ],
   "source": [
    "from sklearn.naive_bayes import GaussianNB\n",
    "model = GaussianNB()\n",
    "model.fit(X_train, y_train)"
   ]
  },
  {
   "cell_type": "markdown",
   "metadata": {
    "id": "s7IV7CcXFenU"
   },
   "source": [
    "Setelah itu, kita coba buat prediksi menggunakan data testing dan kita bandingkan."
   ]
  },
  {
   "cell_type": "code",
   "execution_count": 35,
   "metadata": {
    "colab": {
     "base_uri": "https://localhost:8080/",
     "height": 423
    },
    "id": "SeRlgZKO0uvO",
    "outputId": "641108be-8b36-4e72-b900-99dfa6eccb24"
   },
   "outputs": [
    {
     "data": {
      "text/html": [
       "<div>\n",
       "<style scoped>\n",
       "    .dataframe tbody tr th:only-of-type {\n",
       "        vertical-align: middle;\n",
       "    }\n",
       "\n",
       "    .dataframe tbody tr th {\n",
       "        vertical-align: top;\n",
       "    }\n",
       "\n",
       "    .dataframe thead th {\n",
       "        text-align: right;\n",
       "    }\n",
       "</style>\n",
       "<table border=\"1\" class=\"dataframe\">\n",
       "  <thead>\n",
       "    <tr style=\"text-align: right;\">\n",
       "      <th></th>\n",
       "      <th>Actual Status</th>\n",
       "      <th>Predicted Status</th>\n",
       "    </tr>\n",
       "  </thead>\n",
       "  <tbody>\n",
       "    <tr>\n",
       "      <th>0</th>\n",
       "      <td>0.0</td>\n",
       "      <td>0.0</td>\n",
       "    </tr>\n",
       "    <tr>\n",
       "      <th>1</th>\n",
       "      <td>0.0</td>\n",
       "      <td>0.0</td>\n",
       "    </tr>\n",
       "    <tr>\n",
       "      <th>2</th>\n",
       "      <td>0.0</td>\n",
       "      <td>0.0</td>\n",
       "    </tr>\n",
       "    <tr>\n",
       "      <th>3</th>\n",
       "      <td>1.0</td>\n",
       "      <td>0.0</td>\n",
       "    </tr>\n",
       "    <tr>\n",
       "      <th>4</th>\n",
       "      <td>2.0</td>\n",
       "      <td>0.0</td>\n",
       "    </tr>\n",
       "    <tr>\n",
       "      <th>...</th>\n",
       "      <td>...</td>\n",
       "      <td>...</td>\n",
       "    </tr>\n",
       "    <tr>\n",
       "      <th>29995</th>\n",
       "      <td>0.0</td>\n",
       "      <td>0.0</td>\n",
       "    </tr>\n",
       "    <tr>\n",
       "      <th>29996</th>\n",
       "      <td>2.0</td>\n",
       "      <td>0.0</td>\n",
       "    </tr>\n",
       "    <tr>\n",
       "      <th>29997</th>\n",
       "      <td>1.0</td>\n",
       "      <td>0.0</td>\n",
       "    </tr>\n",
       "    <tr>\n",
       "      <th>29998</th>\n",
       "      <td>0.0</td>\n",
       "      <td>0.0</td>\n",
       "    </tr>\n",
       "    <tr>\n",
       "      <th>29999</th>\n",
       "      <td>0.0</td>\n",
       "      <td>0.0</td>\n",
       "    </tr>\n",
       "  </tbody>\n",
       "</table>\n",
       "<p>30000 rows × 2 columns</p>\n",
       "</div>"
      ],
      "text/plain": [
       "       Actual Status  Predicted Status\n",
       "0                0.0               0.0\n",
       "1                0.0               0.0\n",
       "2                0.0               0.0\n",
       "3                1.0               0.0\n",
       "4                2.0               0.0\n",
       "...              ...               ...\n",
       "29995            0.0               0.0\n",
       "29996            2.0               0.0\n",
       "29997            1.0               0.0\n",
       "29998            0.0               0.0\n",
       "29999            0.0               0.0\n",
       "\n",
       "[30000 rows x 2 columns]"
      ]
     },
     "execution_count": 35,
     "metadata": {},
     "output_type": "execute_result"
    }
   ],
   "source": [
    "y_pred=model.predict(X_test)\n",
    "gl_test = pd.DataFrame({'Actual Status':y_test,'Predicted Status':y_pred})\n",
    "gl_test "
   ]
  },
  {
   "cell_type": "markdown",
   "metadata": {
    "id": "pX8HbbcrFk4D"
   },
   "source": [
    "## **4. Model Evaluation**\n",
    "Disini, kita evaluasi kemampuan model, seperti seberapa akurat model kita."
   ]
  },
  {
   "cell_type": "code",
   "execution_count": 37,
   "metadata": {
    "colab": {
     "base_uri": "https://localhost:8080/"
    },
    "id": "98Psq8U901Uu",
    "outputId": "2638ccbc-3f90-44c8-a91b-d82402a744b9",
    "tags": []
   },
   "outputs": [
    {
     "name": "stdout",
     "output_type": "stream",
     "text": [
      "              precision    recall  f1-score   support\n",
      "\n",
      "         0.0       0.61      0.97      0.75     17867\n",
      "         1.0       0.00      0.00      0.00      5686\n",
      "         2.0       0.59      0.12      0.21      6447\n",
      "\n",
      "    accuracy                           0.61     30000\n",
      "   macro avg       0.40      0.37      0.32     30000\n",
      "weighted avg       0.49      0.61      0.49     30000\n",
      "\n"
     ]
    }
   ],
   "source": [
    "print(classification_report(y_test, y_pred))"
   ]
  },
  {
   "cell_type": "code",
   "execution_count": 38,
   "metadata": {
    "colab": {
     "base_uri": "https://localhost:8080/"
    },
    "id": "jyVavmWo03yh",
    "outputId": "de34a9bd-903b-464f-a818-a1bf0c93b7f0"
   },
   "outputs": [
    {
     "name": "stdout",
     "output_type": "stream",
     "text": [
      "[[17381     0   486]\n",
      " [ 5615     0    71]\n",
      " [ 5646     0   801]]\n"
     ]
    }
   ],
   "source": [
    "print(confusion_matrix(y_test,y_pred))"
   ]
  },
  {
   "cell_type": "code",
   "execution_count": 39,
   "metadata": {
    "colab": {
     "base_uri": "https://localhost:8080/"
    },
    "id": "UFhBkjIh058E",
    "outputId": "92feca87-b95e-42d3-8b7c-4685be923604"
   },
   "outputs": [
    {
     "name": "stdout",
     "output_type": "stream",
     "text": [
      "60.60666666666666\n"
     ]
    }
   ],
   "source": [
    "print(accuracy_score(y_test,y_pred)*100)"
   ]
  },
  {
   "cell_type": "markdown",
   "metadata": {},
   "source": [
    "> Berdasarkan evaluasi model yang kita buat, bisa dilihat bahwa hasilnya tidak cukup baik sehingga diperlukan peningkatan model selanjutnya dengan cara hyperparameter tuning (Model Optimization) sehingga nilai dari evaluasi model bisa meningkat."
   ]
  }
 ],
 "metadata": {
  "colab": {
   "provenance": []
  },
  "kernelspec": {
   "display_name": "Python 3 (ipykernel)",
   "language": "python",
   "name": "python3"
  },
  "language_info": {
   "codemirror_mode": {
    "name": "ipython",
    "version": 3
   },
   "file_extension": ".py",
   "mimetype": "text/x-python",
   "name": "python",
   "nbconvert_exporter": "python",
   "pygments_lexer": "ipython3",
   "version": "3.9.12"
  }
 },
 "nbformat": 4,
 "nbformat_minor": 4
}
